{
 "cells": [
  {
   "cell_type": "markdown",
   "metadata": {},
   "source": [
    "**If you lost points on the last checkpoint you can get them back by responding to TA/IA feedback**  \n",
    "\n",
    "Update/change the relevant sections where you lost those points, make sure you respond on GitHub Issues to your TA/IA to call their attention to the changes you made here.\n",
    "\n",
    "Please update your Timeline... no battle plan survives contact with the enemy, so make sure we understand how your plans have changed."
   ]
  },
  {
   "cell_type": "code",
   "execution_count": 2,
   "metadata": {},
   "outputs": [],
   "source": [
    "import pandas as pd\n",
    "import numpy as np\n",
    "from scipy.stats import linregress\n",
    "import matplotlib.pyplot as plt\n",
    "import seaborn as sns\n",
    "import plotly.express as px\n",
    "import os"
   ]
  },
  {
   "cell_type": "markdown",
   "metadata": {},
   "source": [
    "# COGS 108 - EDA Checkpoint"
   ]
  },
  {
   "cell_type": "markdown",
   "metadata": {},
   "source": [
    "# Names\n",
    "\n",
    "- Levy Sahoo\n",
    "- Keenan Serrao\n",
    "- Leela Stuepfert\n",
    "- Maya Ammar"
   ]
  },
  {
   "cell_type": "markdown",
   "metadata": {},
   "source": [
    "# Research Question"
   ]
  },
  {
   "cell_type": "markdown",
   "metadata": {},
   "source": [
    "-  How do socioeconomic factors influence a nation's performance at the Olympic games?\n",
    "    - What specific factors are the most signifcant towards a nation's medal performance? \n",
    "\n"
   ]
  },
  {
   "cell_type": "markdown",
   "metadata": {},
   "source": [
    "## Background and Prior Work"
   ]
  },
  {
   "cell_type": "markdown",
   "metadata": {},
   "source": [
    "The Olympic games have been deemed as notably the most prestigious sporting event in human history, it’s a collective movement where all the best athletes in the world assemble together for one thing in mind: Glory for their nation. The way to achieve this is to attain a medal. Although it’s fair to say that the Olympic games are a stage that gathers the best of the best on the same platform to evaluate their performances in their respective events, we need to reconsider if there’s actually more to what meets the eye test. Instead of simply asking who will find a spot on the podium, seeing the journeys of the athletes with various backgrounds shifts the focus of the question to how did they arrive to the opportunity to compete for a shot at the podium, and are there quantitative features that we can use to assess regarding their country of origin and socioeconomic backgrounds to help us answer the begging question: \n",
    "\n",
    "**Do economic factors such as GDP and population count correlate to a nation’s successive medal performance at the Olympic games?** \n",
    "\n",
    "**“What do other research studies and deem about factors correlated to a nation’s Olympic Success?”**\n",
    "\n",
    "A 2000 study<a name=\"cite_ref-1\"></a>[<sup>1</sup>](#cite_ref-1) conducted by economists Andrew Bernard and Meghan Busse, explored how economic factors such as GDP and population size impact a nation’s Olympic success. The resport<a name=\"cite_ref-2\"></a>[<sup>2</sup>](#cite_ref-2) summarized by Michael Klien, Professor of International Economic Affairs at Tufts University, identified real GDP as the most significant predictor of a country's medal count, estimating that a 10% increase in income per capita yields a 6.9% increase in medals, assuming population remains constant. Similarly, a 10% population increase, while holding income steady, leads to a 3.6% rise in medals. These findings suggest a clear correlation between economic scale and Olympic performance, providing a foundation for the relevance of these variables in predicting success. On the contrary, some researchers dispute the validity of these regressors upon a nation’s successive medal performance, a more recent 2022 study<a name=\"cite_ref-3\"></a>[<sup>3</sup>](#cite_ref-3) questions the significance of GDP and population on Olympic outcomes, finding that variables such as GDP size, corruption ranking, athlete count, and topography don’t significantly impact medal standings. Instead, factors like inflation rates, economic activity, and income classification seem to offer alternative perspectives on predicting Olympic success. This work introduces a broader range of variables, which can contribute to refining model regressors and understanding potential limitations of traditional economic measures. Since some of these features aren’t open to public availability, such metrics can deliver insights towards the interpretation of the error terms of the linear regression models used to analyze our objective. A separate Georgia Tech analysis<a name=\"cite_ref-4\"></a>[<sup>4</sup>](#cite_ref-4) identifies other influential factors, such as country size and healthcare expenditure per capita, in determining Olympic performance. By highlighting healthcare investment as a predictor, it expands beyond purely economic indicators, suggesting that a nation’s healthcare infrastructure may play a vital role in supporting elite athletic development.\n",
    "\n",
    "While each study offers valuable insights, they present varying perspectives on the significance of GDP and population as predictors of Olympic success, it’s not definitive. Researchers may emphasize GDP and population as core predictors, while others cast doubt on their significance, proposing additional variables such as inflation and economic activity. Georgia Tech’s emphasis on healthcare investment introduces yet another dimension. This divergence highlights the complexity of determining Olympic success factors and suggests that GDP and population, though potentially impactful, may not be exhaustive predictors. By integrating these varied viewpoints, our project can better assess the significance of socioeconomic regressors with common data available as well as analyze the combined effect of these and other regressors, using econometric modeling to explore their potential in predicting Olympic medal ranking success while considering possible model limitations and interpreting the error sources.\n",
    "\n",
    "1. <a name=\"cite_note-1\"></a> [^](#cite_ref-1) Bernard, A. (1 Dec 2002) Who Wins the Olympic Games: Economic Resources and Medal Totals *Review of Economics and Statistics*. https://faculty.tuck.dartmouth.edu/images/uploads/faculty/andrew-bernard/olymp60restat_finaljournalversion.pdf \n",
    "2. <a name=\"cite_note-2\"></a> [^](#cite_ref-2) Klein, M. (17 Jul 2024) What Determines Countries’ Olympic Success? *ECONOFACT* https://econofact.org/what-determines-countries-olympic-success\n",
    "3. <a name=\"cite_note-3\"></a> [^](#cite_ref-3) Sasha, W. (28 May 2022) Assessment of Olympic performance in relation to economic, demographic, geographic, and social factors: quantile and Tobit approaches *Taylor & Francis Online*. https://www.tandfonline.com/doi/full/10.1080/1331677X.2022.2080735#abstract\n",
    "3. <a name=\"cite_note-4\"></a> [^](#cite_ref-4) Boudreau, J. The Miracle on Thin Ice: How A Nation's GDP Affects its Olympic Performance *Georgia Tech University*. https://repository.gatech.edu/server/api/core/bitstreams/1aa2b537-c3de-4177-8295-3fcd3a03a965/content#:~:text=We%20estimate%20that%20GDP%20per,bronze%20medals%20a%20country%20receives\n"
   ]
  },
  {
   "cell_type": "markdown",
   "metadata": {},
   "source": [
    "# Hypotheses\n"
   ]
  },
  {
   "cell_type": "markdown",
   "metadata": {},
   "source": [
    "***Null hypothesis (H<sub>0</sub>):*** There is no significant correlation between a country’s `GDP per capita` or `population` size and its Olympic medal perfomance. \n",
    "\n",
    "\n",
    "- Indication that there is no evidence to suggest that ***GDP per capita*** and ***population*** sizes are affiliated the number of medals a country earns and their overall medal performance.\n",
    "\n",
    "\n",
    "***Alternative hypothesis (H<sub>a</sub>):*** There is a significant correlation between a country’s `GDP per capita` and `population` size upon its Olympic medal performance. \n",
    "\n",
    "\n",
    "- There exists evidence that ***higher GDP per capitas*** and ***larger population sizes*** are likely to be correlated with a nation's olympic medal performance, as increased population and resources may correlate to national team size and likelihood of podium success. \n",
    "\n",
    "\n",
    "\n",
    "***Predictive Reasoning:*** We believe the answer is lies in the alternative hypothesis, that wealthier and more populus countries experience greater Olympic Success. Due to unobserved variables that allow First-World nations to allocate a greater investment towards athletic development, niche sport specific training, and funding, we can expect these nations to achieve greater success in the Olympics. Additionally, countries with a larger population have a larger population of potential athletes to select from, influencing the size of a nation's olympic team, increasing the likelihood of finding more athletes on the podium. Rejecting the Null hypothesis will allow us to accept the alternative and help us verify whether socioeconomic and demographic advantages contribute to Olympic success or not. \n",
    "\n",
    "\n"
   ]
  },
  {
   "cell_type": "markdown",
   "metadata": {},
   "source": [
    "## Overview of Data(sets)\n",
    "\n",
    "\n",
    "#### **Dataset #1: Summer Olympic Medals 1896 - 2020**\n",
    "  - Source: https://www.kaggle.com/datasets/ramontanoeiro/summer-olympic-medals-1986-2020 \n",
    "  - Number of observations: 1344\n",
    "  - Number of variables: 8 \n",
    "\n",
    "\"Summer Olympic Medals 1896–2020,\" is a comprehensive historical record of medals awarded in every Summer Olympic Games from 1896 to 2020, also sourced from Kaggle. Each row provides data on a specific country’s performance in a given Olympic year.\n",
    "\n",
    "Dataset **columns** include:\n",
    "\n",
    "- `Year`\n",
    "- `Host_country`\n",
    "- `Host_city`\n",
    "- `Country_Name`\n",
    "- `Country_Code`\n",
    "- `Gold`\n",
    "- `Silver`\n",
    "- `Bronze`\n",
    "\n",
    "This dataset contains thousands of observations spanning numerous Olympic editions, enabling us to analyze trends in Olympic performance over time. While this dataset does not include economic indicators, it will serve as a foundation for historical analysis of country specific medal achievements, which can later be compared with economic data for a more in depth exploration of trends.\n",
    "\n",
    "#### **Dataset #2: GDP by Country 1999 - 2022**\n",
    "\n",
    "  - Source: https://www.kaggle.com/datasets/alejopaullier/-gdp-by-country-1999-2022\n",
    "  - Number of observations: 180\n",
    "  - Number of variables: 24\n",
    "\n",
    "\"GDP by Country 1999–2022,\" offers annual GDP data for all countries worldwide, covering the years:\n",
    "`1999`\n",
    "...\n",
    "`2022` \n",
    "and the GDPs measured in billions of US dollars. It is structured with rows for each `country` and columns for each `year`, which makes it ideal for tracking economic growth and fluctuations over time. Each cell represents a `country`’s GDP for a specific `year`, allowing for both cross-country comparisons within a single year and longitudinal analysis within a single `country` over multiple years. When this data is merged with the Olympic medal datasets, it will allow us to investigate if economic factors, such as GDP growth or decline, correlate with Olympic success across different time periods.\n",
    "\n",
    "Dataset **columns** include:\n",
    "\n",
    "- `Country`\n",
    "\n",
    "Range of 23 Year columns from:\n",
    "- `1999` - `2022`\n",
    "\n",
    "\n",
    "#### **Dataset #3: 2024 Olympic Medals vs GDP**\n",
    "  - Source: https://www.kaggle.com/datasets/ernestitus/2024-olympics-medals-vs-gdp\n",
    "  - Number of observations: 90\n",
    "  - Number of variables: 10\n",
    "\n",
    "\"2024 Olympics: Medals vs GDP,\" is sourced from Kaggle and modified from Mohamed Yosef’s “2024 Olympics Medals and Economic Status.” It provides data on the performance and economic indicators of countries participating in the 2024 Olympics. This dataset includes information for 90 countries, with each row representing a country and columns detailing attributes such as:\n",
    "\n",
    "- `country`\n",
    "- `country_code` (Nation's Abreviation)\n",
    "- `region` (e.g., Europe, Asia). \n",
    "\n",
    "Olympic performance is recorded through **medal counts**: \n",
    "\n",
    "- `gold`\n",
    "- `silver`\n",
    "- `bronze`\n",
    "- `total`\n",
    "\n",
    "Economic data fields include `gdp`, `gdp_year` (latest GDP data), and `population`, allowing for a thorough exploration of potential correlations between a `country`’s economic profile and its Olympic performance."
   ]
  },
  {
   "cell_type": "markdown",
   "metadata": {},
   "source": [
    "## Summer Olympic Medals 1896 - 2020"
   ]
  },
  {
   "cell_type": "markdown",
   "metadata": {},
   "source": [
    "#### Cleaning Process Explanation: \n",
    "\n",
    "In data set we identified missing values using `df.isnull().sum()` and determined that the missing entries in non-critical columns could be safely ignored without impacting the analysis. Rows with missing values in essential columns (`Country`, `Year`, and `Medal`) were dropped using `df.dropna(subset=['Country', 'Year', 'Medal'])`. To ensure that there was consistency across datasets, we standardized country names using a mapping dictionary (e.g., `{'United States': 'USA', 'Great Britain': 'UK'}`). This mapping was applied with `df['Country'].replace(mapping_dict)`. The Medal column was transformed by creating binary columns for Gold, Silver, and Bronze. This allowed for aggregating medal counts more efficiently. The data was then grouped by Country and Year, summing up medals with `df.groupby(['Country', 'Year']).sum()`. This provided a view of total medals won by each country per Olympic year, which is relevant for our research question. It is important to note that for easier analysis, log-transforming medal counts were considered if they displayed skewed distributions, given that extreme values (from countries with high medal counts) could affect correlation results. Finally, to remain parallel with data from the GDPs Dataset, we filter `medals_cleaned`to consider `[medals_cleaned['Year'] >= 1999]`"
   ]
  },
  {
   "cell_type": "markdown",
   "metadata": {},
   "source": [
    "Start by loading the dataset and taking a look at the first few rows as well as the column names and types.\n"
   ]
  },
  {
   "cell_type": "code",
   "execution_count": 3,
   "metadata": {},
   "outputs": [
    {
     "data": {
      "text/html": [
       "<div>\n",
       "<style scoped>\n",
       "    .dataframe tbody tr th:only-of-type {\n",
       "        vertical-align: middle;\n",
       "    }\n",
       "\n",
       "    .dataframe tbody tr th {\n",
       "        vertical-align: top;\n",
       "    }\n",
       "\n",
       "    .dataframe thead th {\n",
       "        text-align: right;\n",
       "    }\n",
       "</style>\n",
       "<table border=\"1\" class=\"dataframe\">\n",
       "  <thead>\n",
       "    <tr style=\"text-align: right;\">\n",
       "      <th></th>\n",
       "      <th>Year</th>\n",
       "      <th>Host_country</th>\n",
       "      <th>Host_city</th>\n",
       "      <th>Country_Name</th>\n",
       "      <th>Country_Code</th>\n",
       "      <th>Gold</th>\n",
       "      <th>Silver</th>\n",
       "      <th>Bronze</th>\n",
       "    </tr>\n",
       "  </thead>\n",
       "  <tbody>\n",
       "    <tr>\n",
       "      <th>0</th>\n",
       "      <td>1896</td>\n",
       "      <td>Greece</td>\n",
       "      <td>Athens</td>\n",
       "      <td>Great Britain</td>\n",
       "      <td>GBR</td>\n",
       "      <td>2</td>\n",
       "      <td>3</td>\n",
       "      <td>2</td>\n",
       "    </tr>\n",
       "    <tr>\n",
       "      <th>1</th>\n",
       "      <td>1896</td>\n",
       "      <td>Greece</td>\n",
       "      <td>Athens</td>\n",
       "      <td>Hungary</td>\n",
       "      <td>HUN</td>\n",
       "      <td>2</td>\n",
       "      <td>1</td>\n",
       "      <td>3</td>\n",
       "    </tr>\n",
       "    <tr>\n",
       "      <th>2</th>\n",
       "      <td>1896</td>\n",
       "      <td>Greece</td>\n",
       "      <td>Athens</td>\n",
       "      <td>France</td>\n",
       "      <td>FRA</td>\n",
       "      <td>5</td>\n",
       "      <td>4</td>\n",
       "      <td>2</td>\n",
       "    </tr>\n",
       "    <tr>\n",
       "      <th>3</th>\n",
       "      <td>1896</td>\n",
       "      <td>Greece</td>\n",
       "      <td>Athens</td>\n",
       "      <td>United States</td>\n",
       "      <td>USA</td>\n",
       "      <td>11</td>\n",
       "      <td>7</td>\n",
       "      <td>2</td>\n",
       "    </tr>\n",
       "    <tr>\n",
       "      <th>4</th>\n",
       "      <td>1896</td>\n",
       "      <td>Greece</td>\n",
       "      <td>Athens</td>\n",
       "      <td>Germany</td>\n",
       "      <td>GER</td>\n",
       "      <td>6</td>\n",
       "      <td>5</td>\n",
       "      <td>2</td>\n",
       "    </tr>\n",
       "  </tbody>\n",
       "</table>\n",
       "</div>"
      ],
      "text/plain": [
       "   Year Host_country Host_city   Country_Name Country_Code  Gold  Silver  \\\n",
       "0  1896       Greece    Athens  Great Britain          GBR     2       3   \n",
       "1  1896       Greece    Athens        Hungary          HUN     2       1   \n",
       "2  1896       Greece    Athens         France          FRA     5       4   \n",
       "3  1896       Greece    Athens  United States          USA    11       7   \n",
       "4  1896       Greece    Athens        Germany          GER     6       5   \n",
       "\n",
       "   Bronze  \n",
       "0       2  \n",
       "1       3  \n",
       "2       2  \n",
       "3       2  \n",
       "4       2  "
      ]
     },
     "execution_count": 3,
     "metadata": {},
     "output_type": "execute_result"
    }
   ],
   "source": [
    "medals = pd.read_csv('Summer_olympic_Medals.csv')\n",
    "medals.head()"
   ]
  },
  {
   "cell_type": "code",
   "execution_count": 4,
   "metadata": {},
   "outputs": [
    {
     "data": {
      "text/plain": [
       "Year             int64\n",
       "Host_country    object\n",
       "Host_city       object\n",
       "Country_Name    object\n",
       "Country_Code    object\n",
       "Gold             int64\n",
       "Silver           int64\n",
       "Bronze           int64\n",
       "dtype: object"
      ]
     },
     "execution_count": 4,
     "metadata": {},
     "output_type": "execute_result"
    }
   ],
   "source": [
    "medals.dtypes"
   ]
  },
  {
   "cell_type": "markdown",
   "metadata": {},
   "source": [
    "Next, look for null values in the dataset"
   ]
  },
  {
   "cell_type": "code",
   "execution_count": 5,
   "metadata": {},
   "outputs": [
    {
     "data": {
      "text/plain": [
       "Year             0\n",
       "Host_country     0\n",
       "Host_city        0\n",
       "Country_Name     0\n",
       "Country_Code    86\n",
       "Gold             0\n",
       "Silver           0\n",
       "Bronze           0\n",
       "dtype: int64"
      ]
     },
     "execution_count": 5,
     "metadata": {},
     "output_type": "execute_result"
    }
   ],
   "source": [
    "# Count number of nans in each column\n",
    "medals.isnull().sum()"
   ]
  },
  {
   "cell_type": "code",
   "execution_count": 6,
   "metadata": {},
   "outputs": [
    {
     "data": {
      "text/html": [
       "<div>\n",
       "<style scoped>\n",
       "    .dataframe tbody tr th:only-of-type {\n",
       "        vertical-align: middle;\n",
       "    }\n",
       "\n",
       "    .dataframe tbody tr th {\n",
       "        vertical-align: top;\n",
       "    }\n",
       "\n",
       "    .dataframe thead th {\n",
       "        text-align: right;\n",
       "    }\n",
       "</style>\n",
       "<table border=\"1\" class=\"dataframe\">\n",
       "  <thead>\n",
       "    <tr style=\"text-align: right;\">\n",
       "      <th></th>\n",
       "      <th>Year</th>\n",
       "      <th>Host_country</th>\n",
       "      <th>Host_city</th>\n",
       "      <th>Country_Name</th>\n",
       "      <th>Country_Code</th>\n",
       "      <th>Gold</th>\n",
       "      <th>Silver</th>\n",
       "      <th>Bronze</th>\n",
       "    </tr>\n",
       "  </thead>\n",
       "  <tbody>\n",
       "    <tr>\n",
       "      <th>1165</th>\n",
       "      <td>2016</td>\n",
       "      <td>Brazil</td>\n",
       "      <td>Rio de Janeiro</td>\n",
       "      <td>Denmark</td>\n",
       "      <td>NaN</td>\n",
       "      <td>2</td>\n",
       "      <td>6</td>\n",
       "      <td>7</td>\n",
       "    </tr>\n",
       "    <tr>\n",
       "      <th>1166</th>\n",
       "      <td>2016</td>\n",
       "      <td>Brazil</td>\n",
       "      <td>Rio de Janeiro</td>\n",
       "      <td>Argentina</td>\n",
       "      <td>NaN</td>\n",
       "      <td>3</td>\n",
       "      <td>1</td>\n",
       "      <td>0</td>\n",
       "    </tr>\n",
       "    <tr>\n",
       "      <th>1167</th>\n",
       "      <td>2016</td>\n",
       "      <td>Brazil</td>\n",
       "      <td>Rio de Janeiro</td>\n",
       "      <td>Sweden</td>\n",
       "      <td>NaN</td>\n",
       "      <td>2</td>\n",
       "      <td>6</td>\n",
       "      <td>3</td>\n",
       "    </tr>\n",
       "    <tr>\n",
       "      <th>1168</th>\n",
       "      <td>2016</td>\n",
       "      <td>Brazil</td>\n",
       "      <td>Rio de Janeiro</td>\n",
       "      <td>Ukraine</td>\n",
       "      <td>NaN</td>\n",
       "      <td>2</td>\n",
       "      <td>5</td>\n",
       "      <td>4</td>\n",
       "    </tr>\n",
       "    <tr>\n",
       "      <th>1169</th>\n",
       "      <td>2016</td>\n",
       "      <td>Brazil</td>\n",
       "      <td>Rio de Janeiro</td>\n",
       "      <td>South Africa</td>\n",
       "      <td>NaN</td>\n",
       "      <td>2</td>\n",
       "      <td>6</td>\n",
       "      <td>2</td>\n",
       "    </tr>\n",
       "  </tbody>\n",
       "</table>\n",
       "</div>"
      ],
      "text/plain": [
       "      Year Host_country       Host_city  Country_Name Country_Code  Gold  \\\n",
       "1165  2016       Brazil  Rio de Janeiro       Denmark          NaN     2   \n",
       "1166  2016       Brazil  Rio de Janeiro     Argentina          NaN     3   \n",
       "1167  2016       Brazil  Rio de Janeiro        Sweden          NaN     2   \n",
       "1168  2016       Brazil  Rio de Janeiro       Ukraine          NaN     2   \n",
       "1169  2016       Brazil  Rio de Janeiro  South Africa          NaN     2   \n",
       "\n",
       "      Silver  Bronze  \n",
       "1165       6       7  \n",
       "1166       1       0  \n",
       "1167       6       3  \n",
       "1168       5       4  \n",
       "1169       6       2  "
      ]
     },
     "execution_count": 6,
     "metadata": {},
     "output_type": "execute_result"
    }
   ],
   "source": [
    "# Display rows with nans\n",
    "medals[medals.isnull().any(axis=1)].head()"
   ]
  },
  {
   "cell_type": "markdown",
   "metadata": {},
   "source": [
    "As we can see below, we only have null country codes from the year 2016. This can be fixed by filling in the values with country codes from previous years."
   ]
  },
  {
   "cell_type": "code",
   "execution_count": 7,
   "metadata": {},
   "outputs": [
    {
     "data": {
      "text/plain": [
       "array([2016])"
      ]
     },
     "execution_count": 7,
     "metadata": {},
     "output_type": "execute_result"
    }
   ],
   "source": [
    "medals[medals.isnull().any(axis=1)]['Year'].unique()"
   ]
  },
  {
   "cell_type": "markdown",
   "metadata": {},
   "source": [
    "Fill in null country codes with values from previous years"
   ]
  },
  {
   "cell_type": "code",
   "execution_count": 8,
   "metadata": {},
   "outputs": [],
   "source": [
    "country_code_map = dict(zip(medals['Country_Name'], medals['Country_Code']))\n",
    "medals_cleaned = medals.assign(Country_Code = medals['Country_Name'].map(country_code_map).fillna(medals['Country_Code']))"
   ]
  },
  {
   "cell_type": "markdown",
   "metadata": {},
   "source": [
    "Create a new column called `Total_Medals` that sums the total number of medals won by each country in each year."
   ]
  },
  {
   "cell_type": "code",
   "execution_count": 9,
   "metadata": {},
   "outputs": [],
   "source": [
    "medals_cleaned['Total_Medals'] = medals_cleaned['Gold'] + medals_cleaned['Silver'] + medals_cleaned['Bronze']"
   ]
  },
  {
   "cell_type": "markdown",
   "metadata": {},
   "source": [
    "Recheck for null values"
   ]
  },
  {
   "cell_type": "code",
   "execution_count": 10,
   "metadata": {},
   "outputs": [
    {
     "data": {
      "text/plain": [
       "Year             0\n",
       "Host_country     0\n",
       "Host_city        0\n",
       "Country_Name     0\n",
       "Country_Code    11\n",
       "Gold             0\n",
       "Silver           0\n",
       "Bronze           0\n",
       "Total_Medals     0\n",
       "dtype: int64"
      ]
     },
     "execution_count": 10,
     "metadata": {},
     "output_type": "execute_result"
    }
   ],
   "source": [
    "medals_cleaned.isnull().sum()"
   ]
  },
  {
   "cell_type": "code",
   "execution_count": 11,
   "metadata": {},
   "outputs": [
    {
     "data": {
      "text/plain": [
       "array(['North Korea', 'United Arab Emirates', 'Russia', 'Niger',\n",
       "       'Burundi'], dtype=object)"
      ]
     },
     "execution_count": 11,
     "metadata": {},
     "output_type": "execute_result"
    }
   ],
   "source": [
    "# Display rows with nans\n",
    "medals_cleaned[medals_cleaned.isnull().any(axis=1)].head()['Country_Name'].unique()"
   ]
  },
  {
   "cell_type": "code",
   "execution_count": 12,
   "metadata": {},
   "outputs": [],
   "source": [
    "manual_country_codes = {\n",
    "    'North Korea': 'PRK',\n",
    "    'United Arab Emirates': 'UAE',\n",
    "    'Russia': 'RUS',\n",
    "    'Niger': 'NIG',\n",
    "    'Burundi': 'BDI',\n",
    "    'Trinidad and Tobago': 'TTO',\n",
    "    'Vietnam': 'VIE',\n",
    "    'Independent Olympic Athletes': 'IOA',\n",
    "    'Tajikistan': 'TJK',\n",
    "    'Algeria': 'ALG',\n",
    "    'Singapore': 'SGP'\n",
    "}\n",
    "\n",
    "\n",
    "# Apply these manual country codes to the data\n",
    "medals_cleaned['Country_Code'] = medals_cleaned.apply(\n",
    "    lambda row: manual_country_codes.get(row['Country_Name'], row['Country_Code']), axis=1\n",
    ")"
   ]
  },
  {
   "cell_type": "code",
   "execution_count": 13,
   "metadata": {},
   "outputs": [
    {
     "data": {
      "text/plain": [
       "Year            0\n",
       "Host_country    0\n",
       "Host_city       0\n",
       "Country_Name    0\n",
       "Country_Code    0\n",
       "Gold            0\n",
       "Silver          0\n",
       "Bronze          0\n",
       "Total_Medals    0\n",
       "dtype: int64"
      ]
     },
     "execution_count": 13,
     "metadata": {},
     "output_type": "execute_result"
    }
   ],
   "source": [
    "medals_cleaned.isnull().sum()"
   ]
  },
  {
   "cell_type": "markdown",
   "metadata": {},
   "source": [
    "Our data is now clean and ready to use"
   ]
  },
  {
   "cell_type": "code",
   "execution_count": 14,
   "metadata": {},
   "outputs": [
    {
     "data": {
      "text/html": [
       "<div>\n",
       "<style scoped>\n",
       "    .dataframe tbody tr th:only-of-type {\n",
       "        vertical-align: middle;\n",
       "    }\n",
       "\n",
       "    .dataframe tbody tr th {\n",
       "        vertical-align: top;\n",
       "    }\n",
       "\n",
       "    .dataframe thead th {\n",
       "        text-align: right;\n",
       "    }\n",
       "</style>\n",
       "<table border=\"1\" class=\"dataframe\">\n",
       "  <thead>\n",
       "    <tr style=\"text-align: right;\">\n",
       "      <th></th>\n",
       "      <th>Year</th>\n",
       "      <th>Host_country</th>\n",
       "      <th>Host_city</th>\n",
       "      <th>Country_Name</th>\n",
       "      <th>Country_Code</th>\n",
       "      <th>Gold</th>\n",
       "      <th>Silver</th>\n",
       "      <th>Bronze</th>\n",
       "      <th>Total_Medals</th>\n",
       "    </tr>\n",
       "  </thead>\n",
       "  <tbody>\n",
       "    <tr>\n",
       "      <th>0</th>\n",
       "      <td>1896</td>\n",
       "      <td>Greece</td>\n",
       "      <td>Athens</td>\n",
       "      <td>Great Britain</td>\n",
       "      <td>GBR</td>\n",
       "      <td>2</td>\n",
       "      <td>3</td>\n",
       "      <td>2</td>\n",
       "      <td>7</td>\n",
       "    </tr>\n",
       "    <tr>\n",
       "      <th>1</th>\n",
       "      <td>1896</td>\n",
       "      <td>Greece</td>\n",
       "      <td>Athens</td>\n",
       "      <td>Hungary</td>\n",
       "      <td>HUN</td>\n",
       "      <td>2</td>\n",
       "      <td>1</td>\n",
       "      <td>3</td>\n",
       "      <td>6</td>\n",
       "    </tr>\n",
       "    <tr>\n",
       "      <th>2</th>\n",
       "      <td>1896</td>\n",
       "      <td>Greece</td>\n",
       "      <td>Athens</td>\n",
       "      <td>France</td>\n",
       "      <td>FRA</td>\n",
       "      <td>5</td>\n",
       "      <td>4</td>\n",
       "      <td>2</td>\n",
       "      <td>11</td>\n",
       "    </tr>\n",
       "    <tr>\n",
       "      <th>3</th>\n",
       "      <td>1896</td>\n",
       "      <td>Greece</td>\n",
       "      <td>Athens</td>\n",
       "      <td>United States</td>\n",
       "      <td>USA</td>\n",
       "      <td>11</td>\n",
       "      <td>7</td>\n",
       "      <td>2</td>\n",
       "      <td>20</td>\n",
       "    </tr>\n",
       "    <tr>\n",
       "      <th>4</th>\n",
       "      <td>1896</td>\n",
       "      <td>Greece</td>\n",
       "      <td>Athens</td>\n",
       "      <td>Germany</td>\n",
       "      <td>GER</td>\n",
       "      <td>6</td>\n",
       "      <td>5</td>\n",
       "      <td>2</td>\n",
       "      <td>13</td>\n",
       "    </tr>\n",
       "  </tbody>\n",
       "</table>\n",
       "</div>"
      ],
      "text/plain": [
       "   Year Host_country Host_city   Country_Name Country_Code  Gold  Silver  \\\n",
       "0  1896       Greece    Athens  Great Britain          GBR     2       3   \n",
       "1  1896       Greece    Athens        Hungary          HUN     2       1   \n",
       "2  1896       Greece    Athens         France          FRA     5       4   \n",
       "3  1896       Greece    Athens  United States          USA    11       7   \n",
       "4  1896       Greece    Athens        Germany          GER     6       5   \n",
       "\n",
       "   Bronze  Total_Medals  \n",
       "0       2             7  \n",
       "1       3             6  \n",
       "2       2            11  \n",
       "3       2            20  \n",
       "4       2            13  "
      ]
     },
     "execution_count": 14,
     "metadata": {},
     "output_type": "execute_result"
    }
   ],
   "source": [
    "medals_cleaned.head()"
   ]
  },
  {
   "cell_type": "code",
   "execution_count": 15,
   "metadata": {},
   "outputs": [
    {
     "data": {
      "text/plain": [
       "(1344, 8)"
      ]
     },
     "execution_count": 15,
     "metadata": {},
     "output_type": "execute_result"
    }
   ],
   "source": [
    "medals.shape"
   ]
  },
  {
   "cell_type": "code",
   "execution_count": 16,
   "metadata": {},
   "outputs": [
    {
     "data": {
      "text/html": [
       "<div>\n",
       "<style scoped>\n",
       "    .dataframe tbody tr th:only-of-type {\n",
       "        vertical-align: middle;\n",
       "    }\n",
       "\n",
       "    .dataframe tbody tr th {\n",
       "        vertical-align: top;\n",
       "    }\n",
       "\n",
       "    .dataframe thead th {\n",
       "        text-align: right;\n",
       "    }\n",
       "</style>\n",
       "<table border=\"1\" class=\"dataframe\">\n",
       "  <thead>\n",
       "    <tr style=\"text-align: right;\">\n",
       "      <th></th>\n",
       "      <th>Year</th>\n",
       "      <th>Host_country</th>\n",
       "      <th>Host_city</th>\n",
       "      <th>Country_Name</th>\n",
       "      <th>Country_Code</th>\n",
       "      <th>Gold</th>\n",
       "      <th>Silver</th>\n",
       "      <th>Bronze</th>\n",
       "      <th>Total_Medals</th>\n",
       "    </tr>\n",
       "  </thead>\n",
       "  <tbody>\n",
       "    <tr>\n",
       "      <th>838</th>\n",
       "      <td>2000</td>\n",
       "      <td>Australia</td>\n",
       "      <td>Sydney</td>\n",
       "      <td>Spain</td>\n",
       "      <td>ESP</td>\n",
       "      <td>3</td>\n",
       "      <td>3</td>\n",
       "      <td>5</td>\n",
       "      <td>11</td>\n",
       "    </tr>\n",
       "    <tr>\n",
       "      <th>839</th>\n",
       "      <td>2000</td>\n",
       "      <td>Australia</td>\n",
       "      <td>Sydney</td>\n",
       "      <td>Canada</td>\n",
       "      <td>CAN</td>\n",
       "      <td>3</td>\n",
       "      <td>3</td>\n",
       "      <td>8</td>\n",
       "      <td>14</td>\n",
       "    </tr>\n",
       "    <tr>\n",
       "      <th>840</th>\n",
       "      <td>2000</td>\n",
       "      <td>Australia</td>\n",
       "      <td>Sydney</td>\n",
       "      <td>Iran</td>\n",
       "      <td>IRI</td>\n",
       "      <td>3</td>\n",
       "      <td>0</td>\n",
       "      <td>1</td>\n",
       "      <td>4</td>\n",
       "    </tr>\n",
       "    <tr>\n",
       "      <th>841</th>\n",
       "      <td>2000</td>\n",
       "      <td>Australia</td>\n",
       "      <td>Sydney</td>\n",
       "      <td>Turkey</td>\n",
       "      <td>TUR</td>\n",
       "      <td>3</td>\n",
       "      <td>0</td>\n",
       "      <td>2</td>\n",
       "      <td>5</td>\n",
       "    </tr>\n",
       "    <tr>\n",
       "      <th>842</th>\n",
       "      <td>2000</td>\n",
       "      <td>Australia</td>\n",
       "      <td>Sydney</td>\n",
       "      <td>Belarus</td>\n",
       "      <td>BLR</td>\n",
       "      <td>3</td>\n",
       "      <td>3</td>\n",
       "      <td>11</td>\n",
       "      <td>17</td>\n",
       "    </tr>\n",
       "    <tr>\n",
       "      <th>...</th>\n",
       "      <td>...</td>\n",
       "      <td>...</td>\n",
       "      <td>...</td>\n",
       "      <td>...</td>\n",
       "      <td>...</td>\n",
       "      <td>...</td>\n",
       "      <td>...</td>\n",
       "      <td>...</td>\n",
       "      <td>...</td>\n",
       "    </tr>\n",
       "    <tr>\n",
       "      <th>1339</th>\n",
       "      <td>2020</td>\n",
       "      <td>Japan</td>\n",
       "      <td>Tokyo</td>\n",
       "      <td>Fiji</td>\n",
       "      <td>FIJ</td>\n",
       "      <td>1</td>\n",
       "      <td>0</td>\n",
       "      <td>1</td>\n",
       "      <td>2</td>\n",
       "    </tr>\n",
       "    <tr>\n",
       "      <th>1340</th>\n",
       "      <td>2020</td>\n",
       "      <td>Japan</td>\n",
       "      <td>Tokyo</td>\n",
       "      <td>Estonia</td>\n",
       "      <td>EST</td>\n",
       "      <td>1</td>\n",
       "      <td>0</td>\n",
       "      <td>1</td>\n",
       "      <td>2</td>\n",
       "    </tr>\n",
       "    <tr>\n",
       "      <th>1341</th>\n",
       "      <td>2020</td>\n",
       "      <td>Japan</td>\n",
       "      <td>Tokyo</td>\n",
       "      <td>Latvia</td>\n",
       "      <td>LAT</td>\n",
       "      <td>1</td>\n",
       "      <td>0</td>\n",
       "      <td>1</td>\n",
       "      <td>2</td>\n",
       "    </tr>\n",
       "    <tr>\n",
       "      <th>1342</th>\n",
       "      <td>2020</td>\n",
       "      <td>Japan</td>\n",
       "      <td>Tokyo</td>\n",
       "      <td>Bermuda</td>\n",
       "      <td>BER</td>\n",
       "      <td>1</td>\n",
       "      <td>0</td>\n",
       "      <td>0</td>\n",
       "      <td>1</td>\n",
       "    </tr>\n",
       "    <tr>\n",
       "      <th>1343</th>\n",
       "      <td>2020</td>\n",
       "      <td>Japan</td>\n",
       "      <td>Tokyo</td>\n",
       "      <td>Thailand</td>\n",
       "      <td>THA</td>\n",
       "      <td>1</td>\n",
       "      <td>0</td>\n",
       "      <td>1</td>\n",
       "      <td>2</td>\n",
       "    </tr>\n",
       "  </tbody>\n",
       "</table>\n",
       "<p>506 rows × 9 columns</p>\n",
       "</div>"
      ],
      "text/plain": [
       "      Year Host_country Host_city Country_Name Country_Code  Gold  Silver  \\\n",
       "838   2000    Australia    Sydney        Spain          ESP     3       3   \n",
       "839   2000    Australia    Sydney       Canada          CAN     3       3   \n",
       "840   2000    Australia    Sydney         Iran          IRI     3       0   \n",
       "841   2000    Australia    Sydney       Turkey          TUR     3       0   \n",
       "842   2000    Australia    Sydney      Belarus          BLR     3       3   \n",
       "...    ...          ...       ...          ...          ...   ...     ...   \n",
       "1339  2020        Japan     Tokyo         Fiji          FIJ     1       0   \n",
       "1340  2020        Japan     Tokyo      Estonia          EST     1       0   \n",
       "1341  2020        Japan     Tokyo       Latvia          LAT     1       0   \n",
       "1342  2020        Japan     Tokyo      Bermuda          BER     1       0   \n",
       "1343  2020        Japan     Tokyo     Thailand          THA     1       0   \n",
       "\n",
       "      Bronze  Total_Medals  \n",
       "838        5            11  \n",
       "839        8            14  \n",
       "840        1             4  \n",
       "841        2             5  \n",
       "842       11            17  \n",
       "...      ...           ...  \n",
       "1339       1             2  \n",
       "1340       1             2  \n",
       "1341       1             2  \n",
       "1342       0             1  \n",
       "1343       1             2  \n",
       "\n",
       "[506 rows x 9 columns]"
      ]
     },
     "execution_count": 16,
     "metadata": {},
     "output_type": "execute_result"
    }
   ],
   "source": [
    "medals_cleaned = medals_cleaned[medals_cleaned['Year'] >= 1999]\n",
    "medals_cleaned"
   ]
  },
  {
   "cell_type": "markdown",
   "metadata": {},
   "source": [
    "## GDP by Country 1999 - 2022"
   ]
  },
  {
   "cell_type": "markdown",
   "metadata": {},
   "source": [
    "#### Data Cleaning Explanation:\n",
    "\n",
    "For this dataset, the data was filtered to include only Olympic `year`s (e.g., `2000, 2004, 2008`, etc.) using `df[df['Year'].isin([2000, 2004, 2008, 2012, 2016, 2020])]`. This alignment ensures that the GDP data directly corresponds with Olympic medal data. Using df.isna().all, we see that this dataset does have 0 values. One of the challenges we addressed was interpolating these 'empty' GDPs, so we'll attempt to use the averages across 4 year windows between olympics to estimate the average GDP of countries. Another challenge was removing the excessive formality in the `country` names such as 'Republic', 'Democratic', and other `country` identification terminology. We did this to align the `Country` records with the `medals_cleaned` data and used `df['Country'].replace(mapping_dict)`. This will help us to merge datasets later without issues for modeling. "
   ]
  },
  {
   "cell_type": "code",
   "execution_count": 17,
   "metadata": {},
   "outputs": [
    {
     "data": {
      "text/plain": [
       "Country    False\n",
       "1999       False\n",
       "2000       False\n",
       "2001       False\n",
       "2002       False\n",
       "dtype: bool"
      ]
     },
     "execution_count": 17,
     "metadata": {},
     "output_type": "execute_result"
    }
   ],
   "source": [
    "org_hist_gdps = pd.read_csv('GDPs99-22.csv')\n",
    "org_hist_gdps.isna().all().head()"
   ]
  },
  {
   "cell_type": "code",
   "execution_count": 18,
   "metadata": {},
   "outputs": [
    {
     "data": {
      "text/html": [
       "<div>\n",
       "<style scoped>\n",
       "    .dataframe tbody tr th:only-of-type {\n",
       "        vertical-align: middle;\n",
       "    }\n",
       "\n",
       "    .dataframe tbody tr th {\n",
       "        vertical-align: top;\n",
       "    }\n",
       "\n",
       "    .dataframe thead th {\n",
       "        text-align: right;\n",
       "    }\n",
       "</style>\n",
       "<table border=\"1\" class=\"dataframe\">\n",
       "  <thead>\n",
       "    <tr style=\"text-align: right;\">\n",
       "      <th></th>\n",
       "      <th>Country</th>\n",
       "      <th>1999</th>\n",
       "      <th>2000</th>\n",
       "      <th>2001</th>\n",
       "      <th>2002</th>\n",
       "      <th>2003</th>\n",
       "      <th>2004</th>\n",
       "      <th>2005</th>\n",
       "      <th>2006</th>\n",
       "      <th>2007</th>\n",
       "      <th>...</th>\n",
       "      <th>2013</th>\n",
       "      <th>2014</th>\n",
       "      <th>2015</th>\n",
       "      <th>2016</th>\n",
       "      <th>2017</th>\n",
       "      <th>2018</th>\n",
       "      <th>2019</th>\n",
       "      <th>2020</th>\n",
       "      <th>2021</th>\n",
       "      <th>2022</th>\n",
       "    </tr>\n",
       "  </thead>\n",
       "  <tbody>\n",
       "    <tr>\n",
       "      <th>0</th>\n",
       "      <td>Afghanistan, Rep. of.</td>\n",
       "      <td>0</td>\n",
       "      <td>0</td>\n",
       "      <td>0</td>\n",
       "      <td>4.084</td>\n",
       "      <td>4.585</td>\n",
       "      <td>5.971</td>\n",
       "      <td>7.309</td>\n",
       "      <td>8.399</td>\n",
       "      <td>9.892</td>\n",
       "      <td>...</td>\n",
       "      <td>21.555</td>\n",
       "      <td>24.304</td>\n",
       "      <td>0</td>\n",
       "      <td>0</td>\n",
       "      <td>0</td>\n",
       "      <td>0</td>\n",
       "      <td>0</td>\n",
       "      <td>0</td>\n",
       "      <td>0</td>\n",
       "      <td>0</td>\n",
       "    </tr>\n",
       "    <tr>\n",
       "      <th>1</th>\n",
       "      <td>Albania</td>\n",
       "      <td>3.444</td>\n",
       "      <td>3.695</td>\n",
       "      <td>4.096</td>\n",
       "      <td>4.456</td>\n",
       "      <td>5.6</td>\n",
       "      <td>7.452</td>\n",
       "      <td>8.376</td>\n",
       "      <td>9.133</td>\n",
       "      <td>10.163</td>\n",
       "      <td>...</td>\n",
       "      <td>14.91</td>\n",
       "      <td>16.053</td>\n",
       "      <td>11.591</td>\n",
       "      <td>12.204</td>\n",
       "      <td>13.214</td>\n",
       "      <td>14.341</td>\n",
       "      <td>15.553</td>\n",
       "      <td>16.996</td>\n",
       "      <td>16.77</td>\n",
       "      <td>18.012</td>\n",
       "    </tr>\n",
       "    <tr>\n",
       "      <th>2</th>\n",
       "      <td>Algeria</td>\n",
       "      <td>48.845</td>\n",
       "      <td>54.749</td>\n",
       "      <td>55.181</td>\n",
       "      <td>57.053</td>\n",
       "      <td>68.013</td>\n",
       "      <td>85.016</td>\n",
       "      <td>102.38</td>\n",
       "      <td>114.322</td>\n",
       "      <td>116.158</td>\n",
       "      <td>...</td>\n",
       "      <td>190.432</td>\n",
       "      <td>203.449</td>\n",
       "      <td>175.077</td>\n",
       "      <td>181.71</td>\n",
       "      <td>192.256</td>\n",
       "      <td>202.179</td>\n",
       "      <td>210.906</td>\n",
       "      <td>219.16</td>\n",
       "      <td>163.812</td>\n",
       "      <td>168.195</td>\n",
       "    </tr>\n",
       "    <tr>\n",
       "      <th>3</th>\n",
       "      <td>Angola</td>\n",
       "      <td>6.153</td>\n",
       "      <td>9.135</td>\n",
       "      <td>8.936</td>\n",
       "      <td>11.386</td>\n",
       "      <td>13.956</td>\n",
       "      <td>19.8</td>\n",
       "      <td>30.632</td>\n",
       "      <td>43.759</td>\n",
       "      <td>55.37</td>\n",
       "      <td>...</td>\n",
       "      <td>136.415</td>\n",
       "      <td>151.089</td>\n",
       "      <td>102.011</td>\n",
       "      <td>98.815</td>\n",
       "      <td>105.369</td>\n",
       "      <td>112.533</td>\n",
       "      <td>119.403</td>\n",
       "      <td>127.15</td>\n",
       "      <td>70.339</td>\n",
       "      <td>74.953</td>\n",
       "    </tr>\n",
       "    <tr>\n",
       "      <th>4</th>\n",
       "      <td>Antigua and Barbuda</td>\n",
       "      <td>0.652</td>\n",
       "      <td>0.678</td>\n",
       "      <td>0.71</td>\n",
       "      <td>0.718</td>\n",
       "      <td>0.754</td>\n",
       "      <td>0.818</td>\n",
       "      <td>0.875</td>\n",
       "      <td>0.962</td>\n",
       "      <td>1.026</td>\n",
       "      <td>...</td>\n",
       "      <td>1.404</td>\n",
       "      <td>1.494</td>\n",
       "      <td>1.285</td>\n",
       "      <td>1.328</td>\n",
       "      <td>1.386</td>\n",
       "      <td>1.458</td>\n",
       "      <td>1.536</td>\n",
       "      <td>1.617</td>\n",
       "      <td>1.405</td>\n",
       "      <td>1.534</td>\n",
       "    </tr>\n",
       "    <tr>\n",
       "      <th>...</th>\n",
       "      <td>...</td>\n",
       "      <td>...</td>\n",
       "      <td>...</td>\n",
       "      <td>...</td>\n",
       "      <td>...</td>\n",
       "      <td>...</td>\n",
       "      <td>...</td>\n",
       "      <td>...</td>\n",
       "      <td>...</td>\n",
       "      <td>...</td>\n",
       "      <td>...</td>\n",
       "      <td>...</td>\n",
       "      <td>...</td>\n",
       "      <td>...</td>\n",
       "      <td>...</td>\n",
       "      <td>...</td>\n",
       "      <td>...</td>\n",
       "      <td>...</td>\n",
       "      <td>...</td>\n",
       "      <td>...</td>\n",
       "      <td>...</td>\n",
       "    </tr>\n",
       "    <tr>\n",
       "      <th>175</th>\n",
       "      <td>Venezuela</td>\n",
       "      <td>97.977</td>\n",
       "      <td>117.153</td>\n",
       "      <td>122.872</td>\n",
       "      <td>92.889</td>\n",
       "      <td>83.442</td>\n",
       "      <td>112.8</td>\n",
       "      <td>143.443</td>\n",
       "      <td>181.608</td>\n",
       "      <td>219.372</td>\n",
       "      <td>...</td>\n",
       "      <td>403.123</td>\n",
       "      <td>409.562</td>\n",
       "      <td>131.855</td>\n",
       "      <td>133.534</td>\n",
       "      <td>144.227</td>\n",
       "      <td>155.096</td>\n",
       "      <td>170.41</td>\n",
       "      <td>184.364</td>\n",
       "      <td>44.893</td>\n",
       "      <td>43.546</td>\n",
       "    </tr>\n",
       "    <tr>\n",
       "      <th>176</th>\n",
       "      <td>Vietnam</td>\n",
       "      <td>28.684</td>\n",
       "      <td>31.196</td>\n",
       "      <td>32.504</td>\n",
       "      <td>35.148</td>\n",
       "      <td>39.63</td>\n",
       "      <td>45.548</td>\n",
       "      <td>53.053</td>\n",
       "      <td>60.995</td>\n",
       "      <td>68.298</td>\n",
       "      <td>...</td>\n",
       "      <td>135.729</td>\n",
       "      <td>148.914</td>\n",
       "      <td>198.805</td>\n",
       "      <td>214.75</td>\n",
       "      <td>229.845</td>\n",
       "      <td>247.415</td>\n",
       "      <td>265.987</td>\n",
       "      <td>287.257</td>\n",
       "      <td>368.002</td>\n",
       "      <td>415.493</td>\n",
       "    </tr>\n",
       "    <tr>\n",
       "      <th>177</th>\n",
       "      <td>Yemen, Republic of</td>\n",
       "      <td>7.53</td>\n",
       "      <td>9.561</td>\n",
       "      <td>9.533</td>\n",
       "      <td>9.985</td>\n",
       "      <td>11.869</td>\n",
       "      <td>13.565</td>\n",
       "      <td>15.193</td>\n",
       "      <td>18.7</td>\n",
       "      <td>21.657</td>\n",
       "      <td>...</td>\n",
       "      <td>40.003</td>\n",
       "      <td>42.687</td>\n",
       "      <td>0</td>\n",
       "      <td>0</td>\n",
       "      <td>0</td>\n",
       "      <td>0</td>\n",
       "      <td>0</td>\n",
       "      <td>0</td>\n",
       "      <td>0</td>\n",
       "      <td>0</td>\n",
       "    </tr>\n",
       "    <tr>\n",
       "      <th>178</th>\n",
       "      <td>Zambia</td>\n",
       "      <td>3.132</td>\n",
       "      <td>3.238</td>\n",
       "      <td>3.64</td>\n",
       "      <td>3.775</td>\n",
       "      <td>4.326</td>\n",
       "      <td>5.44</td>\n",
       "      <td>7.271</td>\n",
       "      <td>10.942</td>\n",
       "      <td>10.104</td>\n",
       "      <td>...</td>\n",
       "      <td>21.829</td>\n",
       "      <td>23.613</td>\n",
       "      <td>24.466</td>\n",
       "      <td>25.158</td>\n",
       "      <td>27.17</td>\n",
       "      <td>29.911</td>\n",
       "      <td>32.957</td>\n",
       "      <td>36.316</td>\n",
       "      <td>21.699</td>\n",
       "      <td>23.967</td>\n",
       "    </tr>\n",
       "    <tr>\n",
       "      <th>179</th>\n",
       "      <td>Zimbabwe</td>\n",
       "      <td>5.963</td>\n",
       "      <td>8.136</td>\n",
       "      <td>12.883</td>\n",
       "      <td>30.856</td>\n",
       "      <td>10.515</td>\n",
       "      <td>4.7</td>\n",
       "      <td>4.552</td>\n",
       "      <td>5.54</td>\n",
       "      <td>18.281</td>\n",
       "      <td>...</td>\n",
       "      <td>6.214</td>\n",
       "      <td>6.851</td>\n",
       "      <td>13.905</td>\n",
       "      <td>14.292</td>\n",
       "      <td>14.994</td>\n",
       "      <td>15.736</td>\n",
       "      <td>16.609</td>\n",
       "      <td>17.529</td>\n",
       "      <td>25.791</td>\n",
       "      <td>27.806</td>\n",
       "    </tr>\n",
       "  </tbody>\n",
       "</table>\n",
       "<p>180 rows × 24 columns</p>\n",
       "</div>"
      ],
      "text/plain": [
       "                   Country    1999     2000     2001    2002    2003    2004  \\\n",
       "0    Afghanistan, Rep. of.       0        0        0   4.084   4.585   5.971   \n",
       "1                  Albania   3.444    3.695    4.096   4.456     5.6   7.452   \n",
       "2                  Algeria  48.845   54.749   55.181  57.053  68.013  85.016   \n",
       "3                   Angola   6.153    9.135    8.936  11.386  13.956    19.8   \n",
       "4      Antigua and Barbuda   0.652    0.678     0.71   0.718   0.754   0.818   \n",
       "..                     ...     ...      ...      ...     ...     ...     ...   \n",
       "175              Venezuela  97.977  117.153  122.872  92.889  83.442   112.8   \n",
       "176                Vietnam  28.684   31.196   32.504  35.148   39.63  45.548   \n",
       "177     Yemen, Republic of    7.53    9.561    9.533   9.985  11.869  13.565   \n",
       "178                 Zambia   3.132    3.238     3.64   3.775   4.326    5.44   \n",
       "179               Zimbabwe   5.963    8.136   12.883  30.856  10.515     4.7   \n",
       "\n",
       "        2005     2006     2007  ...     2013     2014     2015     2016  \\\n",
       "0      7.309    8.399    9.892  ...   21.555   24.304        0        0   \n",
       "1      8.376    9.133   10.163  ...    14.91   16.053   11.591   12.204   \n",
       "2     102.38  114.322  116.158  ...  190.432  203.449  175.077   181.71   \n",
       "3     30.632   43.759    55.37  ...  136.415  151.089  102.011   98.815   \n",
       "4      0.875    0.962    1.026  ...    1.404    1.494    1.285    1.328   \n",
       "..       ...      ...      ...  ...      ...      ...      ...      ...   \n",
       "175  143.443  181.608  219.372  ...  403.123  409.562  131.855  133.534   \n",
       "176   53.053   60.995   68.298  ...  135.729  148.914  198.805   214.75   \n",
       "177   15.193     18.7   21.657  ...   40.003   42.687        0        0   \n",
       "178    7.271   10.942   10.104  ...   21.829   23.613   24.466   25.158   \n",
       "179    4.552     5.54   18.281  ...    6.214    6.851   13.905   14.292   \n",
       "\n",
       "        2017     2018     2019     2020     2021     2022  \n",
       "0          0        0        0        0        0        0  \n",
       "1     13.214   14.341   15.553   16.996    16.77   18.012  \n",
       "2    192.256  202.179  210.906   219.16  163.812  168.195  \n",
       "3    105.369  112.533  119.403   127.15   70.339   74.953  \n",
       "4      1.386    1.458    1.536    1.617    1.405    1.534  \n",
       "..       ...      ...      ...      ...      ...      ...  \n",
       "175  144.227  155.096   170.41  184.364   44.893   43.546  \n",
       "176  229.845  247.415  265.987  287.257  368.002  415.493  \n",
       "177        0        0        0        0        0        0  \n",
       "178    27.17   29.911   32.957   36.316   21.699   23.967  \n",
       "179   14.994   15.736   16.609   17.529   25.791   27.806  \n",
       "\n",
       "[180 rows x 24 columns]"
      ]
     },
     "execution_count": 18,
     "metadata": {},
     "output_type": "execute_result"
    }
   ],
   "source": [
    "org_hist_gdps"
   ]
  },
  {
   "cell_type": "code",
   "execution_count": 19,
   "metadata": {},
   "outputs": [],
   "source": [
    "index_hist_gdps = org_hist_gdps.set_index('Country')\n",
    "# org_hist_gdps = index_hist_gdps[[year for year in index_hist_gdps.columns if int(year) % 4 == 0]].reset_index()"
   ]
  },
  {
   "cell_type": "markdown",
   "metadata": {},
   "source": [
    "Some countries have formal titles and terminology that are not parallel with names in the other datasets:\n",
    "- Look at Afghanistan and Yemen\n",
    "- Both these nations have a form of the word \"Republic\" in their name"
   ]
  },
  {
   "cell_type": "code",
   "execution_count": 20,
   "metadata": {},
   "outputs": [
    {
     "data": {
      "text/plain": [
       "0      Afghanistan, Rep. of.\n",
       "1                    Albania\n",
       "2                    Algeria\n",
       "3                     Angola\n",
       "4        Antigua and Barbuda\n",
       "               ...          \n",
       "175                Venezuela\n",
       "176                  Vietnam\n",
       "177       Yemen, Republic of\n",
       "178                   Zambia\n",
       "179                 Zimbabwe\n",
       "Name: Country, Length: 180, dtype: object"
      ]
     },
     "execution_count": 20,
     "metadata": {},
     "output_type": "execute_result"
    }
   ],
   "source": [
    "org_hist_gdps['Country']"
   ]
  },
  {
   "cell_type": "code",
   "execution_count": 21,
   "metadata": {},
   "outputs": [],
   "source": [
    "## Make a Copy for Reference, we'll refer back to the Original CSV version later\n",
    "hist_gdps = org_hist_gdps.copy()"
   ]
  },
  {
   "cell_type": "code",
   "execution_count": 22,
   "metadata": {},
   "outputs": [
    {
     "data": {
      "text/html": [
       "<div>\n",
       "<style scoped>\n",
       "    .dataframe tbody tr th:only-of-type {\n",
       "        vertical-align: middle;\n",
       "    }\n",
       "\n",
       "    .dataframe tbody tr th {\n",
       "        vertical-align: top;\n",
       "    }\n",
       "\n",
       "    .dataframe thead th {\n",
       "        text-align: right;\n",
       "    }\n",
       "</style>\n",
       "<table border=\"1\" class=\"dataframe\">\n",
       "  <thead>\n",
       "    <tr style=\"text-align: right;\">\n",
       "      <th></th>\n",
       "      <th>Country</th>\n",
       "      <th>1999</th>\n",
       "      <th>2000</th>\n",
       "      <th>2001</th>\n",
       "      <th>2002</th>\n",
       "      <th>2003</th>\n",
       "      <th>2004</th>\n",
       "      <th>2005</th>\n",
       "      <th>2006</th>\n",
       "      <th>2007</th>\n",
       "      <th>...</th>\n",
       "      <th>2013</th>\n",
       "      <th>2014</th>\n",
       "      <th>2015</th>\n",
       "      <th>2016</th>\n",
       "      <th>2017</th>\n",
       "      <th>2018</th>\n",
       "      <th>2019</th>\n",
       "      <th>2020</th>\n",
       "      <th>2021</th>\n",
       "      <th>2022</th>\n",
       "    </tr>\n",
       "  </thead>\n",
       "  <tbody>\n",
       "    <tr>\n",
       "      <th>0</th>\n",
       "      <td>Afghanistan</td>\n",
       "      <td>0</td>\n",
       "      <td>0</td>\n",
       "      <td>0</td>\n",
       "      <td>4.084</td>\n",
       "      <td>4.585</td>\n",
       "      <td>5.971</td>\n",
       "      <td>7.309</td>\n",
       "      <td>8.399</td>\n",
       "      <td>9.892</td>\n",
       "      <td>...</td>\n",
       "      <td>21.555</td>\n",
       "      <td>24.304</td>\n",
       "      <td>0</td>\n",
       "      <td>0</td>\n",
       "      <td>0</td>\n",
       "      <td>0</td>\n",
       "      <td>0</td>\n",
       "      <td>0</td>\n",
       "      <td>0</td>\n",
       "      <td>0</td>\n",
       "    </tr>\n",
       "    <tr>\n",
       "      <th>1</th>\n",
       "      <td>Albania</td>\n",
       "      <td>3.444</td>\n",
       "      <td>3.695</td>\n",
       "      <td>4.096</td>\n",
       "      <td>4.456</td>\n",
       "      <td>5.6</td>\n",
       "      <td>7.452</td>\n",
       "      <td>8.376</td>\n",
       "      <td>9.133</td>\n",
       "      <td>10.163</td>\n",
       "      <td>...</td>\n",
       "      <td>14.91</td>\n",
       "      <td>16.053</td>\n",
       "      <td>11.591</td>\n",
       "      <td>12.204</td>\n",
       "      <td>13.214</td>\n",
       "      <td>14.341</td>\n",
       "      <td>15.553</td>\n",
       "      <td>16.996</td>\n",
       "      <td>16.77</td>\n",
       "      <td>18.012</td>\n",
       "    </tr>\n",
       "    <tr>\n",
       "      <th>2</th>\n",
       "      <td>Algeria</td>\n",
       "      <td>48.845</td>\n",
       "      <td>54.749</td>\n",
       "      <td>55.181</td>\n",
       "      <td>57.053</td>\n",
       "      <td>68.013</td>\n",
       "      <td>85.016</td>\n",
       "      <td>102.38</td>\n",
       "      <td>114.322</td>\n",
       "      <td>116.158</td>\n",
       "      <td>...</td>\n",
       "      <td>190.432</td>\n",
       "      <td>203.449</td>\n",
       "      <td>175.077</td>\n",
       "      <td>181.71</td>\n",
       "      <td>192.256</td>\n",
       "      <td>202.179</td>\n",
       "      <td>210.906</td>\n",
       "      <td>219.16</td>\n",
       "      <td>163.812</td>\n",
       "      <td>168.195</td>\n",
       "    </tr>\n",
       "    <tr>\n",
       "      <th>3</th>\n",
       "      <td>Angola</td>\n",
       "      <td>6.153</td>\n",
       "      <td>9.135</td>\n",
       "      <td>8.936</td>\n",
       "      <td>11.386</td>\n",
       "      <td>13.956</td>\n",
       "      <td>19.8</td>\n",
       "      <td>30.632</td>\n",
       "      <td>43.759</td>\n",
       "      <td>55.37</td>\n",
       "      <td>...</td>\n",
       "      <td>136.415</td>\n",
       "      <td>151.089</td>\n",
       "      <td>102.011</td>\n",
       "      <td>98.815</td>\n",
       "      <td>105.369</td>\n",
       "      <td>112.533</td>\n",
       "      <td>119.403</td>\n",
       "      <td>127.15</td>\n",
       "      <td>70.339</td>\n",
       "      <td>74.953</td>\n",
       "    </tr>\n",
       "    <tr>\n",
       "      <th>4</th>\n",
       "      <td>Antigua and Barbuda</td>\n",
       "      <td>0.652</td>\n",
       "      <td>0.678</td>\n",
       "      <td>0.71</td>\n",
       "      <td>0.718</td>\n",
       "      <td>0.754</td>\n",
       "      <td>0.818</td>\n",
       "      <td>0.875</td>\n",
       "      <td>0.962</td>\n",
       "      <td>1.026</td>\n",
       "      <td>...</td>\n",
       "      <td>1.404</td>\n",
       "      <td>1.494</td>\n",
       "      <td>1.285</td>\n",
       "      <td>1.328</td>\n",
       "      <td>1.386</td>\n",
       "      <td>1.458</td>\n",
       "      <td>1.536</td>\n",
       "      <td>1.617</td>\n",
       "      <td>1.405</td>\n",
       "      <td>1.534</td>\n",
       "    </tr>\n",
       "    <tr>\n",
       "      <th>...</th>\n",
       "      <td>...</td>\n",
       "      <td>...</td>\n",
       "      <td>...</td>\n",
       "      <td>...</td>\n",
       "      <td>...</td>\n",
       "      <td>...</td>\n",
       "      <td>...</td>\n",
       "      <td>...</td>\n",
       "      <td>...</td>\n",
       "      <td>...</td>\n",
       "      <td>...</td>\n",
       "      <td>...</td>\n",
       "      <td>...</td>\n",
       "      <td>...</td>\n",
       "      <td>...</td>\n",
       "      <td>...</td>\n",
       "      <td>...</td>\n",
       "      <td>...</td>\n",
       "      <td>...</td>\n",
       "      <td>...</td>\n",
       "      <td>...</td>\n",
       "    </tr>\n",
       "    <tr>\n",
       "      <th>175</th>\n",
       "      <td>Venezuela</td>\n",
       "      <td>97.977</td>\n",
       "      <td>117.153</td>\n",
       "      <td>122.872</td>\n",
       "      <td>92.889</td>\n",
       "      <td>83.442</td>\n",
       "      <td>112.8</td>\n",
       "      <td>143.443</td>\n",
       "      <td>181.608</td>\n",
       "      <td>219.372</td>\n",
       "      <td>...</td>\n",
       "      <td>403.123</td>\n",
       "      <td>409.562</td>\n",
       "      <td>131.855</td>\n",
       "      <td>133.534</td>\n",
       "      <td>144.227</td>\n",
       "      <td>155.096</td>\n",
       "      <td>170.41</td>\n",
       "      <td>184.364</td>\n",
       "      <td>44.893</td>\n",
       "      <td>43.546</td>\n",
       "    </tr>\n",
       "    <tr>\n",
       "      <th>176</th>\n",
       "      <td>Vietnam</td>\n",
       "      <td>28.684</td>\n",
       "      <td>31.196</td>\n",
       "      <td>32.504</td>\n",
       "      <td>35.148</td>\n",
       "      <td>39.63</td>\n",
       "      <td>45.548</td>\n",
       "      <td>53.053</td>\n",
       "      <td>60.995</td>\n",
       "      <td>68.298</td>\n",
       "      <td>...</td>\n",
       "      <td>135.729</td>\n",
       "      <td>148.914</td>\n",
       "      <td>198.805</td>\n",
       "      <td>214.75</td>\n",
       "      <td>229.845</td>\n",
       "      <td>247.415</td>\n",
       "      <td>265.987</td>\n",
       "      <td>287.257</td>\n",
       "      <td>368.002</td>\n",
       "      <td>415.493</td>\n",
       "    </tr>\n",
       "    <tr>\n",
       "      <th>177</th>\n",
       "      <td>Yemen</td>\n",
       "      <td>7.53</td>\n",
       "      <td>9.561</td>\n",
       "      <td>9.533</td>\n",
       "      <td>9.985</td>\n",
       "      <td>11.869</td>\n",
       "      <td>13.565</td>\n",
       "      <td>15.193</td>\n",
       "      <td>18.7</td>\n",
       "      <td>21.657</td>\n",
       "      <td>...</td>\n",
       "      <td>40.003</td>\n",
       "      <td>42.687</td>\n",
       "      <td>0</td>\n",
       "      <td>0</td>\n",
       "      <td>0</td>\n",
       "      <td>0</td>\n",
       "      <td>0</td>\n",
       "      <td>0</td>\n",
       "      <td>0</td>\n",
       "      <td>0</td>\n",
       "    </tr>\n",
       "    <tr>\n",
       "      <th>178</th>\n",
       "      <td>Zambia</td>\n",
       "      <td>3.132</td>\n",
       "      <td>3.238</td>\n",
       "      <td>3.64</td>\n",
       "      <td>3.775</td>\n",
       "      <td>4.326</td>\n",
       "      <td>5.44</td>\n",
       "      <td>7.271</td>\n",
       "      <td>10.942</td>\n",
       "      <td>10.104</td>\n",
       "      <td>...</td>\n",
       "      <td>21.829</td>\n",
       "      <td>23.613</td>\n",
       "      <td>24.466</td>\n",
       "      <td>25.158</td>\n",
       "      <td>27.17</td>\n",
       "      <td>29.911</td>\n",
       "      <td>32.957</td>\n",
       "      <td>36.316</td>\n",
       "      <td>21.699</td>\n",
       "      <td>23.967</td>\n",
       "    </tr>\n",
       "    <tr>\n",
       "      <th>179</th>\n",
       "      <td>Zimbabwe</td>\n",
       "      <td>5.963</td>\n",
       "      <td>8.136</td>\n",
       "      <td>12.883</td>\n",
       "      <td>30.856</td>\n",
       "      <td>10.515</td>\n",
       "      <td>4.7</td>\n",
       "      <td>4.552</td>\n",
       "      <td>5.54</td>\n",
       "      <td>18.281</td>\n",
       "      <td>...</td>\n",
       "      <td>6.214</td>\n",
       "      <td>6.851</td>\n",
       "      <td>13.905</td>\n",
       "      <td>14.292</td>\n",
       "      <td>14.994</td>\n",
       "      <td>15.736</td>\n",
       "      <td>16.609</td>\n",
       "      <td>17.529</td>\n",
       "      <td>25.791</td>\n",
       "      <td>27.806</td>\n",
       "    </tr>\n",
       "  </tbody>\n",
       "</table>\n",
       "<p>180 rows × 24 columns</p>\n",
       "</div>"
      ],
      "text/plain": [
       "                 Country    1999     2000     2001    2002    2003    2004  \\\n",
       "0            Afghanistan       0        0        0   4.084   4.585   5.971   \n",
       "1                Albania   3.444    3.695    4.096   4.456     5.6   7.452   \n",
       "2                Algeria  48.845   54.749   55.181  57.053  68.013  85.016   \n",
       "3                 Angola   6.153    9.135    8.936  11.386  13.956    19.8   \n",
       "4    Antigua and Barbuda   0.652    0.678     0.71   0.718   0.754   0.818   \n",
       "..                   ...     ...      ...      ...     ...     ...     ...   \n",
       "175            Venezuela  97.977  117.153  122.872  92.889  83.442   112.8   \n",
       "176              Vietnam  28.684   31.196   32.504  35.148   39.63  45.548   \n",
       "177                Yemen    7.53    9.561    9.533   9.985  11.869  13.565   \n",
       "178               Zambia   3.132    3.238     3.64   3.775   4.326    5.44   \n",
       "179             Zimbabwe   5.963    8.136   12.883  30.856  10.515     4.7   \n",
       "\n",
       "        2005     2006     2007  ...     2013     2014     2015     2016  \\\n",
       "0      7.309    8.399    9.892  ...   21.555   24.304        0        0   \n",
       "1      8.376    9.133   10.163  ...    14.91   16.053   11.591   12.204   \n",
       "2     102.38  114.322  116.158  ...  190.432  203.449  175.077   181.71   \n",
       "3     30.632   43.759    55.37  ...  136.415  151.089  102.011   98.815   \n",
       "4      0.875    0.962    1.026  ...    1.404    1.494    1.285    1.328   \n",
       "..       ...      ...      ...  ...      ...      ...      ...      ...   \n",
       "175  143.443  181.608  219.372  ...  403.123  409.562  131.855  133.534   \n",
       "176   53.053   60.995   68.298  ...  135.729  148.914  198.805   214.75   \n",
       "177   15.193     18.7   21.657  ...   40.003   42.687        0        0   \n",
       "178    7.271   10.942   10.104  ...   21.829   23.613   24.466   25.158   \n",
       "179    4.552     5.54   18.281  ...    6.214    6.851   13.905   14.292   \n",
       "\n",
       "        2017     2018     2019     2020     2021     2022  \n",
       "0          0        0        0        0        0        0  \n",
       "1     13.214   14.341   15.553   16.996    16.77   18.012  \n",
       "2    192.256  202.179  210.906   219.16  163.812  168.195  \n",
       "3    105.369  112.533  119.403   127.15   70.339   74.953  \n",
       "4      1.386    1.458    1.536    1.617    1.405    1.534  \n",
       "..       ...      ...      ...      ...      ...      ...  \n",
       "175  144.227  155.096   170.41  184.364   44.893   43.546  \n",
       "176  229.845  247.415  265.987  287.257  368.002  415.493  \n",
       "177        0        0        0        0        0        0  \n",
       "178    27.17   29.911   32.957   36.316   21.699   23.967  \n",
       "179   14.994   15.736   16.609   17.529   25.791   27.806  \n",
       "\n",
       "[180 rows x 24 columns]"
      ]
     },
     "execution_count": 22,
     "metadata": {},
     "output_type": "execute_result"
    }
   ],
   "source": [
    "remove_punctuation = r'[.,\\'-]'\n",
    "hist_gdps['Country'] = hist_gdps['Country'].str.replace(remove_punctuation, '', regex=True)\n",
    "\n",
    "remove_words = r'\\b(Rep|Republic|Demo|Democratic|of|the|People|Côte d|Equatorial|Islamic|Former)\\b'\n",
    "hist_gdps['Country'] = hist_gdps['Country'].str.replace(remove_words, '', regex=True, case=False)\n",
    "\n",
    "hist_gdps['Country'] = hist_gdps['Country'].str.strip()\n",
    "hist_gdps"
   ]
  },
  {
   "cell_type": "markdown",
   "metadata": {},
   "source": [
    "This is how many countries were changed as a result of the regex transformation"
   ]
  },
  {
   "cell_type": "code",
   "execution_count": 23,
   "metadata": {},
   "outputs": [
    {
     "data": {
      "text/plain": [
       "23"
      ]
     },
     "execution_count": 23,
     "metadata": {},
     "output_type": "execute_result"
    }
   ],
   "source": [
    "transformation_differences = org_hist_gdps['Country'] != hist_gdps['Country']\n",
    "num_differences = transformation_differences.sum()\n",
    "num_differences"
   ]
  },
  {
   "cell_type": "code",
   "execution_count": 24,
   "metadata": {},
   "outputs": [
    {
     "data": {
      "text/html": [
       "<div>\n",
       "<style scoped>\n",
       "    .dataframe tbody tr th:only-of-type {\n",
       "        vertical-align: middle;\n",
       "    }\n",
       "\n",
       "    .dataframe tbody tr th {\n",
       "        vertical-align: top;\n",
       "    }\n",
       "\n",
       "    .dataframe thead th {\n",
       "        text-align: right;\n",
       "    }\n",
       "</style>\n",
       "<table border=\"1\" class=\"dataframe\">\n",
       "  <thead>\n",
       "    <tr style=\"text-align: right;\">\n",
       "      <th></th>\n",
       "      <th>Country</th>\n",
       "      <th>1999</th>\n",
       "      <th>2000</th>\n",
       "      <th>2001</th>\n",
       "      <th>2002</th>\n",
       "      <th>2003</th>\n",
       "      <th>2004</th>\n",
       "      <th>2005</th>\n",
       "      <th>2006</th>\n",
       "      <th>2007</th>\n",
       "      <th>...</th>\n",
       "      <th>2013</th>\n",
       "      <th>2014</th>\n",
       "      <th>2015</th>\n",
       "      <th>2016</th>\n",
       "      <th>2017</th>\n",
       "      <th>2018</th>\n",
       "      <th>2019</th>\n",
       "      <th>2020</th>\n",
       "      <th>2021</th>\n",
       "      <th>2022</th>\n",
       "    </tr>\n",
       "  </thead>\n",
       "  <tbody>\n",
       "    <tr>\n",
       "      <th>0</th>\n",
       "      <td>Afghanistan</td>\n",
       "      <td>0</td>\n",
       "      <td>0</td>\n",
       "      <td>0</td>\n",
       "      <td>4.084</td>\n",
       "      <td>4.585</td>\n",
       "      <td>5.971</td>\n",
       "      <td>7.309</td>\n",
       "      <td>8.399</td>\n",
       "      <td>9.892</td>\n",
       "      <td>...</td>\n",
       "      <td>21.555</td>\n",
       "      <td>24.304</td>\n",
       "      <td>0</td>\n",
       "      <td>0</td>\n",
       "      <td>0</td>\n",
       "      <td>0</td>\n",
       "      <td>0</td>\n",
       "      <td>0</td>\n",
       "      <td>0</td>\n",
       "      <td>0</td>\n",
       "    </tr>\n",
       "    <tr>\n",
       "      <th>10</th>\n",
       "      <td>Bahamas</td>\n",
       "      <td>4.704</td>\n",
       "      <td>5.004</td>\n",
       "      <td>5.131</td>\n",
       "      <td>5.389</td>\n",
       "      <td>5.503</td>\n",
       "      <td>5.661</td>\n",
       "      <td>5.87</td>\n",
       "      <td>6.223</td>\n",
       "      <td>6.624</td>\n",
       "      <td>...</td>\n",
       "      <td>8.02</td>\n",
       "      <td>8.287</td>\n",
       "      <td>0</td>\n",
       "      <td>0</td>\n",
       "      <td>0</td>\n",
       "      <td>0</td>\n",
       "      <td>0</td>\n",
       "      <td>0</td>\n",
       "      <td>0</td>\n",
       "      <td>0</td>\n",
       "    </tr>\n",
       "    <tr>\n",
       "      <th>31</th>\n",
       "      <td>Central African</td>\n",
       "      <td>1.039</td>\n",
       "      <td>0.962</td>\n",
       "      <td>0.968</td>\n",
       "      <td>1.045</td>\n",
       "      <td>1.198</td>\n",
       "      <td>1.309</td>\n",
       "      <td>1.376</td>\n",
       "      <td>1.488</td>\n",
       "      <td>1.624</td>\n",
       "      <td>...</td>\n",
       "      <td>2.599</td>\n",
       "      <td>2.776</td>\n",
       "      <td>1.624</td>\n",
       "      <td>1.84</td>\n",
       "      <td>2.096</td>\n",
       "      <td>2.371</td>\n",
       "      <td>2.637</td>\n",
       "      <td>2.916</td>\n",
       "      <td>2.587</td>\n",
       "      <td>2.797</td>\n",
       "    </tr>\n",
       "    <tr>\n",
       "      <th>37</th>\n",
       "      <td>Congo</td>\n",
       "      <td>4.319</td>\n",
       "      <td>4.303</td>\n",
       "      <td>5.155</td>\n",
       "      <td>5.539</td>\n",
       "      <td>5.681</td>\n",
       "      <td>6.539</td>\n",
       "      <td>7.096</td>\n",
       "      <td>8.543</td>\n",
       "      <td>8.953</td>\n",
       "      <td>...</td>\n",
       "      <td>15.975</td>\n",
       "      <td>17.352</td>\n",
       "      <td>0</td>\n",
       "      <td>0</td>\n",
       "      <td>0</td>\n",
       "      <td>0</td>\n",
       "      <td>0</td>\n",
       "      <td>0</td>\n",
       "      <td>0</td>\n",
       "      <td>0</td>\n",
       "    </tr>\n",
       "    <tr>\n",
       "      <th>38</th>\n",
       "      <td>Congo</td>\n",
       "      <td>2.354</td>\n",
       "      <td>3.22</td>\n",
       "      <td>2.794</td>\n",
       "      <td>3.02</td>\n",
       "      <td>3.571</td>\n",
       "      <td>4.349</td>\n",
       "      <td>5.981</td>\n",
       "      <td>7.399</td>\n",
       "      <td>6.06</td>\n",
       "      <td>...</td>\n",
       "      <td>12.783</td>\n",
       "      <td>12.671</td>\n",
       "      <td>0</td>\n",
       "      <td>0</td>\n",
       "      <td>0</td>\n",
       "      <td>0</td>\n",
       "      <td>0</td>\n",
       "      <td>0</td>\n",
       "      <td>0</td>\n",
       "      <td>0</td>\n",
       "    </tr>\n",
       "    <tr>\n",
       "      <th>40</th>\n",
       "      <td>Côte dIvoire</td>\n",
       "      <td>12.573</td>\n",
       "      <td>10.448</td>\n",
       "      <td>10.554</td>\n",
       "      <td>11.527</td>\n",
       "      <td>13.764</td>\n",
       "      <td>15.501</td>\n",
       "      <td>16.373</td>\n",
       "      <td>17.339</td>\n",
       "      <td>18.658</td>\n",
       "      <td>...</td>\n",
       "      <td>30.172</td>\n",
       "      <td>32.546</td>\n",
       "      <td>31.27</td>\n",
       "      <td>34.284</td>\n",
       "      <td>37.908</td>\n",
       "      <td>41.84</td>\n",
       "      <td>45.956</td>\n",
       "      <td>50.86</td>\n",
       "      <td>68.845</td>\n",
       "      <td>75.075</td>\n",
       "    </tr>\n",
       "    <tr>\n",
       "      <th>43</th>\n",
       "      <td>Czech</td>\n",
       "      <td>60.192</td>\n",
       "      <td>56.717</td>\n",
       "      <td>61.843</td>\n",
       "      <td>75.276</td>\n",
       "      <td>91.358</td>\n",
       "      <td>108.214</td>\n",
       "      <td>123.981</td>\n",
       "      <td>141.801</td>\n",
       "      <td>160.448</td>\n",
       "      <td>...</td>\n",
       "      <td>245.565</td>\n",
       "      <td>264.418</td>\n",
       "      <td>182.462</td>\n",
       "      <td>189.982</td>\n",
       "      <td>196.987</td>\n",
       "      <td>201.46</td>\n",
       "      <td>203.527</td>\n",
       "      <td>206.851</td>\n",
       "      <td>276.914</td>\n",
       "      <td>302.061</td>\n",
       "    </tr>\n",
       "    <tr>\n",
       "      <th>47</th>\n",
       "      <td>Dominican</td>\n",
       "      <td>17.601</td>\n",
       "      <td>20.059</td>\n",
       "      <td>21.943</td>\n",
       "      <td>21.625</td>\n",
       "      <td>16.459</td>\n",
       "      <td>18.435</td>\n",
       "      <td>29.092</td>\n",
       "      <td>31.6</td>\n",
       "      <td>33.119</td>\n",
       "      <td>...</td>\n",
       "      <td>54.91</td>\n",
       "      <td>58.575</td>\n",
       "      <td>66.575</td>\n",
       "      <td>69.908</td>\n",
       "      <td>73.41</td>\n",
       "      <td>77.088</td>\n",
       "      <td>80.95</td>\n",
       "      <td>85.005</td>\n",
       "      <td>89.502</td>\n",
       "      <td>97.371</td>\n",
       "    </tr>\n",
       "    <tr>\n",
       "      <th>51</th>\n",
       "      <td>Guinea</td>\n",
       "      <td>0.738</td>\n",
       "      <td>1.231</td>\n",
       "      <td>1.766</td>\n",
       "      <td>2.209</td>\n",
       "      <td>2.99</td>\n",
       "      <td>4.85</td>\n",
       "      <td>7.477</td>\n",
       "      <td>9.135</td>\n",
       "      <td>8.473</td>\n",
       "      <td>...</td>\n",
       "      <td>15.161</td>\n",
       "      <td>14.881</td>\n",
       "      <td>10.025</td>\n",
       "      <td>10.211</td>\n",
       "      <td>10.399</td>\n",
       "      <td>10.547</td>\n",
       "      <td>10.681</td>\n",
       "      <td>10.856</td>\n",
       "      <td>12.528</td>\n",
       "      <td>12.074</td>\n",
       "    </tr>\n",
       "    <tr>\n",
       "      <th>59</th>\n",
       "      <td>Gambia</td>\n",
       "      <td>0.432</td>\n",
       "      <td>0.421</td>\n",
       "      <td>0.418</td>\n",
       "      <td>0.37</td>\n",
       "      <td>0.353</td>\n",
       "      <td>0.401</td>\n",
       "      <td>0.461</td>\n",
       "      <td>0.507</td>\n",
       "      <td>0.557</td>\n",
       "      <td>...</td>\n",
       "      <td>0.882</td>\n",
       "      <td>0.944</td>\n",
       "      <td>0</td>\n",
       "      <td>0</td>\n",
       "      <td>0</td>\n",
       "      <td>0</td>\n",
       "      <td>0</td>\n",
       "      <td>0</td>\n",
       "      <td>0</td>\n",
       "      <td>0</td>\n",
       "    </tr>\n",
       "    <tr>\n",
       "      <th>67</th>\n",
       "      <td>GuineaBissau</td>\n",
       "      <td>0.224</td>\n",
       "      <td>0.216</td>\n",
       "      <td>0.199</td>\n",
       "      <td>0.204</td>\n",
       "      <td>0.236</td>\n",
       "      <td>0.27</td>\n",
       "      <td>0.302</td>\n",
       "      <td>0.305</td>\n",
       "      <td>0.342</td>\n",
       "      <td>...</td>\n",
       "      <td>0.546</td>\n",
       "      <td>0.578</td>\n",
       "      <td>1.035</td>\n",
       "      <td>1.116</td>\n",
       "      <td>1.208</td>\n",
       "      <td>1.313</td>\n",
       "      <td>1.426</td>\n",
       "      <td>1.563</td>\n",
       "      <td>1.592</td>\n",
       "      <td>1.721</td>\n",
       "    </tr>\n",
       "    <tr>\n",
       "      <th>76</th>\n",
       "      <td>Iran</td>\n",
       "      <td>104.656</td>\n",
       "      <td>96.44</td>\n",
       "      <td>115.435</td>\n",
       "      <td>116.421</td>\n",
       "      <td>133.969</td>\n",
       "      <td>161.261</td>\n",
       "      <td>188.479</td>\n",
       "      <td>212.492</td>\n",
       "      <td>225.929</td>\n",
       "      <td>...</td>\n",
       "      <td>427.594</td>\n",
       "      <td>454.918</td>\n",
       "      <td>0</td>\n",
       "      <td>0</td>\n",
       "      <td>0</td>\n",
       "      <td>0</td>\n",
       "      <td>0</td>\n",
       "      <td>0</td>\n",
       "      <td>0</td>\n",
       "      <td>0</td>\n",
       "    </tr>\n",
       "    <tr>\n",
       "      <th>88</th>\n",
       "      <td>Kyrgyz</td>\n",
       "      <td>1.267</td>\n",
       "      <td>1.368</td>\n",
       "      <td>1.525</td>\n",
       "      <td>1.606</td>\n",
       "      <td>1.919</td>\n",
       "      <td>2.215</td>\n",
       "      <td>2.46</td>\n",
       "      <td>2.822</td>\n",
       "      <td>3.287</td>\n",
       "      <td>...</td>\n",
       "      <td>5.899</td>\n",
       "      <td>6.323</td>\n",
       "      <td>7.158</td>\n",
       "      <td>7.659</td>\n",
       "      <td>8.301</td>\n",
       "      <td>8.991</td>\n",
       "      <td>9.715</td>\n",
       "      <td>10.43</td>\n",
       "      <td>8.15</td>\n",
       "      <td>8.928</td>\n",
       "    </tr>\n",
       "    <tr>\n",
       "      <th>89</th>\n",
       "      <td>Lao Peoples</td>\n",
       "      <td>1.473</td>\n",
       "      <td>1.735</td>\n",
       "      <td>1.762</td>\n",
       "      <td>1.83</td>\n",
       "      <td>2.149</td>\n",
       "      <td>2.508</td>\n",
       "      <td>2.887</td>\n",
       "      <td>3.437</td>\n",
       "      <td>3.998</td>\n",
       "      <td>...</td>\n",
       "      <td>7.688</td>\n",
       "      <td>8.374</td>\n",
       "      <td>0</td>\n",
       "      <td>0</td>\n",
       "      <td>0</td>\n",
       "      <td>0</td>\n",
       "      <td>0</td>\n",
       "      <td>0</td>\n",
       "      <td>0</td>\n",
       "      <td>0</td>\n",
       "    </tr>\n",
       "    <tr>\n",
       "      <th>97</th>\n",
       "      <td>Macedonia  Yugoslav</td>\n",
       "      <td>3.675</td>\n",
       "      <td>3.583</td>\n",
       "      <td>3.437</td>\n",
       "      <td>3.769</td>\n",
       "      <td>4.631</td>\n",
       "      <td>5.377</td>\n",
       "      <td>5.775</td>\n",
       "      <td>6.248</td>\n",
       "      <td>7.02</td>\n",
       "      <td>...</td>\n",
       "      <td>11.74</td>\n",
       "      <td>12.566</td>\n",
       "      <td>0</td>\n",
       "      <td>0</td>\n",
       "      <td>0</td>\n",
       "      <td>0</td>\n",
       "      <td>0</td>\n",
       "      <td>0</td>\n",
       "      <td>0</td>\n",
       "      <td>0</td>\n",
       "    </tr>\n",
       "    <tr>\n",
       "      <th>141</th>\n",
       "      <td>Slovak</td>\n",
       "      <td>20.602</td>\n",
       "      <td>20.374</td>\n",
       "      <td>21.108</td>\n",
       "      <td>24.522</td>\n",
       "      <td>33.005</td>\n",
       "      <td>42.015</td>\n",
       "      <td>47.428</td>\n",
       "      <td>54.969</td>\n",
       "      <td>69.279</td>\n",
       "      <td>...</td>\n",
       "      <td>115.61</td>\n",
       "      <td>122.589</td>\n",
       "      <td>86.198</td>\n",
       "      <td>90.544</td>\n",
       "      <td>96.151</td>\n",
       "      <td>101.932</td>\n",
       "      <td>107.913</td>\n",
       "      <td>115.111</td>\n",
       "      <td>116.748</td>\n",
       "      <td>127.497</td>\n",
       "    </tr>\n",
       "    <tr>\n",
       "      <th>147</th>\n",
       "      <td>St Kitts and Nevis</td>\n",
       "      <td>0.305</td>\n",
       "      <td>0.33</td>\n",
       "      <td>0.345</td>\n",
       "      <td>0.355</td>\n",
       "      <td>0.366</td>\n",
       "      <td>0.406</td>\n",
       "      <td>0.442</td>\n",
       "      <td>0.487</td>\n",
       "      <td>0.523</td>\n",
       "      <td>...</td>\n",
       "      <td>0.624</td>\n",
       "      <td>0.65</td>\n",
       "      <td>0.889</td>\n",
       "      <td>0.93</td>\n",
       "      <td>0.974</td>\n",
       "      <td>1.02</td>\n",
       "      <td>1.068</td>\n",
       "      <td>1.117</td>\n",
       "      <td>0.976</td>\n",
       "      <td>1.092</td>\n",
       "    </tr>\n",
       "    <tr>\n",
       "      <th>148</th>\n",
       "      <td>St Lucia</td>\n",
       "      <td>0.671</td>\n",
       "      <td>0.685</td>\n",
       "      <td>0.664</td>\n",
       "      <td>0.682</td>\n",
       "      <td>0.716</td>\n",
       "      <td>0.763</td>\n",
       "      <td>0.882</td>\n",
       "      <td>0.933</td>\n",
       "      <td>1.009</td>\n",
       "      <td>...</td>\n",
       "      <td>1.187</td>\n",
       "      <td>1.26</td>\n",
       "      <td>1.438</td>\n",
       "      <td>1.498</td>\n",
       "      <td>1.565</td>\n",
       "      <td>1.632</td>\n",
       "      <td>1.702</td>\n",
       "      <td>1.767</td>\n",
       "      <td>1.715</td>\n",
       "      <td>1.998</td>\n",
       "    </tr>\n",
       "    <tr>\n",
       "      <th>149</th>\n",
       "      <td>St Vincent and  Grenadines</td>\n",
       "      <td>0.332</td>\n",
       "      <td>0.335</td>\n",
       "      <td>0.345</td>\n",
       "      <td>0.365</td>\n",
       "      <td>0.382</td>\n",
       "      <td>0.408</td>\n",
       "      <td>0.43</td>\n",
       "      <td>0.466</td>\n",
       "      <td>0.507</td>\n",
       "      <td>...</td>\n",
       "      <td>0.777</td>\n",
       "      <td>0.826</td>\n",
       "      <td>0.765</td>\n",
       "      <td>0.794</td>\n",
       "      <td>0.828</td>\n",
       "      <td>0.866</td>\n",
       "      <td>0.905</td>\n",
       "      <td>0.944</td>\n",
       "      <td>0.769</td>\n",
       "      <td>0.855</td>\n",
       "    </tr>\n",
       "    <tr>\n",
       "      <th>155</th>\n",
       "      <td>Syrian Arab</td>\n",
       "      <td>16.834</td>\n",
       "      <td>19.861</td>\n",
       "      <td>21.017</td>\n",
       "      <td>22.78</td>\n",
       "      <td>22.719</td>\n",
       "      <td>24.703</td>\n",
       "      <td>27.369</td>\n",
       "      <td>31.505</td>\n",
       "      <td>34.965</td>\n",
       "      <td>...</td>\n",
       "      <td>81.836</td>\n",
       "      <td>90.182</td>\n",
       "      <td>0</td>\n",
       "      <td>0</td>\n",
       "      <td>0</td>\n",
       "      <td>0</td>\n",
       "      <td>0</td>\n",
       "      <td>0</td>\n",
       "      <td>0</td>\n",
       "      <td>0</td>\n",
       "    </tr>\n",
       "    <tr>\n",
       "      <th>156</th>\n",
       "      <td>Taiwan Province  China</td>\n",
       "      <td>298.825</td>\n",
       "      <td>321.374</td>\n",
       "      <td>291.889</td>\n",
       "      <td>294.876</td>\n",
       "      <td>299.606</td>\n",
       "      <td>322.299</td>\n",
       "      <td>346.651</td>\n",
       "      <td>355.708</td>\n",
       "      <td>365.317</td>\n",
       "      <td>...</td>\n",
       "      <td>466.126</td>\n",
       "      <td>488.158</td>\n",
       "      <td>518.816</td>\n",
       "      <td>540.073</td>\n",
       "      <td>565.374</td>\n",
       "      <td>591.253</td>\n",
       "      <td>618.101</td>\n",
       "      <td>650.902</td>\n",
       "      <td>785.589</td>\n",
       "      <td>850.528</td>\n",
       "    </tr>\n",
       "    <tr>\n",
       "      <th>160</th>\n",
       "      <td>TimorLeste Dem</td>\n",
       "      <td>0.27</td>\n",
       "      <td>0.316</td>\n",
       "      <td>0.368</td>\n",
       "      <td>0.343</td>\n",
       "      <td>0.336</td>\n",
       "      <td>0.339</td>\n",
       "      <td>0.35</td>\n",
       "      <td>0.356</td>\n",
       "      <td>0.493</td>\n",
       "      <td>...</td>\n",
       "      <td>1.136</td>\n",
       "      <td>1.337</td>\n",
       "      <td>0</td>\n",
       "      <td>0</td>\n",
       "      <td>0</td>\n",
       "      <td>0</td>\n",
       "      <td>0</td>\n",
       "      <td>0</td>\n",
       "      <td>0</td>\n",
       "      <td>0</td>\n",
       "    </tr>\n",
       "    <tr>\n",
       "      <th>177</th>\n",
       "      <td>Yemen</td>\n",
       "      <td>7.53</td>\n",
       "      <td>9.561</td>\n",
       "      <td>9.533</td>\n",
       "      <td>9.985</td>\n",
       "      <td>11.869</td>\n",
       "      <td>13.565</td>\n",
       "      <td>15.193</td>\n",
       "      <td>18.7</td>\n",
       "      <td>21.657</td>\n",
       "      <td>...</td>\n",
       "      <td>40.003</td>\n",
       "      <td>42.687</td>\n",
       "      <td>0</td>\n",
       "      <td>0</td>\n",
       "      <td>0</td>\n",
       "      <td>0</td>\n",
       "      <td>0</td>\n",
       "      <td>0</td>\n",
       "      <td>0</td>\n",
       "      <td>0</td>\n",
       "    </tr>\n",
       "  </tbody>\n",
       "</table>\n",
       "<p>23 rows × 24 columns</p>\n",
       "</div>"
      ],
      "text/plain": [
       "                        Country     1999     2000     2001     2002     2003  \\\n",
       "0                   Afghanistan        0        0        0    4.084    4.585   \n",
       "10                      Bahamas    4.704    5.004    5.131    5.389    5.503   \n",
       "31              Central African    1.039    0.962    0.968    1.045    1.198   \n",
       "37                        Congo    4.319    4.303    5.155    5.539    5.681   \n",
       "38                        Congo    2.354     3.22    2.794     3.02    3.571   \n",
       "40                 Côte dIvoire   12.573   10.448   10.554   11.527   13.764   \n",
       "43                        Czech   60.192   56.717   61.843   75.276   91.358   \n",
       "47                    Dominican   17.601   20.059   21.943   21.625   16.459   \n",
       "51                       Guinea    0.738    1.231    1.766    2.209     2.99   \n",
       "59                       Gambia    0.432    0.421    0.418     0.37    0.353   \n",
       "67                 GuineaBissau    0.224    0.216    0.199    0.204    0.236   \n",
       "76                         Iran  104.656    96.44  115.435  116.421  133.969   \n",
       "88                       Kyrgyz    1.267    1.368    1.525    1.606    1.919   \n",
       "89                  Lao Peoples    1.473    1.735    1.762     1.83    2.149   \n",
       "97          Macedonia  Yugoslav    3.675    3.583    3.437    3.769    4.631   \n",
       "141                      Slovak   20.602   20.374   21.108   24.522   33.005   \n",
       "147          St Kitts and Nevis    0.305     0.33    0.345    0.355    0.366   \n",
       "148                    St Lucia    0.671    0.685    0.664    0.682    0.716   \n",
       "149  St Vincent and  Grenadines    0.332    0.335    0.345    0.365    0.382   \n",
       "155                 Syrian Arab   16.834   19.861   21.017    22.78   22.719   \n",
       "156      Taiwan Province  China  298.825  321.374  291.889  294.876  299.606   \n",
       "160              TimorLeste Dem     0.27    0.316    0.368    0.343    0.336   \n",
       "177                       Yemen     7.53    9.561    9.533    9.985   11.869   \n",
       "\n",
       "        2004     2005     2006     2007  ...     2013     2014     2015  \\\n",
       "0      5.971    7.309    8.399    9.892  ...   21.555   24.304        0   \n",
       "10     5.661     5.87    6.223    6.624  ...     8.02    8.287        0   \n",
       "31     1.309    1.376    1.488    1.624  ...    2.599    2.776    1.624   \n",
       "37     6.539    7.096    8.543    8.953  ...   15.975   17.352        0   \n",
       "38     4.349    5.981    7.399     6.06  ...   12.783   12.671        0   \n",
       "40    15.501   16.373   17.339   18.658  ...   30.172   32.546    31.27   \n",
       "43   108.214  123.981  141.801  160.448  ...  245.565  264.418  182.462   \n",
       "47    18.435   29.092     31.6   33.119  ...    54.91   58.575   66.575   \n",
       "51      4.85    7.477    9.135    8.473  ...   15.161   14.881   10.025   \n",
       "59     0.401    0.461    0.507    0.557  ...    0.882    0.944        0   \n",
       "67      0.27    0.302    0.305    0.342  ...    0.546    0.578    1.035   \n",
       "76   161.261  188.479  212.492  225.929  ...  427.594  454.918        0   \n",
       "88     2.215     2.46    2.822    3.287  ...    5.899    6.323    7.158   \n",
       "89     2.508    2.887    3.437    3.998  ...    7.688    8.374        0   \n",
       "97     5.377    5.775    6.248     7.02  ...    11.74   12.566        0   \n",
       "141   42.015   47.428   54.969   69.279  ...   115.61  122.589   86.198   \n",
       "147    0.406    0.442    0.487    0.523  ...    0.624     0.65    0.889   \n",
       "148    0.763    0.882    0.933    1.009  ...    1.187     1.26    1.438   \n",
       "149    0.408     0.43    0.466    0.507  ...    0.777    0.826    0.765   \n",
       "155   24.703   27.369   31.505   34.965  ...   81.836   90.182        0   \n",
       "156  322.299  346.651  355.708  365.317  ...  466.126  488.158  518.816   \n",
       "160    0.339     0.35    0.356    0.493  ...    1.136    1.337        0   \n",
       "177   13.565   15.193     18.7   21.657  ...   40.003   42.687        0   \n",
       "\n",
       "        2016     2017     2018     2019     2020     2021     2022  \n",
       "0          0        0        0        0        0        0        0  \n",
       "10         0        0        0        0        0        0        0  \n",
       "31      1.84    2.096    2.371    2.637    2.916    2.587    2.797  \n",
       "37         0        0        0        0        0        0        0  \n",
       "38         0        0        0        0        0        0        0  \n",
       "40    34.284   37.908    41.84   45.956    50.86   68.845   75.075  \n",
       "43   189.982  196.987   201.46  203.527  206.851  276.914  302.061  \n",
       "47    69.908    73.41   77.088    80.95   85.005   89.502   97.371  \n",
       "51    10.211   10.399   10.547   10.681   10.856   12.528   12.074  \n",
       "59         0        0        0        0        0        0        0  \n",
       "67     1.116    1.208    1.313    1.426    1.563    1.592    1.721  \n",
       "76         0        0        0        0        0        0        0  \n",
       "88     7.659    8.301    8.991    9.715    10.43     8.15    8.928  \n",
       "89         0        0        0        0        0        0        0  \n",
       "97         0        0        0        0        0        0        0  \n",
       "141   90.544   96.151  101.932  107.913  115.111  116.748  127.497  \n",
       "147     0.93    0.974     1.02    1.068    1.117    0.976    1.092  \n",
       "148    1.498    1.565    1.632    1.702    1.767    1.715    1.998  \n",
       "149    0.794    0.828    0.866    0.905    0.944    0.769    0.855  \n",
       "155        0        0        0        0        0        0        0  \n",
       "156  540.073  565.374  591.253  618.101  650.902  785.589  850.528  \n",
       "160        0        0        0        0        0        0        0  \n",
       "177        0        0        0        0        0        0        0  \n",
       "\n",
       "[23 rows x 24 columns]"
      ]
     },
     "execution_count": 24,
     "metadata": {},
     "output_type": "execute_result"
    }
   ],
   "source": [
    "different_records = hist_gdps[transformation_differences]\n",
    "different_records"
   ]
  },
  {
   "cell_type": "markdown",
   "metadata": {},
   "source": [
    "Now let's check to see which countries still have formal terminology in the next few cells. We also need to find countries that have historically participated in the Olympics. To do this, we'll find them from `medals_cleaned` countries, because we only need countries that have participated in the Olympics"
   ]
  },
  {
   "cell_type": "code",
   "execution_count": 25,
   "metadata": {},
   "outputs": [
    {
     "data": {
      "text/plain": [
       "{'Afghanistan',\n",
       " 'Algeria',\n",
       " 'Argentina',\n",
       " 'Armenia',\n",
       " 'Australia',\n",
       " 'Austria',\n",
       " 'Azerbaijan',\n",
       " 'Bahamas',\n",
       " 'Bahrain',\n",
       " 'Barbados',\n",
       " 'Belarus',\n",
       " 'Belgium',\n",
       " 'Bermuda',\n",
       " 'Botswana',\n",
       " 'Brazil',\n",
       " 'Bulgaria',\n",
       " 'Burkina Faso',\n",
       " 'Burundi',\n",
       " 'Cameroon',\n",
       " 'Canada',\n",
       " 'Chile',\n",
       " 'China',\n",
       " 'Chinese Taipei',\n",
       " 'Colombia',\n",
       " 'Costa Rica',\n",
       " 'Croatia',\n",
       " 'Cuba',\n",
       " 'Cyprus',\n",
       " 'Czech Republic',\n",
       " 'Denmark',\n",
       " 'Dominican Republic',\n",
       " 'Ecuador',\n",
       " 'Egypt',\n",
       " 'Eritrea',\n",
       " 'Estonia',\n",
       " 'Ethiopia',\n",
       " 'Fiji',\n",
       " 'Finland',\n",
       " 'France',\n",
       " 'Gabon',\n",
       " 'Georgia',\n",
       " 'Germany',\n",
       " 'Ghana',\n",
       " 'Great Britain',\n",
       " 'Greece',\n",
       " 'Grenada',\n",
       " 'Guatemala',\n",
       " 'Hong Kong',\n",
       " 'Hungary',\n",
       " 'Iceland',\n",
       " 'Independent Olympic Athletes',\n",
       " 'India',\n",
       " 'Indonesia',\n",
       " 'Iran',\n",
       " 'Ireland',\n",
       " 'Israel',\n",
       " 'Italy',\n",
       " 'Ivory Coast',\n",
       " 'Jamaica',\n",
       " 'Japan',\n",
       " 'Jordan',\n",
       " 'Kazakhstan',\n",
       " 'Kenya',\n",
       " 'Kosovo',\n",
       " 'Kuwait',\n",
       " 'Kyrgyzstan',\n",
       " 'Latvia',\n",
       " 'Lithuania',\n",
       " 'Macedonia',\n",
       " 'Malaysia',\n",
       " 'Mauritius',\n",
       " 'Mexico',\n",
       " 'Moldova',\n",
       " 'Mongolia',\n",
       " 'Montenegro',\n",
       " 'Morocco',\n",
       " 'Mozambique',\n",
       " 'Namibia',\n",
       " 'Netherlands',\n",
       " 'New Zealand',\n",
       " 'Niger',\n",
       " 'Nigeria',\n",
       " 'North Korea',\n",
       " 'North Macedonia',\n",
       " 'Norway',\n",
       " 'Panama',\n",
       " 'Paraguay',\n",
       " 'Philippines',\n",
       " 'Poland',\n",
       " 'Portugal',\n",
       " 'Puerto Rico',\n",
       " 'Qatar',\n",
       " 'ROC',\n",
       " 'Romania',\n",
       " 'Russia',\n",
       " 'Samoa',\n",
       " 'San Marino',\n",
       " 'Saudi Arabia',\n",
       " 'Serbia',\n",
       " 'Serbia and Montenegro',\n",
       " 'Singapore',\n",
       " 'Slovakia',\n",
       " 'Slovenia',\n",
       " 'South Africa',\n",
       " 'South Korea',\n",
       " 'Spain',\n",
       " 'Sri Lanka',\n",
       " 'Sudan',\n",
       " 'Sweden',\n",
       " 'Switzerland',\n",
       " 'Syria',\n",
       " 'Tajikistan',\n",
       " 'Thailand',\n",
       " 'Togo',\n",
       " 'Trinidad and Tobago',\n",
       " 'Tunisia',\n",
       " 'Turkey',\n",
       " 'Turkmenistan',\n",
       " 'Uganda',\n",
       " 'Ukraine',\n",
       " 'United Arab Emirates',\n",
       " 'United States',\n",
       " 'Uruguay',\n",
       " 'Uzbekistan',\n",
       " 'Venezuela',\n",
       " 'Vietnam',\n",
       " 'Yugoslavia',\n",
       " 'Zimbabwe'}"
      ]
     },
     "execution_count": 25,
     "metadata": {},
     "output_type": "execute_result"
    }
   ],
   "source": [
    "valid_countries = set(medals_cleaned['Country_Name'].unique())\n",
    "valid_countries"
   ]
  },
  {
   "cell_type": "code",
   "execution_count": 26,
   "metadata": {},
   "outputs": [
    {
     "data": {
      "text/plain": [
       "128"
      ]
     },
     "execution_count": 26,
     "metadata": {},
     "output_type": "execute_result"
    }
   ],
   "source": [
    "valid_countries_num = medals_cleaned['Country_Name'].nunique()\n",
    "valid_countries_num"
   ]
  },
  {
   "cell_type": "markdown",
   "metadata": {},
   "source": [
    "So there are 128 Countries in the `medals_cleaned` Dataset, but do we have all 128 in our cleaned filtered_gdps?"
   ]
  },
  {
   "cell_type": "code",
   "execution_count": 27,
   "metadata": {},
   "outputs": [
    {
     "data": {
      "text/html": [
       "<div>\n",
       "<style scoped>\n",
       "    .dataframe tbody tr th:only-of-type {\n",
       "        vertical-align: middle;\n",
       "    }\n",
       "\n",
       "    .dataframe tbody tr th {\n",
       "        vertical-align: top;\n",
       "    }\n",
       "\n",
       "    .dataframe thead th {\n",
       "        text-align: right;\n",
       "    }\n",
       "</style>\n",
       "<table border=\"1\" class=\"dataframe\">\n",
       "  <thead>\n",
       "    <tr style=\"text-align: right;\">\n",
       "      <th></th>\n",
       "      <th>Country</th>\n",
       "      <th>1999</th>\n",
       "      <th>2000</th>\n",
       "      <th>2001</th>\n",
       "      <th>2002</th>\n",
       "      <th>2003</th>\n",
       "      <th>2004</th>\n",
       "      <th>2005</th>\n",
       "      <th>2006</th>\n",
       "      <th>2007</th>\n",
       "      <th>...</th>\n",
       "      <th>2013</th>\n",
       "      <th>2014</th>\n",
       "      <th>2015</th>\n",
       "      <th>2016</th>\n",
       "      <th>2017</th>\n",
       "      <th>2018</th>\n",
       "      <th>2019</th>\n",
       "      <th>2020</th>\n",
       "      <th>2021</th>\n",
       "      <th>2022</th>\n",
       "    </tr>\n",
       "  </thead>\n",
       "  <tbody>\n",
       "    <tr>\n",
       "      <th>0</th>\n",
       "      <td>Afghanistan</td>\n",
       "      <td>0</td>\n",
       "      <td>0</td>\n",
       "      <td>0</td>\n",
       "      <td>4.084</td>\n",
       "      <td>4.585</td>\n",
       "      <td>5.971</td>\n",
       "      <td>7.309</td>\n",
       "      <td>8.399</td>\n",
       "      <td>9.892</td>\n",
       "      <td>...</td>\n",
       "      <td>21.555</td>\n",
       "      <td>24.304</td>\n",
       "      <td>0</td>\n",
       "      <td>0</td>\n",
       "      <td>0</td>\n",
       "      <td>0</td>\n",
       "      <td>0</td>\n",
       "      <td>0</td>\n",
       "      <td>0</td>\n",
       "      <td>0</td>\n",
       "    </tr>\n",
       "    <tr>\n",
       "      <th>2</th>\n",
       "      <td>Algeria</td>\n",
       "      <td>48.845</td>\n",
       "      <td>54.749</td>\n",
       "      <td>55.181</td>\n",
       "      <td>57.053</td>\n",
       "      <td>68.013</td>\n",
       "      <td>85.016</td>\n",
       "      <td>102.38</td>\n",
       "      <td>114.322</td>\n",
       "      <td>116.158</td>\n",
       "      <td>...</td>\n",
       "      <td>190.432</td>\n",
       "      <td>203.449</td>\n",
       "      <td>175.077</td>\n",
       "      <td>181.71</td>\n",
       "      <td>192.256</td>\n",
       "      <td>202.179</td>\n",
       "      <td>210.906</td>\n",
       "      <td>219.16</td>\n",
       "      <td>163.812</td>\n",
       "      <td>168.195</td>\n",
       "    </tr>\n",
       "    <tr>\n",
       "      <th>5</th>\n",
       "      <td>Argentina</td>\n",
       "      <td>283.523</td>\n",
       "      <td>284.204</td>\n",
       "      <td>268.697</td>\n",
       "      <td>97.732</td>\n",
       "      <td>127.643</td>\n",
       "      <td>151.958</td>\n",
       "      <td>181.549</td>\n",
       "      <td>212.702</td>\n",
       "      <td>247.096</td>\n",
       "      <td>...</td>\n",
       "      <td>329.332</td>\n",
       "      <td>347.731</td>\n",
       "      <td>578.705</td>\n",
       "      <td>578.692</td>\n",
       "      <td>589.585</td>\n",
       "      <td>602.868</td>\n",
       "      <td>617.386</td>\n",
       "      <td>633.889</td>\n",
       "      <td>455.172</td>\n",
       "      <td>483.765</td>\n",
       "    </tr>\n",
       "    <tr>\n",
       "      <th>6</th>\n",
       "      <td>Armenia</td>\n",
       "      <td>1.845</td>\n",
       "      <td>1.912</td>\n",
       "      <td>2.118</td>\n",
       "      <td>2.376</td>\n",
       "      <td>2.807</td>\n",
       "      <td>3.573</td>\n",
       "      <td>4.903</td>\n",
       "      <td>6.41</td>\n",
       "      <td>7.666</td>\n",
       "      <td>...</td>\n",
       "      <td>9.844</td>\n",
       "      <td>10.821</td>\n",
       "      <td>10.607</td>\n",
       "      <td>10.672</td>\n",
       "      <td>11.074</td>\n",
       "      <td>11.63</td>\n",
       "      <td>12.273</td>\n",
       "      <td>12.939</td>\n",
       "      <td>13.612</td>\n",
       "      <td>15.06</td>\n",
       "    </tr>\n",
       "    <tr>\n",
       "      <th>7</th>\n",
       "      <td>Australia</td>\n",
       "      <td>401.782</td>\n",
       "      <td>390.017</td>\n",
       "      <td>368.191</td>\n",
       "      <td>412.901</td>\n",
       "      <td>527.588</td>\n",
       "      <td>639.356</td>\n",
       "      <td>712.436</td>\n",
       "      <td>754.816</td>\n",
       "      <td>822.089</td>\n",
       "      <td>...</td>\n",
       "      <td>1,078.91</td>\n",
       "      <td>1,125.82</td>\n",
       "      <td>1,240.80</td>\n",
       "      <td>1,253.00</td>\n",
       "      <td>1,317.16</td>\n",
       "      <td>1,381.51</td>\n",
       "      <td>1,442.47</td>\n",
       "      <td>1,515.70</td>\n",
       "      <td>1,610.56</td>\n",
       "      <td>1,677.45</td>\n",
       "    </tr>\n",
       "    <tr>\n",
       "      <th>...</th>\n",
       "      <td>...</td>\n",
       "      <td>...</td>\n",
       "      <td>...</td>\n",
       "      <td>...</td>\n",
       "      <td>...</td>\n",
       "      <td>...</td>\n",
       "      <td>...</td>\n",
       "      <td>...</td>\n",
       "      <td>...</td>\n",
       "      <td>...</td>\n",
       "      <td>...</td>\n",
       "      <td>...</td>\n",
       "      <td>...</td>\n",
       "      <td>...</td>\n",
       "      <td>...</td>\n",
       "      <td>...</td>\n",
       "      <td>...</td>\n",
       "      <td>...</td>\n",
       "      <td>...</td>\n",
       "      <td>...</td>\n",
       "      <td>...</td>\n",
       "    </tr>\n",
       "    <tr>\n",
       "      <th>172</th>\n",
       "      <td>Uruguay</td>\n",
       "      <td>20.913</td>\n",
       "      <td>20.086</td>\n",
       "      <td>18.561</td>\n",
       "      <td>12.089</td>\n",
       "      <td>11.211</td>\n",
       "      <td>13.268</td>\n",
       "      <td>16.878</td>\n",
       "      <td>19.221</td>\n",
       "      <td>20.725</td>\n",
       "      <td>...</td>\n",
       "      <td>54.388</td>\n",
       "      <td>63.167</td>\n",
       "      <td>54.968</td>\n",
       "      <td>57.151</td>\n",
       "      <td>59.943</td>\n",
       "      <td>63.134</td>\n",
       "      <td>66.532</td>\n",
       "      <td>70.107</td>\n",
       "      <td>60.108</td>\n",
       "      <td>63.741</td>\n",
       "    </tr>\n",
       "    <tr>\n",
       "      <th>173</th>\n",
       "      <td>Uzbekistan</td>\n",
       "      <td>17.041</td>\n",
       "      <td>13.717</td>\n",
       "      <td>11.632</td>\n",
       "      <td>9.657</td>\n",
       "      <td>10.129</td>\n",
       "      <td>12.001</td>\n",
       "      <td>13.67</td>\n",
       "      <td>16.088</td>\n",
       "      <td>18.84</td>\n",
       "      <td>...</td>\n",
       "      <td>51.125</td>\n",
       "      <td>58.224</td>\n",
       "      <td>65.953</td>\n",
       "      <td>68.699</td>\n",
       "      <td>73.457</td>\n",
       "      <td>78.31</td>\n",
       "      <td>83.478</td>\n",
       "      <td>88.986</td>\n",
       "      <td>65.503</td>\n",
       "      <td>72.762</td>\n",
       "    </tr>\n",
       "    <tr>\n",
       "      <th>175</th>\n",
       "      <td>Venezuela</td>\n",
       "      <td>97.977</td>\n",
       "      <td>117.153</td>\n",
       "      <td>122.872</td>\n",
       "      <td>92.889</td>\n",
       "      <td>83.442</td>\n",
       "      <td>112.8</td>\n",
       "      <td>143.443</td>\n",
       "      <td>181.608</td>\n",
       "      <td>219.372</td>\n",
       "      <td>...</td>\n",
       "      <td>403.123</td>\n",
       "      <td>409.562</td>\n",
       "      <td>131.855</td>\n",
       "      <td>133.534</td>\n",
       "      <td>144.227</td>\n",
       "      <td>155.096</td>\n",
       "      <td>170.41</td>\n",
       "      <td>184.364</td>\n",
       "      <td>44.893</td>\n",
       "      <td>43.546</td>\n",
       "    </tr>\n",
       "    <tr>\n",
       "      <th>176</th>\n",
       "      <td>Vietnam</td>\n",
       "      <td>28.684</td>\n",
       "      <td>31.196</td>\n",
       "      <td>32.504</td>\n",
       "      <td>35.148</td>\n",
       "      <td>39.63</td>\n",
       "      <td>45.548</td>\n",
       "      <td>53.053</td>\n",
       "      <td>60.995</td>\n",
       "      <td>68.298</td>\n",
       "      <td>...</td>\n",
       "      <td>135.729</td>\n",
       "      <td>148.914</td>\n",
       "      <td>198.805</td>\n",
       "      <td>214.75</td>\n",
       "      <td>229.845</td>\n",
       "      <td>247.415</td>\n",
       "      <td>265.987</td>\n",
       "      <td>287.257</td>\n",
       "      <td>368.002</td>\n",
       "      <td>415.493</td>\n",
       "    </tr>\n",
       "    <tr>\n",
       "      <th>179</th>\n",
       "      <td>Zimbabwe</td>\n",
       "      <td>5.963</td>\n",
       "      <td>8.136</td>\n",
       "      <td>12.883</td>\n",
       "      <td>30.856</td>\n",
       "      <td>10.515</td>\n",
       "      <td>4.7</td>\n",
       "      <td>4.552</td>\n",
       "      <td>5.54</td>\n",
       "      <td>18.281</td>\n",
       "      <td>...</td>\n",
       "      <td>6.214</td>\n",
       "      <td>6.851</td>\n",
       "      <td>13.905</td>\n",
       "      <td>14.292</td>\n",
       "      <td>14.994</td>\n",
       "      <td>15.736</td>\n",
       "      <td>16.609</td>\n",
       "      <td>17.529</td>\n",
       "      <td>25.791</td>\n",
       "      <td>27.806</td>\n",
       "    </tr>\n",
       "  </tbody>\n",
       "</table>\n",
       "<p>105 rows × 24 columns</p>\n",
       "</div>"
      ],
      "text/plain": [
       "         Country     1999     2000     2001     2002     2003     2004  \\\n",
       "0    Afghanistan        0        0        0    4.084    4.585    5.971   \n",
       "2        Algeria   48.845   54.749   55.181   57.053   68.013   85.016   \n",
       "5      Argentina  283.523  284.204  268.697   97.732  127.643  151.958   \n",
       "6        Armenia    1.845    1.912    2.118    2.376    2.807    3.573   \n",
       "7      Australia  401.782  390.017  368.191  412.901  527.588  639.356   \n",
       "..           ...      ...      ...      ...      ...      ...      ...   \n",
       "172      Uruguay   20.913   20.086   18.561   12.089   11.211   13.268   \n",
       "173   Uzbekistan   17.041   13.717   11.632    9.657   10.129   12.001   \n",
       "175    Venezuela   97.977  117.153  122.872   92.889   83.442    112.8   \n",
       "176      Vietnam   28.684   31.196   32.504   35.148    39.63   45.548   \n",
       "179     Zimbabwe    5.963    8.136   12.883   30.856   10.515      4.7   \n",
       "\n",
       "        2005     2006     2007  ...      2013      2014      2015      2016  \\\n",
       "0      7.309    8.399    9.892  ...    21.555    24.304         0         0   \n",
       "2     102.38  114.322  116.158  ...   190.432   203.449   175.077    181.71   \n",
       "5    181.549  212.702  247.096  ...   329.332   347.731   578.705   578.692   \n",
       "6      4.903     6.41    7.666  ...     9.844    10.821    10.607    10.672   \n",
       "7    712.436  754.816  822.089  ...  1,078.91  1,125.82  1,240.80  1,253.00   \n",
       "..       ...      ...      ...  ...       ...       ...       ...       ...   \n",
       "172   16.878   19.221   20.725  ...    54.388    63.167    54.968    57.151   \n",
       "173    13.67   16.088    18.84  ...    51.125    58.224    65.953    68.699   \n",
       "175  143.443  181.608  219.372  ...   403.123   409.562   131.855   133.534   \n",
       "176   53.053   60.995   68.298  ...   135.729   148.914   198.805    214.75   \n",
       "179    4.552     5.54   18.281  ...     6.214     6.851    13.905    14.292   \n",
       "\n",
       "         2017      2018      2019      2020      2021      2022  \n",
       "0           0         0         0         0         0         0  \n",
       "2     192.256   202.179   210.906    219.16   163.812   168.195  \n",
       "5     589.585   602.868   617.386   633.889   455.172   483.765  \n",
       "6      11.074     11.63    12.273    12.939    13.612     15.06  \n",
       "7    1,317.16  1,381.51  1,442.47  1,515.70  1,610.56  1,677.45  \n",
       "..        ...       ...       ...       ...       ...       ...  \n",
       "172    59.943    63.134    66.532    70.107    60.108    63.741  \n",
       "173    73.457     78.31    83.478    88.986    65.503    72.762  \n",
       "175   144.227   155.096    170.41   184.364    44.893    43.546  \n",
       "176   229.845   247.415   265.987   287.257   368.002   415.493  \n",
       "179    14.994    15.736    16.609    17.529    25.791    27.806  \n",
       "\n",
       "[105 rows x 24 columns]"
      ]
     },
     "execution_count": 27,
     "metadata": {},
     "output_type": "execute_result"
    }
   ],
   "source": [
    "filtered_gdps = hist_gdps[hist_gdps['Country'].isin(valid_countries)]\n",
    "filtered_gdps"
   ]
  },
  {
   "cell_type": "markdown",
   "metadata": {},
   "source": [
    "No we do not! To find the countries we need to add in which are currently `missing_countries`, we'll subtract `filtered_gdps`'s Countries from `valid_countries` (from `medals_cleaned`)"
   ]
  },
  {
   "cell_type": "code",
   "execution_count": 28,
   "metadata": {},
   "outputs": [
    {
     "data": {
      "text/plain": [
       "{'Bermuda',\n",
       " 'Chinese Taipei',\n",
       " 'Cuba',\n",
       " 'Czech Republic',\n",
       " 'Dominican Republic',\n",
       " 'Great Britain',\n",
       " 'Hong Kong',\n",
       " 'Independent Olympic Athletes',\n",
       " 'Ivory Coast',\n",
       " 'Kosovo',\n",
       " 'Kyrgyzstan',\n",
       " 'Macedonia',\n",
       " 'Montenegro',\n",
       " 'North Korea',\n",
       " 'North Macedonia',\n",
       " 'Puerto Rico',\n",
       " 'ROC',\n",
       " 'San Marino',\n",
       " 'Serbia and Montenegro',\n",
       " 'Slovakia',\n",
       " 'South Korea',\n",
       " 'Syria',\n",
       " 'Yugoslavia'}"
      ]
     },
     "execution_count": 28,
     "metadata": {},
     "output_type": "execute_result"
    }
   ],
   "source": [
    "filtered_countries = set(filtered_gdps['Country'])\n",
    "missing_countries = set(valid_countries - filtered_countries)\n",
    "missing_countries"
   ]
  },
  {
   "cell_type": "markdown",
   "metadata": {},
   "source": [
    "Now we know which countries are missing, let's add their rows to filtered_gdps\n",
    "- They're missing because they have formal names and we haven't transformed them regular expressions. \n",
    "- we need to find the rows of the missing nations from `org_hist_gdps` (if they're available)\n",
    "- some of these Countries from `medals_cleaned` aren't available `org_hist_gdps`"
   ]
  },
  {
   "cell_type": "code",
   "execution_count": 29,
   "metadata": {},
   "outputs": [],
   "source": [
    "org_hist_gdps_replace = org_hist_gdps.copy()"
   ]
  },
  {
   "cell_type": "code",
   "execution_count": 30,
   "metadata": {},
   "outputs": [],
   "source": [
    "org_hist_gdps_replace['Country'] = org_hist_gdps_replace['Country'].replace({\n",
    "    'Taiwan Province of China': 'Chinese Taipei', \n",
    "    'Czech Republic': 'Czech Republic', \n",
    "    'Dominican Republic': 'Dominican Republic', \n",
    "    'United Kingdom': 'Great Britain', \n",
    "    'Hong Kong SAR': 'Hong Kong', \n",
    "    \"Côte d'Ivoire\": 'Ivory Coast', \n",
    "    'Kyrgyz Republic': 'Kyrgyzstan', \n",
    "    'Macedonia, Former Yugoslav Republic of': 'North Macedonia', \n",
    "    'Korea': 'South Korea', \n",
    "    'Serbia': 'Serbia and Montenegro', \n",
    "    'Slovak Republic': 'Slovakia', \n",
    "    'Syrian Arab Republic': 'Syria'\n",
    "    })"
   ]
  },
  {
   "cell_type": "code",
   "execution_count": 31,
   "metadata": {},
   "outputs": [
    {
     "data": {
      "text/html": [
       "<div>\n",
       "<style scoped>\n",
       "    .dataframe tbody tr th:only-of-type {\n",
       "        vertical-align: middle;\n",
       "    }\n",
       "\n",
       "    .dataframe tbody tr th {\n",
       "        vertical-align: top;\n",
       "    }\n",
       "\n",
       "    .dataframe thead th {\n",
       "        text-align: right;\n",
       "    }\n",
       "</style>\n",
       "<table border=\"1\" class=\"dataframe\">\n",
       "  <thead>\n",
       "    <tr style=\"text-align: right;\">\n",
       "      <th></th>\n",
       "      <th>Country</th>\n",
       "      <th>1999</th>\n",
       "      <th>2000</th>\n",
       "      <th>2001</th>\n",
       "      <th>2002</th>\n",
       "      <th>2003</th>\n",
       "      <th>2004</th>\n",
       "      <th>2005</th>\n",
       "      <th>2006</th>\n",
       "      <th>2007</th>\n",
       "      <th>...</th>\n",
       "      <th>2013</th>\n",
       "      <th>2014</th>\n",
       "      <th>2015</th>\n",
       "      <th>2016</th>\n",
       "      <th>2017</th>\n",
       "      <th>2018</th>\n",
       "      <th>2019</th>\n",
       "      <th>2020</th>\n",
       "      <th>2021</th>\n",
       "      <th>2022</th>\n",
       "    </tr>\n",
       "  </thead>\n",
       "  <tbody>\n",
       "    <tr>\n",
       "      <th>40</th>\n",
       "      <td>Ivory Coast</td>\n",
       "      <td>12.573</td>\n",
       "      <td>10.448</td>\n",
       "      <td>10.554</td>\n",
       "      <td>11.527</td>\n",
       "      <td>13.764</td>\n",
       "      <td>15.501</td>\n",
       "      <td>16.373</td>\n",
       "      <td>17.339</td>\n",
       "      <td>18.658</td>\n",
       "      <td>...</td>\n",
       "      <td>30.172</td>\n",
       "      <td>32.546</td>\n",
       "      <td>31.27</td>\n",
       "      <td>34.284</td>\n",
       "      <td>37.908</td>\n",
       "      <td>41.84</td>\n",
       "      <td>45.956</td>\n",
       "      <td>50.86</td>\n",
       "      <td>68.845</td>\n",
       "      <td>75.075</td>\n",
       "    </tr>\n",
       "  </tbody>\n",
       "</table>\n",
       "<p>1 rows × 24 columns</p>\n",
       "</div>"
      ],
      "text/plain": [
       "        Country    1999    2000    2001    2002    2003    2004    2005  \\\n",
       "40  Ivory Coast  12.573  10.448  10.554  11.527  13.764  15.501  16.373   \n",
       "\n",
       "      2006    2007  ...    2013    2014   2015    2016    2017   2018    2019  \\\n",
       "40  17.339  18.658  ...  30.172  32.546  31.27  34.284  37.908  41.84  45.956   \n",
       "\n",
       "     2020    2021    2022  \n",
       "40  50.86  68.845  75.075  \n",
       "\n",
       "[1 rows x 24 columns]"
      ]
     },
     "execution_count": 31,
     "metadata": {},
     "output_type": "execute_result"
    }
   ],
   "source": [
    "org_hist_gdps_replace[org_hist_gdps_replace['Country'] == \"Ivory Coast\"]"
   ]
  },
  {
   "cell_type": "markdown",
   "metadata": {},
   "source": [
    "Not all the 23 missing countries that were in `missing_countries` are available in the `org_hist_gdps` dataset. This is fine, we still have a handful of 12 countries to work with. Since 105 countries are already in `filtered_gdps`, we just need to add the 12 countries to `filtered_gdps`, therefore there should be **117** rows in `filtered_gdps` when cleaning is finished. "
   ]
  },
  {
   "cell_type": "code",
   "execution_count": 32,
   "metadata": {},
   "outputs": [],
   "source": [
    "manual_country_names = {\n",
    "    'Taiwan Province of China': 'Chinese Taipei', \n",
    "    'Czech Republic': 'Czech Republic', \n",
    "    'Dominican Republic': 'Dominican Republic', \n",
    "    'United Kingdom': 'Great Britain', \n",
    "    'Hong Kong SAR': 'Hong Kong', \n",
    "    \"Côte d'Ivoire'\": 'Ivory Coast', \n",
    "    'Kyrgyz Republic': 'Kyrgyzstan', \n",
    "    'Macedonia, Former Yugoslav Republic of': 'North Macedonia', \n",
    "    'Korea': 'South Korea', \n",
    "    'Serbia': 'Serbia and Montenegro', \n",
    "    'Slovak Republic': 'Slovakia', \n",
    "    'Syrian Arab Republic': 'Syria'\n",
    "    }"
   ]
  },
  {
   "cell_type": "markdown",
   "metadata": {},
   "source": [
    "We find the rows of the `missing_countries` we have GDP data about"
   ]
  },
  {
   "cell_type": "code",
   "execution_count": 33,
   "metadata": {},
   "outputs": [
    {
     "data": {
      "text/html": [
       "<div>\n",
       "<style scoped>\n",
       "    .dataframe tbody tr th:only-of-type {\n",
       "        vertical-align: middle;\n",
       "    }\n",
       "\n",
       "    .dataframe tbody tr th {\n",
       "        vertical-align: top;\n",
       "    }\n",
       "\n",
       "    .dataframe thead th {\n",
       "        text-align: right;\n",
       "    }\n",
       "</style>\n",
       "<table border=\"1\" class=\"dataframe\">\n",
       "  <thead>\n",
       "    <tr style=\"text-align: right;\">\n",
       "      <th></th>\n",
       "      <th>Country</th>\n",
       "      <th>1999</th>\n",
       "      <th>2000</th>\n",
       "      <th>2001</th>\n",
       "      <th>2002</th>\n",
       "      <th>2003</th>\n",
       "      <th>2004</th>\n",
       "      <th>2005</th>\n",
       "      <th>2006</th>\n",
       "      <th>2007</th>\n",
       "      <th>...</th>\n",
       "      <th>2013</th>\n",
       "      <th>2014</th>\n",
       "      <th>2015</th>\n",
       "      <th>2016</th>\n",
       "      <th>2017</th>\n",
       "      <th>2018</th>\n",
       "      <th>2019</th>\n",
       "      <th>2020</th>\n",
       "      <th>2021</th>\n",
       "      <th>2022</th>\n",
       "    </tr>\n",
       "  </thead>\n",
       "  <tbody>\n",
       "    <tr>\n",
       "      <th>40</th>\n",
       "      <td>Ivory Coast</td>\n",
       "      <td>12.573</td>\n",
       "      <td>10.448</td>\n",
       "      <td>10.554</td>\n",
       "      <td>11.527</td>\n",
       "      <td>13.764</td>\n",
       "      <td>15.501</td>\n",
       "      <td>16.373</td>\n",
       "      <td>17.339</td>\n",
       "      <td>18.658</td>\n",
       "      <td>...</td>\n",
       "      <td>30.172</td>\n",
       "      <td>32.546</td>\n",
       "      <td>31.27</td>\n",
       "      <td>34.284</td>\n",
       "      <td>37.908</td>\n",
       "      <td>41.84</td>\n",
       "      <td>45.956</td>\n",
       "      <td>50.86</td>\n",
       "      <td>68.845</td>\n",
       "      <td>75.075</td>\n",
       "    </tr>\n",
       "    <tr>\n",
       "      <th>43</th>\n",
       "      <td>Czech Republic</td>\n",
       "      <td>60.192</td>\n",
       "      <td>56.717</td>\n",
       "      <td>61.843</td>\n",
       "      <td>75.276</td>\n",
       "      <td>91.358</td>\n",
       "      <td>108.214</td>\n",
       "      <td>123.981</td>\n",
       "      <td>141.801</td>\n",
       "      <td>160.448</td>\n",
       "      <td>...</td>\n",
       "      <td>245.565</td>\n",
       "      <td>264.418</td>\n",
       "      <td>182.462</td>\n",
       "      <td>189.982</td>\n",
       "      <td>196.987</td>\n",
       "      <td>201.46</td>\n",
       "      <td>203.527</td>\n",
       "      <td>206.851</td>\n",
       "      <td>276.914</td>\n",
       "      <td>302.061</td>\n",
       "    </tr>\n",
       "    <tr>\n",
       "      <th>47</th>\n",
       "      <td>Dominican Republic</td>\n",
       "      <td>17.601</td>\n",
       "      <td>20.059</td>\n",
       "      <td>21.943</td>\n",
       "      <td>21.625</td>\n",
       "      <td>16.459</td>\n",
       "      <td>18.435</td>\n",
       "      <td>29.092</td>\n",
       "      <td>31.6</td>\n",
       "      <td>33.119</td>\n",
       "      <td>...</td>\n",
       "      <td>54.91</td>\n",
       "      <td>58.575</td>\n",
       "      <td>66.575</td>\n",
       "      <td>69.908</td>\n",
       "      <td>73.41</td>\n",
       "      <td>77.088</td>\n",
       "      <td>80.95</td>\n",
       "      <td>85.005</td>\n",
       "      <td>89.502</td>\n",
       "      <td>97.371</td>\n",
       "    </tr>\n",
       "    <tr>\n",
       "      <th>71</th>\n",
       "      <td>Hong Kong</td>\n",
       "      <td>163.288</td>\n",
       "      <td>168.754</td>\n",
       "      <td>166.541</td>\n",
       "      <td>163.709</td>\n",
       "      <td>158.473</td>\n",
       "      <td>165.823</td>\n",
       "      <td>177.784</td>\n",
       "      <td>189.538</td>\n",
       "      <td>201.797</td>\n",
       "      <td>...</td>\n",
       "      <td>257.357</td>\n",
       "      <td>271.4</td>\n",
       "      <td>307.79</td>\n",
       "      <td>322.166</td>\n",
       "      <td>339.378</td>\n",
       "      <td>358.665</td>\n",
       "      <td>379.776</td>\n",
       "      <td>405.781</td>\n",
       "      <td>369.722</td>\n",
       "      <td>389.977</td>\n",
       "    </tr>\n",
       "    <tr>\n",
       "      <th>86</th>\n",
       "      <td>South Korea</td>\n",
       "      <td>445.557</td>\n",
       "      <td>511.961</td>\n",
       "      <td>481.979</td>\n",
       "      <td>547.856</td>\n",
       "      <td>608.337</td>\n",
       "      <td>681.227</td>\n",
       "      <td>791.572</td>\n",
       "      <td>888.267</td>\n",
       "      <td>942.975</td>\n",
       "      <td>...</td>\n",
       "      <td>1,087.25</td>\n",
       "      <td>1,167.69</td>\n",
       "      <td>1,392.95</td>\n",
       "      <td>1,450.05</td>\n",
       "      <td>1,545.81</td>\n",
       "      <td>1,649.08</td>\n",
       "      <td>1,763.36</td>\n",
       "      <td>1,898.76</td>\n",
       "      <td>1,823.85</td>\n",
       "      <td>1,907.66</td>\n",
       "    </tr>\n",
       "    <tr>\n",
       "      <th>88</th>\n",
       "      <td>Kyrgyzstan</td>\n",
       "      <td>1.267</td>\n",
       "      <td>1.368</td>\n",
       "      <td>1.525</td>\n",
       "      <td>1.606</td>\n",
       "      <td>1.919</td>\n",
       "      <td>2.215</td>\n",
       "      <td>2.46</td>\n",
       "      <td>2.822</td>\n",
       "      <td>3.287</td>\n",
       "      <td>...</td>\n",
       "      <td>5.899</td>\n",
       "      <td>6.323</td>\n",
       "      <td>7.158</td>\n",
       "      <td>7.659</td>\n",
       "      <td>8.301</td>\n",
       "      <td>8.991</td>\n",
       "      <td>9.715</td>\n",
       "      <td>10.43</td>\n",
       "      <td>8.15</td>\n",
       "      <td>8.928</td>\n",
       "    </tr>\n",
       "    <tr>\n",
       "      <th>97</th>\n",
       "      <td>North Macedonia</td>\n",
       "      <td>3.675</td>\n",
       "      <td>3.583</td>\n",
       "      <td>3.437</td>\n",
       "      <td>3.769</td>\n",
       "      <td>4.631</td>\n",
       "      <td>5.377</td>\n",
       "      <td>5.775</td>\n",
       "      <td>6.248</td>\n",
       "      <td>7.02</td>\n",
       "      <td>...</td>\n",
       "      <td>11.74</td>\n",
       "      <td>12.566</td>\n",
       "      <td>0</td>\n",
       "      <td>0</td>\n",
       "      <td>0</td>\n",
       "      <td>0</td>\n",
       "      <td>0</td>\n",
       "      <td>0</td>\n",
       "      <td>0</td>\n",
       "      <td>0</td>\n",
       "    </tr>\n",
       "    <tr>\n",
       "      <th>137</th>\n",
       "      <td>Serbia and Montenegro</td>\n",
       "      <td>0</td>\n",
       "      <td>8.963</td>\n",
       "      <td>11.759</td>\n",
       "      <td>15.831</td>\n",
       "      <td>20.34</td>\n",
       "      <td>24.518</td>\n",
       "      <td>26.232</td>\n",
       "      <td>31.589</td>\n",
       "      <td>35.967</td>\n",
       "      <td>...</td>\n",
       "      <td>55.836</td>\n",
       "      <td>61.11</td>\n",
       "      <td>36.555</td>\n",
       "      <td>37.74</td>\n",
       "      <td>39.804</td>\n",
       "      <td>42.946</td>\n",
       "      <td>46.258</td>\n",
       "      <td>50.031</td>\n",
       "      <td>60.669</td>\n",
       "      <td>65.697</td>\n",
       "    </tr>\n",
       "    <tr>\n",
       "      <th>141</th>\n",
       "      <td>Slovakia</td>\n",
       "      <td>20.602</td>\n",
       "      <td>20.374</td>\n",
       "      <td>21.108</td>\n",
       "      <td>24.522</td>\n",
       "      <td>33.005</td>\n",
       "      <td>42.015</td>\n",
       "      <td>47.428</td>\n",
       "      <td>54.969</td>\n",
       "      <td>69.279</td>\n",
       "      <td>...</td>\n",
       "      <td>115.61</td>\n",
       "      <td>122.589</td>\n",
       "      <td>86.198</td>\n",
       "      <td>90.544</td>\n",
       "      <td>96.151</td>\n",
       "      <td>101.932</td>\n",
       "      <td>107.913</td>\n",
       "      <td>115.111</td>\n",
       "      <td>116.748</td>\n",
       "      <td>127.497</td>\n",
       "    </tr>\n",
       "    <tr>\n",
       "      <th>155</th>\n",
       "      <td>Syria</td>\n",
       "      <td>16.834</td>\n",
       "      <td>19.861</td>\n",
       "      <td>21.017</td>\n",
       "      <td>22.78</td>\n",
       "      <td>22.719</td>\n",
       "      <td>24.703</td>\n",
       "      <td>27.369</td>\n",
       "      <td>31.505</td>\n",
       "      <td>34.965</td>\n",
       "      <td>...</td>\n",
       "      <td>81.836</td>\n",
       "      <td>90.182</td>\n",
       "      <td>0</td>\n",
       "      <td>0</td>\n",
       "      <td>0</td>\n",
       "      <td>0</td>\n",
       "      <td>0</td>\n",
       "      <td>0</td>\n",
       "      <td>0</td>\n",
       "      <td>0</td>\n",
       "    </tr>\n",
       "    <tr>\n",
       "      <th>156</th>\n",
       "      <td>Chinese Taipei</td>\n",
       "      <td>298.825</td>\n",
       "      <td>321.374</td>\n",
       "      <td>291.889</td>\n",
       "      <td>294.876</td>\n",
       "      <td>299.606</td>\n",
       "      <td>322.299</td>\n",
       "      <td>346.651</td>\n",
       "      <td>355.708</td>\n",
       "      <td>365.317</td>\n",
       "      <td>...</td>\n",
       "      <td>466.126</td>\n",
       "      <td>488.158</td>\n",
       "      <td>518.816</td>\n",
       "      <td>540.073</td>\n",
       "      <td>565.374</td>\n",
       "      <td>591.253</td>\n",
       "      <td>618.101</td>\n",
       "      <td>650.902</td>\n",
       "      <td>785.589</td>\n",
       "      <td>850.528</td>\n",
       "    </tr>\n",
       "    <tr>\n",
       "      <th>170</th>\n",
       "      <td>Great Britain</td>\n",
       "      <td>1,467.03</td>\n",
       "      <td>1,445.19</td>\n",
       "      <td>1,435.63</td>\n",
       "      <td>1,574.47</td>\n",
       "      <td>1,814.64</td>\n",
       "      <td>2,155.16</td>\n",
       "      <td>2,230.61</td>\n",
       "      <td>2,373.69</td>\n",
       "      <td>2,660.66</td>\n",
       "      <td>...</td>\n",
       "      <td>2,758.80</td>\n",
       "      <td>2,919.12</td>\n",
       "      <td>2,864.90</td>\n",
       "      <td>3,054.84</td>\n",
       "      <td>3,232.28</td>\n",
       "      <td>3,425.54</td>\n",
       "      <td>3,616.82</td>\n",
       "      <td>3,851.98</td>\n",
       "      <td>3,108.42</td>\n",
       "      <td>3,442.21</td>\n",
       "    </tr>\n",
       "  </tbody>\n",
       "</table>\n",
       "<p>12 rows × 24 columns</p>\n",
       "</div>"
      ],
      "text/plain": [
       "                   Country      1999      2000      2001      2002      2003  \\\n",
       "40             Ivory Coast    12.573    10.448    10.554    11.527    13.764   \n",
       "43          Czech Republic    60.192    56.717    61.843    75.276    91.358   \n",
       "47      Dominican Republic    17.601    20.059    21.943    21.625    16.459   \n",
       "71               Hong Kong   163.288   168.754   166.541   163.709   158.473   \n",
       "86             South Korea   445.557   511.961   481.979   547.856   608.337   \n",
       "88              Kyrgyzstan     1.267     1.368     1.525     1.606     1.919   \n",
       "97         North Macedonia     3.675     3.583     3.437     3.769     4.631   \n",
       "137  Serbia and Montenegro         0     8.963    11.759    15.831     20.34   \n",
       "141               Slovakia    20.602    20.374    21.108    24.522    33.005   \n",
       "155                  Syria    16.834    19.861    21.017     22.78    22.719   \n",
       "156         Chinese Taipei   298.825   321.374   291.889   294.876   299.606   \n",
       "170          Great Britain  1,467.03  1,445.19  1,435.63  1,574.47  1,814.64   \n",
       "\n",
       "         2004      2005      2006      2007  ...      2013      2014  \\\n",
       "40     15.501    16.373    17.339    18.658  ...    30.172    32.546   \n",
       "43    108.214   123.981   141.801   160.448  ...   245.565   264.418   \n",
       "47     18.435    29.092      31.6    33.119  ...     54.91    58.575   \n",
       "71    165.823   177.784   189.538   201.797  ...   257.357     271.4   \n",
       "86    681.227   791.572   888.267   942.975  ...  1,087.25  1,167.69   \n",
       "88      2.215      2.46     2.822     3.287  ...     5.899     6.323   \n",
       "97      5.377     5.775     6.248      7.02  ...     11.74    12.566   \n",
       "137    24.518    26.232    31.589    35.967  ...    55.836     61.11   \n",
       "141    42.015    47.428    54.969    69.279  ...    115.61   122.589   \n",
       "155    24.703    27.369    31.505    34.965  ...    81.836    90.182   \n",
       "156   322.299   346.651   355.708   365.317  ...   466.126   488.158   \n",
       "170  2,155.16  2,230.61  2,373.69  2,660.66  ...  2,758.80  2,919.12   \n",
       "\n",
       "         2015      2016      2017      2018      2019      2020      2021  \\\n",
       "40      31.27    34.284    37.908     41.84    45.956     50.86    68.845   \n",
       "43    182.462   189.982   196.987    201.46   203.527   206.851   276.914   \n",
       "47     66.575    69.908     73.41    77.088     80.95    85.005    89.502   \n",
       "71     307.79   322.166   339.378   358.665   379.776   405.781   369.722   \n",
       "86   1,392.95  1,450.05  1,545.81  1,649.08  1,763.36  1,898.76  1,823.85   \n",
       "88      7.158     7.659     8.301     8.991     9.715     10.43      8.15   \n",
       "97          0         0         0         0         0         0         0   \n",
       "137    36.555     37.74    39.804    42.946    46.258    50.031    60.669   \n",
       "141    86.198    90.544    96.151   101.932   107.913   115.111   116.748   \n",
       "155         0         0         0         0         0         0         0   \n",
       "156   518.816   540.073   565.374   591.253   618.101   650.902   785.589   \n",
       "170  2,864.90  3,054.84  3,232.28  3,425.54  3,616.82  3,851.98  3,108.42   \n",
       "\n",
       "         2022  \n",
       "40     75.075  \n",
       "43    302.061  \n",
       "47     97.371  \n",
       "71    389.977  \n",
       "86   1,907.66  \n",
       "88      8.928  \n",
       "97          0  \n",
       "137    65.697  \n",
       "141   127.497  \n",
       "155         0  \n",
       "156   850.528  \n",
       "170  3,442.21  \n",
       "\n",
       "[12 rows x 24 columns]"
      ]
     },
     "execution_count": 33,
     "metadata": {},
     "output_type": "execute_result"
    }
   ],
   "source": [
    "manual_country_values = set(manual_country_names.values())\n",
    "manual_filtered_rows = org_hist_gdps_replace[org_hist_gdps_replace['Country'].isin(manual_country_values)]\n",
    "manual_filtered_rows"
   ]
  },
  {
   "cell_type": "code",
   "execution_count": 34,
   "metadata": {},
   "outputs": [
    {
     "data": {
      "text/plain": [
       "12"
      ]
     },
     "execution_count": 34,
     "metadata": {},
     "output_type": "execute_result"
    }
   ],
   "source": [
    "manual_filtered_rows.shape[0]"
   ]
  },
  {
   "cell_type": "code",
   "execution_count": 35,
   "metadata": {},
   "outputs": [
    {
     "data": {
      "text/plain": [
       "105"
      ]
     },
     "execution_count": 35,
     "metadata": {},
     "output_type": "execute_result"
    }
   ],
   "source": [
    "filtered_gdps_before = filtered_gdps.copy()\n",
    "filtered_gdps_before.shape[0]\n"
   ]
  },
  {
   "cell_type": "markdown",
   "metadata": {},
   "source": [
    "Finally, we have *117* countries that we have GDP Data on and have participated in the Olympics historically:"
   ]
  },
  {
   "cell_type": "code",
   "execution_count": 36,
   "metadata": {},
   "outputs": [
    {
     "data": {
      "text/html": [
       "<div>\n",
       "<style scoped>\n",
       "    .dataframe tbody tr th:only-of-type {\n",
       "        vertical-align: middle;\n",
       "    }\n",
       "\n",
       "    .dataframe tbody tr th {\n",
       "        vertical-align: top;\n",
       "    }\n",
       "\n",
       "    .dataframe thead th {\n",
       "        text-align: right;\n",
       "    }\n",
       "</style>\n",
       "<table border=\"1\" class=\"dataframe\">\n",
       "  <thead>\n",
       "    <tr style=\"text-align: right;\">\n",
       "      <th></th>\n",
       "      <th>Country</th>\n",
       "      <th>1999</th>\n",
       "      <th>2000</th>\n",
       "      <th>2001</th>\n",
       "      <th>2002</th>\n",
       "      <th>2003</th>\n",
       "      <th>2004</th>\n",
       "      <th>2005</th>\n",
       "      <th>2006</th>\n",
       "      <th>2007</th>\n",
       "      <th>...</th>\n",
       "      <th>2013</th>\n",
       "      <th>2014</th>\n",
       "      <th>2015</th>\n",
       "      <th>2016</th>\n",
       "      <th>2017</th>\n",
       "      <th>2018</th>\n",
       "      <th>2019</th>\n",
       "      <th>2020</th>\n",
       "      <th>2021</th>\n",
       "      <th>2022</th>\n",
       "    </tr>\n",
       "  </thead>\n",
       "  <tbody>\n",
       "    <tr>\n",
       "      <th>0</th>\n",
       "      <td>Afghanistan</td>\n",
       "      <td>0</td>\n",
       "      <td>0</td>\n",
       "      <td>0</td>\n",
       "      <td>4.084</td>\n",
       "      <td>4.585</td>\n",
       "      <td>5.971</td>\n",
       "      <td>7.309</td>\n",
       "      <td>8.399</td>\n",
       "      <td>9.892</td>\n",
       "      <td>...</td>\n",
       "      <td>21.555</td>\n",
       "      <td>24.304</td>\n",
       "      <td>0</td>\n",
       "      <td>0</td>\n",
       "      <td>0</td>\n",
       "      <td>0</td>\n",
       "      <td>0</td>\n",
       "      <td>0</td>\n",
       "      <td>0</td>\n",
       "      <td>0</td>\n",
       "    </tr>\n",
       "    <tr>\n",
       "      <th>1</th>\n",
       "      <td>Algeria</td>\n",
       "      <td>48.845</td>\n",
       "      <td>54.749</td>\n",
       "      <td>55.181</td>\n",
       "      <td>57.053</td>\n",
       "      <td>68.013</td>\n",
       "      <td>85.016</td>\n",
       "      <td>102.38</td>\n",
       "      <td>114.322</td>\n",
       "      <td>116.158</td>\n",
       "      <td>...</td>\n",
       "      <td>190.432</td>\n",
       "      <td>203.449</td>\n",
       "      <td>175.077</td>\n",
       "      <td>181.71</td>\n",
       "      <td>192.256</td>\n",
       "      <td>202.179</td>\n",
       "      <td>210.906</td>\n",
       "      <td>219.16</td>\n",
       "      <td>163.812</td>\n",
       "      <td>168.195</td>\n",
       "    </tr>\n",
       "    <tr>\n",
       "      <th>2</th>\n",
       "      <td>Argentina</td>\n",
       "      <td>283.523</td>\n",
       "      <td>284.204</td>\n",
       "      <td>268.697</td>\n",
       "      <td>97.732</td>\n",
       "      <td>127.643</td>\n",
       "      <td>151.958</td>\n",
       "      <td>181.549</td>\n",
       "      <td>212.702</td>\n",
       "      <td>247.096</td>\n",
       "      <td>...</td>\n",
       "      <td>329.332</td>\n",
       "      <td>347.731</td>\n",
       "      <td>578.705</td>\n",
       "      <td>578.692</td>\n",
       "      <td>589.585</td>\n",
       "      <td>602.868</td>\n",
       "      <td>617.386</td>\n",
       "      <td>633.889</td>\n",
       "      <td>455.172</td>\n",
       "      <td>483.765</td>\n",
       "    </tr>\n",
       "    <tr>\n",
       "      <th>3</th>\n",
       "      <td>Armenia</td>\n",
       "      <td>1.845</td>\n",
       "      <td>1.912</td>\n",
       "      <td>2.118</td>\n",
       "      <td>2.376</td>\n",
       "      <td>2.807</td>\n",
       "      <td>3.573</td>\n",
       "      <td>4.903</td>\n",
       "      <td>6.41</td>\n",
       "      <td>7.666</td>\n",
       "      <td>...</td>\n",
       "      <td>9.844</td>\n",
       "      <td>10.821</td>\n",
       "      <td>10.607</td>\n",
       "      <td>10.672</td>\n",
       "      <td>11.074</td>\n",
       "      <td>11.63</td>\n",
       "      <td>12.273</td>\n",
       "      <td>12.939</td>\n",
       "      <td>13.612</td>\n",
       "      <td>15.06</td>\n",
       "    </tr>\n",
       "    <tr>\n",
       "      <th>4</th>\n",
       "      <td>Australia</td>\n",
       "      <td>401.782</td>\n",
       "      <td>390.017</td>\n",
       "      <td>368.191</td>\n",
       "      <td>412.901</td>\n",
       "      <td>527.588</td>\n",
       "      <td>639.356</td>\n",
       "      <td>712.436</td>\n",
       "      <td>754.816</td>\n",
       "      <td>822.089</td>\n",
       "      <td>...</td>\n",
       "      <td>1,078.91</td>\n",
       "      <td>1,125.82</td>\n",
       "      <td>1,240.80</td>\n",
       "      <td>1,253.00</td>\n",
       "      <td>1,317.16</td>\n",
       "      <td>1,381.51</td>\n",
       "      <td>1,442.47</td>\n",
       "      <td>1,515.70</td>\n",
       "      <td>1,610.56</td>\n",
       "      <td>1,677.45</td>\n",
       "    </tr>\n",
       "    <tr>\n",
       "      <th>...</th>\n",
       "      <td>...</td>\n",
       "      <td>...</td>\n",
       "      <td>...</td>\n",
       "      <td>...</td>\n",
       "      <td>...</td>\n",
       "      <td>...</td>\n",
       "      <td>...</td>\n",
       "      <td>...</td>\n",
       "      <td>...</td>\n",
       "      <td>...</td>\n",
       "      <td>...</td>\n",
       "      <td>...</td>\n",
       "      <td>...</td>\n",
       "      <td>...</td>\n",
       "      <td>...</td>\n",
       "      <td>...</td>\n",
       "      <td>...</td>\n",
       "      <td>...</td>\n",
       "      <td>...</td>\n",
       "      <td>...</td>\n",
       "      <td>...</td>\n",
       "    </tr>\n",
       "    <tr>\n",
       "      <th>112</th>\n",
       "      <td>Serbia and Montenegro</td>\n",
       "      <td>0</td>\n",
       "      <td>8.963</td>\n",
       "      <td>11.759</td>\n",
       "      <td>15.831</td>\n",
       "      <td>20.34</td>\n",
       "      <td>24.518</td>\n",
       "      <td>26.232</td>\n",
       "      <td>31.589</td>\n",
       "      <td>35.967</td>\n",
       "      <td>...</td>\n",
       "      <td>55.836</td>\n",
       "      <td>61.11</td>\n",
       "      <td>36.555</td>\n",
       "      <td>37.74</td>\n",
       "      <td>39.804</td>\n",
       "      <td>42.946</td>\n",
       "      <td>46.258</td>\n",
       "      <td>50.031</td>\n",
       "      <td>60.669</td>\n",
       "      <td>65.697</td>\n",
       "    </tr>\n",
       "    <tr>\n",
       "      <th>113</th>\n",
       "      <td>Slovakia</td>\n",
       "      <td>20.602</td>\n",
       "      <td>20.374</td>\n",
       "      <td>21.108</td>\n",
       "      <td>24.522</td>\n",
       "      <td>33.005</td>\n",
       "      <td>42.015</td>\n",
       "      <td>47.428</td>\n",
       "      <td>54.969</td>\n",
       "      <td>69.279</td>\n",
       "      <td>...</td>\n",
       "      <td>115.61</td>\n",
       "      <td>122.589</td>\n",
       "      <td>86.198</td>\n",
       "      <td>90.544</td>\n",
       "      <td>96.151</td>\n",
       "      <td>101.932</td>\n",
       "      <td>107.913</td>\n",
       "      <td>115.111</td>\n",
       "      <td>116.748</td>\n",
       "      <td>127.497</td>\n",
       "    </tr>\n",
       "    <tr>\n",
       "      <th>114</th>\n",
       "      <td>Syria</td>\n",
       "      <td>16.834</td>\n",
       "      <td>19.861</td>\n",
       "      <td>21.017</td>\n",
       "      <td>22.78</td>\n",
       "      <td>22.719</td>\n",
       "      <td>24.703</td>\n",
       "      <td>27.369</td>\n",
       "      <td>31.505</td>\n",
       "      <td>34.965</td>\n",
       "      <td>...</td>\n",
       "      <td>81.836</td>\n",
       "      <td>90.182</td>\n",
       "      <td>0</td>\n",
       "      <td>0</td>\n",
       "      <td>0</td>\n",
       "      <td>0</td>\n",
       "      <td>0</td>\n",
       "      <td>0</td>\n",
       "      <td>0</td>\n",
       "      <td>0</td>\n",
       "    </tr>\n",
       "    <tr>\n",
       "      <th>115</th>\n",
       "      <td>Chinese Taipei</td>\n",
       "      <td>298.825</td>\n",
       "      <td>321.374</td>\n",
       "      <td>291.889</td>\n",
       "      <td>294.876</td>\n",
       "      <td>299.606</td>\n",
       "      <td>322.299</td>\n",
       "      <td>346.651</td>\n",
       "      <td>355.708</td>\n",
       "      <td>365.317</td>\n",
       "      <td>...</td>\n",
       "      <td>466.126</td>\n",
       "      <td>488.158</td>\n",
       "      <td>518.816</td>\n",
       "      <td>540.073</td>\n",
       "      <td>565.374</td>\n",
       "      <td>591.253</td>\n",
       "      <td>618.101</td>\n",
       "      <td>650.902</td>\n",
       "      <td>785.589</td>\n",
       "      <td>850.528</td>\n",
       "    </tr>\n",
       "    <tr>\n",
       "      <th>116</th>\n",
       "      <td>Great Britain</td>\n",
       "      <td>1,467.03</td>\n",
       "      <td>1,445.19</td>\n",
       "      <td>1,435.63</td>\n",
       "      <td>1,574.47</td>\n",
       "      <td>1,814.64</td>\n",
       "      <td>2,155.16</td>\n",
       "      <td>2,230.61</td>\n",
       "      <td>2,373.69</td>\n",
       "      <td>2,660.66</td>\n",
       "      <td>...</td>\n",
       "      <td>2,758.80</td>\n",
       "      <td>2,919.12</td>\n",
       "      <td>2,864.90</td>\n",
       "      <td>3,054.84</td>\n",
       "      <td>3,232.28</td>\n",
       "      <td>3,425.54</td>\n",
       "      <td>3,616.82</td>\n",
       "      <td>3,851.98</td>\n",
       "      <td>3,108.42</td>\n",
       "      <td>3,442.21</td>\n",
       "    </tr>\n",
       "  </tbody>\n",
       "</table>\n",
       "<p>117 rows × 24 columns</p>\n",
       "</div>"
      ],
      "text/plain": [
       "                   Country      1999      2000      2001      2002      2003  \\\n",
       "0              Afghanistan         0         0         0     4.084     4.585   \n",
       "1                  Algeria    48.845    54.749    55.181    57.053    68.013   \n",
       "2                Argentina   283.523   284.204   268.697    97.732   127.643   \n",
       "3                  Armenia     1.845     1.912     2.118     2.376     2.807   \n",
       "4                Australia   401.782   390.017   368.191   412.901   527.588   \n",
       "..                     ...       ...       ...       ...       ...       ...   \n",
       "112  Serbia and Montenegro         0     8.963    11.759    15.831     20.34   \n",
       "113               Slovakia    20.602    20.374    21.108    24.522    33.005   \n",
       "114                  Syria    16.834    19.861    21.017     22.78    22.719   \n",
       "115         Chinese Taipei   298.825   321.374   291.889   294.876   299.606   \n",
       "116          Great Britain  1,467.03  1,445.19  1,435.63  1,574.47  1,814.64   \n",
       "\n",
       "         2004      2005      2006      2007  ...      2013      2014  \\\n",
       "0       5.971     7.309     8.399     9.892  ...    21.555    24.304   \n",
       "1      85.016    102.38   114.322   116.158  ...   190.432   203.449   \n",
       "2     151.958   181.549   212.702   247.096  ...   329.332   347.731   \n",
       "3       3.573     4.903      6.41     7.666  ...     9.844    10.821   \n",
       "4     639.356   712.436   754.816   822.089  ...  1,078.91  1,125.82   \n",
       "..        ...       ...       ...       ...  ...       ...       ...   \n",
       "112    24.518    26.232    31.589    35.967  ...    55.836     61.11   \n",
       "113    42.015    47.428    54.969    69.279  ...    115.61   122.589   \n",
       "114    24.703    27.369    31.505    34.965  ...    81.836    90.182   \n",
       "115   322.299   346.651   355.708   365.317  ...   466.126   488.158   \n",
       "116  2,155.16  2,230.61  2,373.69  2,660.66  ...  2,758.80  2,919.12   \n",
       "\n",
       "         2015      2016      2017      2018      2019      2020      2021  \\\n",
       "0           0         0         0         0         0         0         0   \n",
       "1     175.077    181.71   192.256   202.179   210.906    219.16   163.812   \n",
       "2     578.705   578.692   589.585   602.868   617.386   633.889   455.172   \n",
       "3      10.607    10.672    11.074     11.63    12.273    12.939    13.612   \n",
       "4    1,240.80  1,253.00  1,317.16  1,381.51  1,442.47  1,515.70  1,610.56   \n",
       "..        ...       ...       ...       ...       ...       ...       ...   \n",
       "112    36.555     37.74    39.804    42.946    46.258    50.031    60.669   \n",
       "113    86.198    90.544    96.151   101.932   107.913   115.111   116.748   \n",
       "114         0         0         0         0         0         0         0   \n",
       "115   518.816   540.073   565.374   591.253   618.101   650.902   785.589   \n",
       "116  2,864.90  3,054.84  3,232.28  3,425.54  3,616.82  3,851.98  3,108.42   \n",
       "\n",
       "         2022  \n",
       "0           0  \n",
       "1     168.195  \n",
       "2     483.765  \n",
       "3       15.06  \n",
       "4    1,677.45  \n",
       "..        ...  \n",
       "112    65.697  \n",
       "113   127.497  \n",
       "114         0  \n",
       "115   850.528  \n",
       "116  3,442.21  \n",
       "\n",
       "[117 rows x 24 columns]"
      ]
     },
     "execution_count": 36,
     "metadata": {},
     "output_type": "execute_result"
    }
   ],
   "source": [
    "filtered_gdps = pd.concat([filtered_gdps_before, manual_filtered_rows], ignore_index=True)\n",
    "gdps_cleaned = filtered_gdps.copy()\n",
    "gdps_cleaned"
   ]
  },
  {
   "cell_type": "code",
   "execution_count": 37,
   "metadata": {},
   "outputs": [
    {
     "data": {
      "text/html": [
       "<div>\n",
       "<style scoped>\n",
       "    .dataframe tbody tr th:only-of-type {\n",
       "        vertical-align: middle;\n",
       "    }\n",
       "\n",
       "    .dataframe tbody tr th {\n",
       "        vertical-align: top;\n",
       "    }\n",
       "\n",
       "    .dataframe thead th {\n",
       "        text-align: right;\n",
       "    }\n",
       "</style>\n",
       "<table border=\"1\" class=\"dataframe\">\n",
       "  <thead>\n",
       "    <tr style=\"text-align: right;\">\n",
       "      <th></th>\n",
       "      <th>Country</th>\n",
       "      <th>1999-2000 Avg</th>\n",
       "      <th>2001-2004 Avg</th>\n",
       "      <th>2005-2008 Avg</th>\n",
       "      <th>2009-2012 Avg</th>\n",
       "      <th>2013-2016 Avg</th>\n",
       "      <th>2017-2020 Avg</th>\n",
       "    </tr>\n",
       "  </thead>\n",
       "  <tbody>\n",
       "    <tr>\n",
       "      <th>0</th>\n",
       "      <td>Afghanistan</td>\n",
       "      <td>NaN</td>\n",
       "      <td>4.88000</td>\n",
       "      <td>9.27825</td>\n",
       "      <td>15.990667</td>\n",
       "      <td>22.92950</td>\n",
       "      <td>NaN</td>\n",
       "    </tr>\n",
       "    <tr>\n",
       "      <th>1</th>\n",
       "      <td>Algeria</td>\n",
       "      <td>51.7970</td>\n",
       "      <td>66.31575</td>\n",
       "      <td>114.93725</td>\n",
       "      <td>155.823333</td>\n",
       "      <td>187.66700</td>\n",
       "      <td>206.12525</td>\n",
       "    </tr>\n",
       "    <tr>\n",
       "      <th>2</th>\n",
       "      <td>Argentina</td>\n",
       "      <td>283.8635</td>\n",
       "      <td>161.50750</td>\n",
       "      <td>229.81475</td>\n",
       "      <td>304.424000</td>\n",
       "      <td>458.61500</td>\n",
       "      <td>610.93200</td>\n",
       "    </tr>\n",
       "    <tr>\n",
       "      <th>3</th>\n",
       "      <td>Armenia</td>\n",
       "      <td>1.8785</td>\n",
       "      <td>2.71850</td>\n",
       "      <td>6.88950</td>\n",
       "      <td>8.669000</td>\n",
       "      <td>10.48600</td>\n",
       "      <td>11.97900</td>\n",
       "    </tr>\n",
       "    <tr>\n",
       "      <th>4</th>\n",
       "      <td>Australia</td>\n",
       "      <td>395.8995</td>\n",
       "      <td>487.00900</td>\n",
       "      <td>785.85325</td>\n",
       "      <td>980.842000</td>\n",
       "      <td>1174.63250</td>\n",
       "      <td>1414.21000</td>\n",
       "    </tr>\n",
       "    <tr>\n",
       "      <th>...</th>\n",
       "      <td>...</td>\n",
       "      <td>...</td>\n",
       "      <td>...</td>\n",
       "      <td>...</td>\n",
       "      <td>...</td>\n",
       "      <td>...</td>\n",
       "      <td>...</td>\n",
       "    </tr>\n",
       "    <tr>\n",
       "      <th>112</th>\n",
       "      <td>Serbia and Montenegro</td>\n",
       "      <td>8.9630</td>\n",
       "      <td>18.11200</td>\n",
       "      <td>33.07600</td>\n",
       "      <td>46.029333</td>\n",
       "      <td>47.81025</td>\n",
       "      <td>44.75975</td>\n",
       "    </tr>\n",
       "    <tr>\n",
       "      <th>113</th>\n",
       "      <td>Slovakia</td>\n",
       "      <td>20.4880</td>\n",
       "      <td>30.16250</td>\n",
       "      <td>62.49475</td>\n",
       "      <td>97.905667</td>\n",
       "      <td>103.73525</td>\n",
       "      <td>105.27675</td>\n",
       "    </tr>\n",
       "    <tr>\n",
       "      <th>114</th>\n",
       "      <td>Syria</td>\n",
       "      <td>18.3475</td>\n",
       "      <td>22.80475</td>\n",
       "      <td>32.66350</td>\n",
       "      <td>63.321333</td>\n",
       "      <td>86.00900</td>\n",
       "      <td>NaN</td>\n",
       "    </tr>\n",
       "    <tr>\n",
       "      <th>115</th>\n",
       "      <td>Chinese Taipei</td>\n",
       "      <td>310.0995</td>\n",
       "      <td>302.16750</td>\n",
       "      <td>364.41675</td>\n",
       "      <td>395.349333</td>\n",
       "      <td>503.29325</td>\n",
       "      <td>606.40750</td>\n",
       "    </tr>\n",
       "    <tr>\n",
       "      <th>116</th>\n",
       "      <td>Great Britain</td>\n",
       "      <td>1456.1100</td>\n",
       "      <td>1744.97500</td>\n",
       "      <td>2521.90500</td>\n",
       "      <td>2387.486667</td>\n",
       "      <td>2899.41500</td>\n",
       "      <td>3531.65500</td>\n",
       "    </tr>\n",
       "  </tbody>\n",
       "</table>\n",
       "<p>117 rows × 7 columns</p>\n",
       "</div>"
      ],
      "text/plain": [
       "                   Country  1999-2000 Avg  2001-2004 Avg  2005-2008 Avg  \\\n",
       "0              Afghanistan            NaN        4.88000        9.27825   \n",
       "1                  Algeria        51.7970       66.31575      114.93725   \n",
       "2                Argentina       283.8635      161.50750      229.81475   \n",
       "3                  Armenia         1.8785        2.71850        6.88950   \n",
       "4                Australia       395.8995      487.00900      785.85325   \n",
       "..                     ...            ...            ...            ...   \n",
       "112  Serbia and Montenegro         8.9630       18.11200       33.07600   \n",
       "113               Slovakia        20.4880       30.16250       62.49475   \n",
       "114                  Syria        18.3475       22.80475       32.66350   \n",
       "115         Chinese Taipei       310.0995      302.16750      364.41675   \n",
       "116          Great Britain      1456.1100     1744.97500     2521.90500   \n",
       "\n",
       "     2009-2012 Avg  2013-2016 Avg  2017-2020 Avg  \n",
       "0        15.990667       22.92950            NaN  \n",
       "1       155.823333      187.66700      206.12525  \n",
       "2       304.424000      458.61500      610.93200  \n",
       "3         8.669000       10.48600       11.97900  \n",
       "4       980.842000     1174.63250     1414.21000  \n",
       "..             ...            ...            ...  \n",
       "112      46.029333       47.81025       44.75975  \n",
       "113      97.905667      103.73525      105.27675  \n",
       "114      63.321333       86.00900            NaN  \n",
       "115     395.349333      503.29325      606.40750  \n",
       "116    2387.486667     2899.41500     3531.65500  \n",
       "\n",
       "[117 rows x 7 columns]"
      ]
     },
     "execution_count": 37,
     "metadata": {},
     "output_type": "execute_result"
    }
   ],
   "source": [
    "# Convert GDP data to numeric and handle commas\n",
    "gdps_cleaned.iloc[:, 1:] = gdps_cleaned.iloc[:, 1:].replace(',', '', regex=True).apply(pd.to_numeric, errors='coerce')\n",
    "\n",
    "olympic_years = [2000, 2004, 2008, 2012, 2016, 2020]\n",
    "available_years = [int(col) for col in gdps_cleaned.columns[1:]]\n",
    "\n",
    "# Filter Olympic years based on available data\n",
    "adjusted_olympic_years = [year for year in olympic_years if year in available_years]\n",
    "\n",
    "gdp_olympic_avg = pd.DataFrame()\n",
    "gdp_olympic_avg['Country'] = gdps_cleaned['Country']\n",
    "\n",
    "for year in adjusted_olympic_years:\n",
    "    start_year = max(year - 3, min(available_years))\n",
    "    end_year = year\n",
    "\n",
    "    columns_in_window = [str(y) for y in range(start_year, end_year + 1) if y in available_years]\n",
    "    gdp_olympic_avg[f'{start_year}-{end_year} Avg'] = (\n",
    "        gdps_cleaned[columns_in_window].replace(0, pd.NA).mean(axis=1, skipna=True)\n",
    "    )\n",
    "\n",
    "gdp_olympic_avg"
   ]
  },
  {
   "cell_type": "markdown",
   "metadata": {},
   "source": [
    "Just to make sure that all the countries in `gdps_cleaned`"
   ]
  },
  {
   "cell_type": "code",
   "execution_count": 38,
   "metadata": {},
   "outputs": [
    {
     "data": {
      "text/plain": [
       "True"
      ]
     },
     "execution_count": 38,
     "metadata": {},
     "output_type": "execute_result"
    }
   ],
   "source": [
    "all_valid = gdp_olympic_avg['Country'].isin(valid_countries).all()\n",
    "all_valid"
   ]
  },
  {
   "cell_type": "markdown",
   "metadata": {},
   "source": [
    "Countries that participated in the Olympics but we DON'T have GDP Data on, we can ignore these"
   ]
  },
  {
   "cell_type": "code",
   "execution_count": 39,
   "metadata": {},
   "outputs": [
    {
     "data": {
      "text/plain": [
       "{'Bermuda',\n",
       " 'Cuba',\n",
       " 'Independent Olympic Athletes',\n",
       " 'Kosovo',\n",
       " 'Macedonia',\n",
       " 'Montenegro',\n",
       " 'North Korea',\n",
       " 'Puerto Rico',\n",
       " 'ROC',\n",
       " 'San Marino',\n",
       " 'Yugoslavia'}"
      ]
     },
     "execution_count": 39,
     "metadata": {},
     "output_type": "execute_result"
    }
   ],
   "source": [
    "filtered_countries = set(filtered_gdps['Country'])\n",
    "missing_countries = set(valid_countries - filtered_countries)\n",
    "missing_countries"
   ]
  },
  {
   "cell_type": "markdown",
   "metadata": {},
   "source": [
    "## Dataset #3: 2024 Olympic Medals vs GDP"
   ]
  },
  {
   "cell_type": "markdown",
   "metadata": {},
   "source": [
    "#### Data Cleaning Explanation:\n",
    "\n",
    "We will address this dataset later for merging purposes. As of now, there appears to be no null data from `olympics24.isna().all()`. A conversion metric for `GDP` was needed to convert the total GDP of each country into billions USD. Finally GDP will have to be readjusted for '2024' instead of 2023 as listed in `GDP_Year`. "
   ]
  },
  {
   "cell_type": "code",
   "execution_count": 40,
   "metadata": {},
   "outputs": [
    {
     "data": {
      "text/plain": [
       "country         False\n",
       "country_code    False\n",
       "region          False\n",
       "gold            False\n",
       "silver          False\n",
       "bronze          False\n",
       "total           False\n",
       "gdp             False\n",
       "gdp_year        False\n",
       "population      False\n",
       "dtype: bool"
      ]
     },
     "execution_count": 40,
     "metadata": {},
     "output_type": "execute_result"
    }
   ],
   "source": [
    "olympics24 = pd.read_csv('olympics.csv')\n",
    "olympics24.isna().all()"
   ]
  },
  {
   "cell_type": "code",
   "execution_count": 41,
   "metadata": {},
   "outputs": [
    {
     "data": {
      "text/html": [
       "<div>\n",
       "<style scoped>\n",
       "    .dataframe tbody tr th:only-of-type {\n",
       "        vertical-align: middle;\n",
       "    }\n",
       "\n",
       "    .dataframe tbody tr th {\n",
       "        vertical-align: top;\n",
       "    }\n",
       "\n",
       "    .dataframe thead th {\n",
       "        text-align: right;\n",
       "    }\n",
       "</style>\n",
       "<table border=\"1\" class=\"dataframe\">\n",
       "  <thead>\n",
       "    <tr style=\"text-align: right;\">\n",
       "      <th></th>\n",
       "      <th>country</th>\n",
       "      <th>country_code</th>\n",
       "      <th>region</th>\n",
       "      <th>gold</th>\n",
       "      <th>silver</th>\n",
       "      <th>bronze</th>\n",
       "      <th>total</th>\n",
       "      <th>gdp</th>\n",
       "      <th>gdp_year</th>\n",
       "      <th>population</th>\n",
       "    </tr>\n",
       "  </thead>\n",
       "  <tbody>\n",
       "    <tr>\n",
       "      <th>0</th>\n",
       "      <td>United States</td>\n",
       "      <td>USA</td>\n",
       "      <td>North America</td>\n",
       "      <td>40</td>\n",
       "      <td>44</td>\n",
       "      <td>42</td>\n",
       "      <td>126</td>\n",
       "      <td>81695.19</td>\n",
       "      <td>2023</td>\n",
       "      <td>334.9</td>\n",
       "    </tr>\n",
       "    <tr>\n",
       "      <th>1</th>\n",
       "      <td>China</td>\n",
       "      <td>CHN</td>\n",
       "      <td>Asia</td>\n",
       "      <td>40</td>\n",
       "      <td>27</td>\n",
       "      <td>24</td>\n",
       "      <td>91</td>\n",
       "      <td>12614.06</td>\n",
       "      <td>2023</td>\n",
       "      <td>1410.7</td>\n",
       "    </tr>\n",
       "    <tr>\n",
       "      <th>2</th>\n",
       "      <td>Japan</td>\n",
       "      <td>JPN</td>\n",
       "      <td>Asia</td>\n",
       "      <td>20</td>\n",
       "      <td>12</td>\n",
       "      <td>13</td>\n",
       "      <td>45</td>\n",
       "      <td>33834.39</td>\n",
       "      <td>2023</td>\n",
       "      <td>124.5</td>\n",
       "    </tr>\n",
       "    <tr>\n",
       "      <th>3</th>\n",
       "      <td>Australia</td>\n",
       "      <td>AUS</td>\n",
       "      <td>Oceania</td>\n",
       "      <td>18</td>\n",
       "      <td>19</td>\n",
       "      <td>16</td>\n",
       "      <td>53</td>\n",
       "      <td>64711.77</td>\n",
       "      <td>2023</td>\n",
       "      <td>26.6</td>\n",
       "    </tr>\n",
       "    <tr>\n",
       "      <th>4</th>\n",
       "      <td>France</td>\n",
       "      <td>FRA</td>\n",
       "      <td>Europe</td>\n",
       "      <td>16</td>\n",
       "      <td>26</td>\n",
       "      <td>22</td>\n",
       "      <td>64</td>\n",
       "      <td>44460.82</td>\n",
       "      <td>2023</td>\n",
       "      <td>68.2</td>\n",
       "    </tr>\n",
       "    <tr>\n",
       "      <th>...</th>\n",
       "      <td>...</td>\n",
       "      <td>...</td>\n",
       "      <td>...</td>\n",
       "      <td>...</td>\n",
       "      <td>...</td>\n",
       "      <td>...</td>\n",
       "      <td>...</td>\n",
       "      <td>...</td>\n",
       "      <td>...</td>\n",
       "      <td>...</td>\n",
       "    </tr>\n",
       "    <tr>\n",
       "      <th>85</th>\n",
       "      <td>Peru</td>\n",
       "      <td>PER</td>\n",
       "      <td>South America</td>\n",
       "      <td>0</td>\n",
       "      <td>0</td>\n",
       "      <td>1</td>\n",
       "      <td>1</td>\n",
       "      <td>7789.87</td>\n",
       "      <td>2023</td>\n",
       "      <td>34.4</td>\n",
       "    </tr>\n",
       "    <tr>\n",
       "      <th>86</th>\n",
       "      <td>Qatar</td>\n",
       "      <td>QAT</td>\n",
       "      <td>Asia</td>\n",
       "      <td>0</td>\n",
       "      <td>0</td>\n",
       "      <td>1</td>\n",
       "      <td>1</td>\n",
       "      <td>87480.42</td>\n",
       "      <td>2022</td>\n",
       "      <td>2.7</td>\n",
       "    </tr>\n",
       "    <tr>\n",
       "      <th>87</th>\n",
       "      <td>Singapore</td>\n",
       "      <td>SGP</td>\n",
       "      <td>Asia</td>\n",
       "      <td>0</td>\n",
       "      <td>0</td>\n",
       "      <td>1</td>\n",
       "      <td>1</td>\n",
       "      <td>84734.26</td>\n",
       "      <td>2023</td>\n",
       "      <td>5.9</td>\n",
       "    </tr>\n",
       "    <tr>\n",
       "      <th>88</th>\n",
       "      <td>Slovakia</td>\n",
       "      <td>SVK</td>\n",
       "      <td>Europe</td>\n",
       "      <td>0</td>\n",
       "      <td>0</td>\n",
       "      <td>1</td>\n",
       "      <td>1</td>\n",
       "      <td>24470.24</td>\n",
       "      <td>2023</td>\n",
       "      <td>5.4</td>\n",
       "    </tr>\n",
       "    <tr>\n",
       "      <th>89</th>\n",
       "      <td>Zambia</td>\n",
       "      <td>ZMB</td>\n",
       "      <td>Africa</td>\n",
       "      <td>0</td>\n",
       "      <td>0</td>\n",
       "      <td>1</td>\n",
       "      <td>1</td>\n",
       "      <td>1369.13</td>\n",
       "      <td>2023</td>\n",
       "      <td>20.6</td>\n",
       "    </tr>\n",
       "  </tbody>\n",
       "</table>\n",
       "<p>90 rows × 10 columns</p>\n",
       "</div>"
      ],
      "text/plain": [
       "          country country_code         region  gold  silver  bronze  total  \\\n",
       "0   United States          USA  North America    40      44      42    126   \n",
       "1           China          CHN           Asia    40      27      24     91   \n",
       "2           Japan          JPN           Asia    20      12      13     45   \n",
       "3       Australia          AUS        Oceania    18      19      16     53   \n",
       "4          France          FRA         Europe    16      26      22     64   \n",
       "..            ...          ...            ...   ...     ...     ...    ...   \n",
       "85           Peru          PER  South America     0       0       1      1   \n",
       "86          Qatar          QAT           Asia     0       0       1      1   \n",
       "87      Singapore          SGP           Asia     0       0       1      1   \n",
       "88       Slovakia          SVK         Europe     0       0       1      1   \n",
       "89         Zambia          ZMB         Africa     0       0       1      1   \n",
       "\n",
       "         gdp  gdp_year  population  \n",
       "0   81695.19      2023       334.9  \n",
       "1   12614.06      2023      1410.7  \n",
       "2   33834.39      2023       124.5  \n",
       "3   64711.77      2023        26.6  \n",
       "4   44460.82      2023        68.2  \n",
       "..       ...       ...         ...  \n",
       "85   7789.87      2023        34.4  \n",
       "86  87480.42      2022         2.7  \n",
       "87  84734.26      2023         5.9  \n",
       "88  24470.24      2023         5.4  \n",
       "89   1369.13      2023        20.6  \n",
       "\n",
       "[90 rows x 10 columns]"
      ]
     },
     "execution_count": 41,
     "metadata": {},
     "output_type": "execute_result"
    }
   ],
   "source": [
    "olympics24"
   ]
  },
  {
   "cell_type": "markdown",
   "metadata": {},
   "source": [
    "Let's see if the countries from the 2024 olympics are in `valid_countries`"
   ]
  },
  {
   "cell_type": "code",
   "execution_count": 42,
   "metadata": {},
   "outputs": [
    {
     "data": {
      "text/plain": [
       "{'Albania',\n",
       " 'Cape Verde',\n",
       " 'Dominica',\n",
       " 'Pakistan',\n",
       " 'Peru',\n",
       " 'St Lucia',\n",
       " 'Taiwan',\n",
       " 'Zambia'}"
      ]
     },
     "execution_count": 42,
     "metadata": {},
     "output_type": "execute_result"
    }
   ],
   "source": [
    "invalid_countries = set(olympics24['country']) - valid_countries\n",
    "invalid_countries"
   ]
  },
  {
   "cell_type": "markdown",
   "metadata": {},
   "source": [
    "Let's remove these countries from `Olympics24` since there is no record from `medals_cleaned` of these countries"
   ]
  },
  {
   "cell_type": "code",
   "execution_count": 43,
   "metadata": {},
   "outputs": [
    {
     "data": {
      "text/html": [
       "<div>\n",
       "<style scoped>\n",
       "    .dataframe tbody tr th:only-of-type {\n",
       "        vertical-align: middle;\n",
       "    }\n",
       "\n",
       "    .dataframe tbody tr th {\n",
       "        vertical-align: top;\n",
       "    }\n",
       "\n",
       "    .dataframe thead th {\n",
       "        text-align: right;\n",
       "    }\n",
       "</style>\n",
       "<table border=\"1\" class=\"dataframe\">\n",
       "  <thead>\n",
       "    <tr style=\"text-align: right;\">\n",
       "      <th></th>\n",
       "      <th>country</th>\n",
       "      <th>country_code</th>\n",
       "      <th>region</th>\n",
       "      <th>gold</th>\n",
       "      <th>silver</th>\n",
       "      <th>bronze</th>\n",
       "      <th>total</th>\n",
       "      <th>gdp</th>\n",
       "      <th>gdp_year</th>\n",
       "      <th>population</th>\n",
       "    </tr>\n",
       "  </thead>\n",
       "  <tbody>\n",
       "    <tr>\n",
       "      <th>0</th>\n",
       "      <td>United States</td>\n",
       "      <td>USA</td>\n",
       "      <td>North America</td>\n",
       "      <td>40</td>\n",
       "      <td>44</td>\n",
       "      <td>42</td>\n",
       "      <td>126</td>\n",
       "      <td>81695.19</td>\n",
       "      <td>2023</td>\n",
       "      <td>334.9</td>\n",
       "    </tr>\n",
       "    <tr>\n",
       "      <th>1</th>\n",
       "      <td>China</td>\n",
       "      <td>CHN</td>\n",
       "      <td>Asia</td>\n",
       "      <td>40</td>\n",
       "      <td>27</td>\n",
       "      <td>24</td>\n",
       "      <td>91</td>\n",
       "      <td>12614.06</td>\n",
       "      <td>2023</td>\n",
       "      <td>1410.7</td>\n",
       "    </tr>\n",
       "    <tr>\n",
       "      <th>2</th>\n",
       "      <td>Japan</td>\n",
       "      <td>JPN</td>\n",
       "      <td>Asia</td>\n",
       "      <td>20</td>\n",
       "      <td>12</td>\n",
       "      <td>13</td>\n",
       "      <td>45</td>\n",
       "      <td>33834.39</td>\n",
       "      <td>2023</td>\n",
       "      <td>124.5</td>\n",
       "    </tr>\n",
       "    <tr>\n",
       "      <th>3</th>\n",
       "      <td>Australia</td>\n",
       "      <td>AUS</td>\n",
       "      <td>Oceania</td>\n",
       "      <td>18</td>\n",
       "      <td>19</td>\n",
       "      <td>16</td>\n",
       "      <td>53</td>\n",
       "      <td>64711.77</td>\n",
       "      <td>2023</td>\n",
       "      <td>26.6</td>\n",
       "    </tr>\n",
       "    <tr>\n",
       "      <th>4</th>\n",
       "      <td>France</td>\n",
       "      <td>FRA</td>\n",
       "      <td>Europe</td>\n",
       "      <td>16</td>\n",
       "      <td>26</td>\n",
       "      <td>22</td>\n",
       "      <td>64</td>\n",
       "      <td>44460.82</td>\n",
       "      <td>2023</td>\n",
       "      <td>68.2</td>\n",
       "    </tr>\n",
       "    <tr>\n",
       "      <th>...</th>\n",
       "      <td>...</td>\n",
       "      <td>...</td>\n",
       "      <td>...</td>\n",
       "      <td>...</td>\n",
       "      <td>...</td>\n",
       "      <td>...</td>\n",
       "      <td>...</td>\n",
       "      <td>...</td>\n",
       "      <td>...</td>\n",
       "      <td>...</td>\n",
       "    </tr>\n",
       "    <tr>\n",
       "      <th>82</th>\n",
       "      <td>Puerto Rico</td>\n",
       "      <td>PRI</td>\n",
       "      <td>Caribbean</td>\n",
       "      <td>0</td>\n",
       "      <td>0</td>\n",
       "      <td>2</td>\n",
       "      <td>2</td>\n",
       "      <td>36779.06</td>\n",
       "      <td>2023</td>\n",
       "      <td>3.2</td>\n",
       "    </tr>\n",
       "    <tr>\n",
       "      <th>84</th>\n",
       "      <td>Ivory Coast</td>\n",
       "      <td>CIV</td>\n",
       "      <td>Africa</td>\n",
       "      <td>0</td>\n",
       "      <td>0</td>\n",
       "      <td>1</td>\n",
       "      <td>1</td>\n",
       "      <td>2728.80</td>\n",
       "      <td>2023</td>\n",
       "      <td>28.9</td>\n",
       "    </tr>\n",
       "    <tr>\n",
       "      <th>86</th>\n",
       "      <td>Qatar</td>\n",
       "      <td>QAT</td>\n",
       "      <td>Asia</td>\n",
       "      <td>0</td>\n",
       "      <td>0</td>\n",
       "      <td>1</td>\n",
       "      <td>1</td>\n",
       "      <td>87480.42</td>\n",
       "      <td>2022</td>\n",
       "      <td>2.7</td>\n",
       "    </tr>\n",
       "    <tr>\n",
       "      <th>87</th>\n",
       "      <td>Singapore</td>\n",
       "      <td>SGP</td>\n",
       "      <td>Asia</td>\n",
       "      <td>0</td>\n",
       "      <td>0</td>\n",
       "      <td>1</td>\n",
       "      <td>1</td>\n",
       "      <td>84734.26</td>\n",
       "      <td>2023</td>\n",
       "      <td>5.9</td>\n",
       "    </tr>\n",
       "    <tr>\n",
       "      <th>88</th>\n",
       "      <td>Slovakia</td>\n",
       "      <td>SVK</td>\n",
       "      <td>Europe</td>\n",
       "      <td>0</td>\n",
       "      <td>0</td>\n",
       "      <td>1</td>\n",
       "      <td>1</td>\n",
       "      <td>24470.24</td>\n",
       "      <td>2023</td>\n",
       "      <td>5.4</td>\n",
       "    </tr>\n",
       "  </tbody>\n",
       "</table>\n",
       "<p>82 rows × 10 columns</p>\n",
       "</div>"
      ],
      "text/plain": [
       "          country country_code         region  gold  silver  bronze  total  \\\n",
       "0   United States          USA  North America    40      44      42    126   \n",
       "1           China          CHN           Asia    40      27      24     91   \n",
       "2           Japan          JPN           Asia    20      12      13     45   \n",
       "3       Australia          AUS        Oceania    18      19      16     53   \n",
       "4          France          FRA         Europe    16      26      22     64   \n",
       "..            ...          ...            ...   ...     ...     ...    ...   \n",
       "82    Puerto Rico          PRI      Caribbean     0       0       2      2   \n",
       "84    Ivory Coast          CIV         Africa     0       0       1      1   \n",
       "86          Qatar          QAT           Asia     0       0       1      1   \n",
       "87      Singapore          SGP           Asia     0       0       1      1   \n",
       "88       Slovakia          SVK         Europe     0       0       1      1   \n",
       "\n",
       "         gdp  gdp_year  population  \n",
       "0   81695.19      2023       334.9  \n",
       "1   12614.06      2023      1410.7  \n",
       "2   33834.39      2023       124.5  \n",
       "3   64711.77      2023        26.6  \n",
       "4   44460.82      2023        68.2  \n",
       "..       ...       ...         ...  \n",
       "82  36779.06      2023         3.2  \n",
       "84   2728.80      2023        28.9  \n",
       "86  87480.42      2022         2.7  \n",
       "87  84734.26      2023         5.9  \n",
       "88  24470.24      2023         5.4  \n",
       "\n",
       "[82 rows x 10 columns]"
      ]
     },
     "execution_count": 43,
     "metadata": {},
     "output_type": "execute_result"
    }
   ],
   "source": [
    "olympics24 = olympics24[~olympics24['country'].isin(invalid_countries)]\n",
    "olympics24"
   ]
  },
  {
   "cell_type": "markdown",
   "metadata": {},
   "source": [
    "We need to scale the GDP of the countries into billions, taking `gdp` and scaling it by 0.359 to get the relative GDP in billions USD"
   ]
  },
  {
   "cell_type": "code",
   "execution_count": 44,
   "metadata": {},
   "outputs": [
    {
     "name": "stderr",
     "output_type": "stream",
     "text": [
      "/var/folders/t5/1y7x3kc535bctp93r0gt23rm0000gn/T/ipykernel_55898/2939918307.py:1: SettingWithCopyWarning: \n",
      "A value is trying to be set on a copy of a slice from a DataFrame\n",
      "\n",
      "See the caveats in the documentation: https://pandas.pydata.org/pandas-docs/stable/user_guide/indexing.html#returning-a-view-versus-a-copy\n",
      "  olympics24.rename(columns={'gdp': 'gdp_per_capita'}, inplace=True)\n",
      "/var/folders/t5/1y7x3kc535bctp93r0gt23rm0000gn/T/ipykernel_55898/2939918307.py:2: SettingWithCopyWarning: \n",
      "A value is trying to be set on a copy of a slice from a DataFrame.\n",
      "Try using .loc[row_indexer,col_indexer] = value instead\n",
      "\n",
      "See the caveats in the documentation: https://pandas.pydata.org/pandas-docs/stable/user_guide/indexing.html#returning-a-view-versus-a-copy\n",
      "  olympics24['gdp_total'] = ((olympics24['gdp_per_capita'] * olympics24['population']) / 1000).round(2)\n"
     ]
    }
   ],
   "source": [
    "olympics24.rename(columns={'gdp': 'gdp_per_capita'}, inplace=True)\n",
    "olympics24['gdp_total'] = ((olympics24['gdp_per_capita'] * olympics24['population']) / 1000).round(2)\n",
    "\n"
   ]
  },
  {
   "cell_type": "code",
   "execution_count": 45,
   "metadata": {},
   "outputs": [
    {
     "data": {
      "text/html": [
       "<div>\n",
       "<style scoped>\n",
       "    .dataframe tbody tr th:only-of-type {\n",
       "        vertical-align: middle;\n",
       "    }\n",
       "\n",
       "    .dataframe tbody tr th {\n",
       "        vertical-align: top;\n",
       "    }\n",
       "\n",
       "    .dataframe thead th {\n",
       "        text-align: right;\n",
       "    }\n",
       "</style>\n",
       "<table border=\"1\" class=\"dataframe\">\n",
       "  <thead>\n",
       "    <tr style=\"text-align: right;\">\n",
       "      <th></th>\n",
       "      <th>country</th>\n",
       "      <th>country_code</th>\n",
       "      <th>region</th>\n",
       "      <th>gold</th>\n",
       "      <th>silver</th>\n",
       "      <th>bronze</th>\n",
       "      <th>total</th>\n",
       "      <th>gdp_per_capita</th>\n",
       "      <th>gdp_year</th>\n",
       "      <th>population</th>\n",
       "      <th>gdp_total</th>\n",
       "    </tr>\n",
       "  </thead>\n",
       "  <tbody>\n",
       "    <tr>\n",
       "      <th>0</th>\n",
       "      <td>United States</td>\n",
       "      <td>USA</td>\n",
       "      <td>North America</td>\n",
       "      <td>40</td>\n",
       "      <td>44</td>\n",
       "      <td>42</td>\n",
       "      <td>126</td>\n",
       "      <td>81695.19</td>\n",
       "      <td>2023</td>\n",
       "      <td>334.9</td>\n",
       "      <td>27359.72</td>\n",
       "    </tr>\n",
       "    <tr>\n",
       "      <th>1</th>\n",
       "      <td>China</td>\n",
       "      <td>CHN</td>\n",
       "      <td>Asia</td>\n",
       "      <td>40</td>\n",
       "      <td>27</td>\n",
       "      <td>24</td>\n",
       "      <td>91</td>\n",
       "      <td>12614.06</td>\n",
       "      <td>2023</td>\n",
       "      <td>1410.7</td>\n",
       "      <td>17794.65</td>\n",
       "    </tr>\n",
       "    <tr>\n",
       "      <th>2</th>\n",
       "      <td>Japan</td>\n",
       "      <td>JPN</td>\n",
       "      <td>Asia</td>\n",
       "      <td>20</td>\n",
       "      <td>12</td>\n",
       "      <td>13</td>\n",
       "      <td>45</td>\n",
       "      <td>33834.39</td>\n",
       "      <td>2023</td>\n",
       "      <td>124.5</td>\n",
       "      <td>4212.38</td>\n",
       "    </tr>\n",
       "    <tr>\n",
       "      <th>3</th>\n",
       "      <td>Australia</td>\n",
       "      <td>AUS</td>\n",
       "      <td>Oceania</td>\n",
       "      <td>18</td>\n",
       "      <td>19</td>\n",
       "      <td>16</td>\n",
       "      <td>53</td>\n",
       "      <td>64711.77</td>\n",
       "      <td>2023</td>\n",
       "      <td>26.6</td>\n",
       "      <td>1721.33</td>\n",
       "    </tr>\n",
       "    <tr>\n",
       "      <th>4</th>\n",
       "      <td>France</td>\n",
       "      <td>FRA</td>\n",
       "      <td>Europe</td>\n",
       "      <td>16</td>\n",
       "      <td>26</td>\n",
       "      <td>22</td>\n",
       "      <td>64</td>\n",
       "      <td>44460.82</td>\n",
       "      <td>2023</td>\n",
       "      <td>68.2</td>\n",
       "      <td>3032.23</td>\n",
       "    </tr>\n",
       "    <tr>\n",
       "      <th>...</th>\n",
       "      <td>...</td>\n",
       "      <td>...</td>\n",
       "      <td>...</td>\n",
       "      <td>...</td>\n",
       "      <td>...</td>\n",
       "      <td>...</td>\n",
       "      <td>...</td>\n",
       "      <td>...</td>\n",
       "      <td>...</td>\n",
       "      <td>...</td>\n",
       "      <td>...</td>\n",
       "    </tr>\n",
       "    <tr>\n",
       "      <th>82</th>\n",
       "      <td>Puerto Rico</td>\n",
       "      <td>PRI</td>\n",
       "      <td>Caribbean</td>\n",
       "      <td>0</td>\n",
       "      <td>0</td>\n",
       "      <td>2</td>\n",
       "      <td>2</td>\n",
       "      <td>36779.06</td>\n",
       "      <td>2023</td>\n",
       "      <td>3.2</td>\n",
       "      <td>117.69</td>\n",
       "    </tr>\n",
       "    <tr>\n",
       "      <th>84</th>\n",
       "      <td>Ivory Coast</td>\n",
       "      <td>CIV</td>\n",
       "      <td>Africa</td>\n",
       "      <td>0</td>\n",
       "      <td>0</td>\n",
       "      <td>1</td>\n",
       "      <td>1</td>\n",
       "      <td>2728.80</td>\n",
       "      <td>2023</td>\n",
       "      <td>28.9</td>\n",
       "      <td>78.86</td>\n",
       "    </tr>\n",
       "    <tr>\n",
       "      <th>86</th>\n",
       "      <td>Qatar</td>\n",
       "      <td>QAT</td>\n",
       "      <td>Asia</td>\n",
       "      <td>0</td>\n",
       "      <td>0</td>\n",
       "      <td>1</td>\n",
       "      <td>1</td>\n",
       "      <td>87480.42</td>\n",
       "      <td>2022</td>\n",
       "      <td>2.7</td>\n",
       "      <td>236.20</td>\n",
       "    </tr>\n",
       "    <tr>\n",
       "      <th>87</th>\n",
       "      <td>Singapore</td>\n",
       "      <td>SGP</td>\n",
       "      <td>Asia</td>\n",
       "      <td>0</td>\n",
       "      <td>0</td>\n",
       "      <td>1</td>\n",
       "      <td>1</td>\n",
       "      <td>84734.26</td>\n",
       "      <td>2023</td>\n",
       "      <td>5.9</td>\n",
       "      <td>499.93</td>\n",
       "    </tr>\n",
       "    <tr>\n",
       "      <th>88</th>\n",
       "      <td>Slovakia</td>\n",
       "      <td>SVK</td>\n",
       "      <td>Europe</td>\n",
       "      <td>0</td>\n",
       "      <td>0</td>\n",
       "      <td>1</td>\n",
       "      <td>1</td>\n",
       "      <td>24470.24</td>\n",
       "      <td>2023</td>\n",
       "      <td>5.4</td>\n",
       "      <td>132.14</td>\n",
       "    </tr>\n",
       "  </tbody>\n",
       "</table>\n",
       "<p>82 rows × 11 columns</p>\n",
       "</div>"
      ],
      "text/plain": [
       "          country country_code         region  gold  silver  bronze  total  \\\n",
       "0   United States          USA  North America    40      44      42    126   \n",
       "1           China          CHN           Asia    40      27      24     91   \n",
       "2           Japan          JPN           Asia    20      12      13     45   \n",
       "3       Australia          AUS        Oceania    18      19      16     53   \n",
       "4          France          FRA         Europe    16      26      22     64   \n",
       "..            ...          ...            ...   ...     ...     ...    ...   \n",
       "82    Puerto Rico          PRI      Caribbean     0       0       2      2   \n",
       "84    Ivory Coast          CIV         Africa     0       0       1      1   \n",
       "86          Qatar          QAT           Asia     0       0       1      1   \n",
       "87      Singapore          SGP           Asia     0       0       1      1   \n",
       "88       Slovakia          SVK         Europe     0       0       1      1   \n",
       "\n",
       "    gdp_per_capita  gdp_year  population  gdp_total  \n",
       "0         81695.19      2023       334.9   27359.72  \n",
       "1         12614.06      2023      1410.7   17794.65  \n",
       "2         33834.39      2023       124.5    4212.38  \n",
       "3         64711.77      2023        26.6    1721.33  \n",
       "4         44460.82      2023        68.2    3032.23  \n",
       "..             ...       ...         ...        ...  \n",
       "82        36779.06      2023         3.2     117.69  \n",
       "84         2728.80      2023        28.9      78.86  \n",
       "86        87480.42      2022         2.7     236.20  \n",
       "87        84734.26      2023         5.9     499.93  \n",
       "88        24470.24      2023         5.4     132.14  \n",
       "\n",
       "[82 rows x 11 columns]"
      ]
     },
     "execution_count": 45,
     "metadata": {},
     "output_type": "execute_result"
    }
   ],
   "source": [
    "olympics24"
   ]
  },
  {
   "cell_type": "markdown",
   "metadata": {},
   "source": [
    "# Results\n",
    "\n",
    "## Exploratory Data Analysis\n",
    "\n",
    "Carry out whatever EDA you need to for your project.  Because every project will be different we can't really give you much of a template at this point. But please make sure you describe the what and why in text here as well as providing interpretation of results and context."
   ]
  },
  {
   "cell_type": "markdown",
   "metadata": {},
   "source": [
    "## **`olympics24` TREND ANALYSIS:**\n",
    "- GDP variants and National Populations alongside `total` Medal Count in the 2024 Olympics\n"
   ]
  },
  {
   "cell_type": "markdown",
   "metadata": {},
   "source": [
    "\n",
    "Some more words and stuff.  Remember notebooks work best if you interleave the code that generates a result with properly annotate figures and text that puts these results into context."
   ]
  },
  {
   "cell_type": "code",
   "execution_count": 75,
   "metadata": {},
   "outputs": [
    {
     "data": {
      "application/vnd.plotly.v1+json": {
       "config": {
        "plotlyServerURL": "https://plot.ly"
       },
       "data": [
        {
         "coloraxis": "coloraxis",
         "geo": "geo",
         "hovertemplate": "<b>%{hovertext}</b><br><br>country=%{location}<br>GDP per Capita (USD)=%{z}<extra></extra>",
         "hovertext": [
          "United States",
          "China",
          "Japan",
          "Australia",
          "France",
          "Netherlands",
          "Great Britain",
          "South Korea",
          "Italy",
          "Germany",
          "New Zealand",
          "Canada",
          "Uzbekistan",
          "Hungary",
          "Spain",
          "Sweden",
          "Kenya",
          "Norway",
          "Ireland",
          "Brazil",
          "Iran",
          "Ukraine",
          "Romania",
          "Georgia",
          "Belgium",
          "Bulgaria",
          "Serbia",
          "Czech Republic",
          "Denmark",
          "Azerbaijan",
          "Croatia",
          "Cuba",
          "Bahrain",
          "Slovenia",
          "Austria",
          "Hong Kong",
          "Philippines",
          "Algeria",
          "Indonesia",
          "Israel",
          "Poland",
          "Kazakhstan",
          "Jamaica",
          "South Africa",
          "Thailand",
          "Ethiopia",
          "Switzerland",
          "Ecuador",
          "Portugal",
          "Greece",
          "Argentina",
          "Egypt",
          "Tunisia",
          "Botswana",
          "Chile",
          "Uganda",
          "Dominican Republic",
          "Guatemala",
          "Morocco",
          "Turkey",
          "Mexico",
          "Armenia",
          "Colombia",
          "North Korea",
          "Kyrgyzstan",
          "Lithuania",
          "India",
          "Moldova",
          "Kosovo",
          "Cyprus",
          "Fiji",
          "Jordan",
          "Mongolia",
          "Panama",
          "Tajikistan",
          "Grenada",
          "Malaysia",
          "Puerto Rico",
          "Ivory Coast",
          "Qatar",
          "Singapore",
          "Slovakia"
         ],
         "locationmode": "country names",
         "locations": [
          "United States",
          "China",
          "Japan",
          "Australia",
          "France",
          "Netherlands",
          "Great Britain",
          "South Korea",
          "Italy",
          "Germany",
          "New Zealand",
          "Canada",
          "Uzbekistan",
          "Hungary",
          "Spain",
          "Sweden",
          "Kenya",
          "Norway",
          "Ireland",
          "Brazil",
          "Iran",
          "Ukraine",
          "Romania",
          "Georgia",
          "Belgium",
          "Bulgaria",
          "Serbia",
          "Czech Republic",
          "Denmark",
          "Azerbaijan",
          "Croatia",
          "Cuba",
          "Bahrain",
          "Slovenia",
          "Austria",
          "Hong Kong",
          "Philippines",
          "Algeria",
          "Indonesia",
          "Israel",
          "Poland",
          "Kazakhstan",
          "Jamaica",
          "South Africa",
          "Thailand",
          "Ethiopia",
          "Switzerland",
          "Ecuador",
          "Portugal",
          "Greece",
          "Argentina",
          "Egypt",
          "Tunisia",
          "Botswana",
          "Chile",
          "Uganda",
          "Dominican Republic",
          "Guatemala",
          "Morocco",
          "Turkey",
          "Mexico",
          "Armenia",
          "Colombia",
          "North Korea",
          "Kyrgyzstan",
          "Lithuania",
          "India",
          "Moldova",
          "Kosovo",
          "Cyprus",
          "Fiji",
          "Jordan",
          "Mongolia",
          "Panama",
          "Tajikistan",
          "Grenada",
          "Malaysia",
          "Puerto Rico",
          "Ivory Coast",
          "Qatar",
          "Singapore",
          "Slovakia"
         ],
         "name": "",
         "type": "choropleth",
         "z": [
          81695.19,
          12614.06,
          33834.39,
          64711.77,
          44460.82,
          62536.73,
          48866.6,
          33121.37,
          38373.17,
          52745.76,
          48527.83,
          53371.7,
          2496.11,
          22147.21,
          32676.98,
          56305.25,
          1949.9,
          87961.78,
          103684.88,
          10043.62,
          4502.55,
          5181.36,
          18419.42,
          8120.36,
          53475.29,
          15797.6,
          11360.96,
          30427.42,
          67967.38,
          7155.08,
          21459.78,
          56495.85,
          29084.31,
          32163.51,
          56505.97,
          50696.59,
          3725.55,
          5260.21,
          4940.55,
          52261.68,
          22112.86,
          13136.62,
          6874.2,
          6253.16,
          7171.81,
          1293.78,
          99994.94,
          6533.35,
          27275.11,
          22990.01,
          13730.51,
          3512.58,
          3895.39,
          7249.8,
          17093.24,
          1014.21,
          10716.01,
          5797.52,
          3672.11,
          12985.75,
          13926.11,
          8715.77,
          6979.73,
          1217,
          1969.87,
          27102.78,
          2484.85,
          6650.65,
          5943.13,
          34701.44,
          5868.16,
          4482.09,
          5764.8,
          18661.77,
          1188.99,
          10463.65,
          11648.67,
          36779.06,
          2728.8,
          87480.42,
          84734.26,
          24470.24
         ]
        }
       ],
       "layout": {
        "coloraxis": {
         "colorbar": {
          "title": {
           "text": "GDP per Capita (USD)"
          }
         },
         "colorscale": [
          [
           0,
           "rgb(165,0,38)"
          ],
          [
           0.1,
           "rgb(215,48,39)"
          ],
          [
           0.2,
           "rgb(244,109,67)"
          ],
          [
           0.3,
           "rgb(253,174,97)"
          ],
          [
           0.4,
           "rgb(254,224,139)"
          ],
          [
           0.5,
           "rgb(255,255,191)"
          ],
          [
           0.6,
           "rgb(217,239,139)"
          ],
          [
           0.7,
           "rgb(166,217,106)"
          ],
          [
           0.8,
           "rgb(102,189,99)"
          ],
          [
           0.9,
           "rgb(26,152,80)"
          ],
          [
           1,
           "rgb(0,104,55)"
          ]
         ]
        },
        "font": {
         "color": "white"
        },
        "geo": {
         "center": {},
         "coastlinecolor": "white",
         "domain": {
          "x": [
           0,
           1
          ],
          "y": [
           0,
           1
          ]
         },
         "landcolor": "gray",
         "projection": {
          "type": "natural earth"
         },
         "showcoastlines": true,
         "showland": true
        },
        "legend": {
         "tracegroupgap": 0
        },
        "paper_bgcolor": "black",
        "plot_bgcolor": "black",
        "template": {
         "data": {
          "bar": [
           {
            "error_x": {
             "color": "#2a3f5f"
            },
            "error_y": {
             "color": "#2a3f5f"
            },
            "marker": {
             "line": {
              "color": "#E5ECF6",
              "width": 0.5
             },
             "pattern": {
              "fillmode": "overlay",
              "size": 10,
              "solidity": 0.2
             }
            },
            "type": "bar"
           }
          ],
          "barpolar": [
           {
            "marker": {
             "line": {
              "color": "#E5ECF6",
              "width": 0.5
             },
             "pattern": {
              "fillmode": "overlay",
              "size": 10,
              "solidity": 0.2
             }
            },
            "type": "barpolar"
           }
          ],
          "carpet": [
           {
            "aaxis": {
             "endlinecolor": "#2a3f5f",
             "gridcolor": "white",
             "linecolor": "white",
             "minorgridcolor": "white",
             "startlinecolor": "#2a3f5f"
            },
            "baxis": {
             "endlinecolor": "#2a3f5f",
             "gridcolor": "white",
             "linecolor": "white",
             "minorgridcolor": "white",
             "startlinecolor": "#2a3f5f"
            },
            "type": "carpet"
           }
          ],
          "choropleth": [
           {
            "colorbar": {
             "outlinewidth": 0,
             "ticks": ""
            },
            "type": "choropleth"
           }
          ],
          "contour": [
           {
            "colorbar": {
             "outlinewidth": 0,
             "ticks": ""
            },
            "colorscale": [
             [
              0,
              "#0d0887"
             ],
             [
              0.1111111111111111,
              "#46039f"
             ],
             [
              0.2222222222222222,
              "#7201a8"
             ],
             [
              0.3333333333333333,
              "#9c179e"
             ],
             [
              0.4444444444444444,
              "#bd3786"
             ],
             [
              0.5555555555555556,
              "#d8576b"
             ],
             [
              0.6666666666666666,
              "#ed7953"
             ],
             [
              0.7777777777777778,
              "#fb9f3a"
             ],
             [
              0.8888888888888888,
              "#fdca26"
             ],
             [
              1,
              "#f0f921"
             ]
            ],
            "type": "contour"
           }
          ],
          "contourcarpet": [
           {
            "colorbar": {
             "outlinewidth": 0,
             "ticks": ""
            },
            "type": "contourcarpet"
           }
          ],
          "heatmap": [
           {
            "colorbar": {
             "outlinewidth": 0,
             "ticks": ""
            },
            "colorscale": [
             [
              0,
              "#0d0887"
             ],
             [
              0.1111111111111111,
              "#46039f"
             ],
             [
              0.2222222222222222,
              "#7201a8"
             ],
             [
              0.3333333333333333,
              "#9c179e"
             ],
             [
              0.4444444444444444,
              "#bd3786"
             ],
             [
              0.5555555555555556,
              "#d8576b"
             ],
             [
              0.6666666666666666,
              "#ed7953"
             ],
             [
              0.7777777777777778,
              "#fb9f3a"
             ],
             [
              0.8888888888888888,
              "#fdca26"
             ],
             [
              1,
              "#f0f921"
             ]
            ],
            "type": "heatmap"
           }
          ],
          "heatmapgl": [
           {
            "colorbar": {
             "outlinewidth": 0,
             "ticks": ""
            },
            "colorscale": [
             [
              0,
              "#0d0887"
             ],
             [
              0.1111111111111111,
              "#46039f"
             ],
             [
              0.2222222222222222,
              "#7201a8"
             ],
             [
              0.3333333333333333,
              "#9c179e"
             ],
             [
              0.4444444444444444,
              "#bd3786"
             ],
             [
              0.5555555555555556,
              "#d8576b"
             ],
             [
              0.6666666666666666,
              "#ed7953"
             ],
             [
              0.7777777777777778,
              "#fb9f3a"
             ],
             [
              0.8888888888888888,
              "#fdca26"
             ],
             [
              1,
              "#f0f921"
             ]
            ],
            "type": "heatmapgl"
           }
          ],
          "histogram": [
           {
            "marker": {
             "pattern": {
              "fillmode": "overlay",
              "size": 10,
              "solidity": 0.2
             }
            },
            "type": "histogram"
           }
          ],
          "histogram2d": [
           {
            "colorbar": {
             "outlinewidth": 0,
             "ticks": ""
            },
            "colorscale": [
             [
              0,
              "#0d0887"
             ],
             [
              0.1111111111111111,
              "#46039f"
             ],
             [
              0.2222222222222222,
              "#7201a8"
             ],
             [
              0.3333333333333333,
              "#9c179e"
             ],
             [
              0.4444444444444444,
              "#bd3786"
             ],
             [
              0.5555555555555556,
              "#d8576b"
             ],
             [
              0.6666666666666666,
              "#ed7953"
             ],
             [
              0.7777777777777778,
              "#fb9f3a"
             ],
             [
              0.8888888888888888,
              "#fdca26"
             ],
             [
              1,
              "#f0f921"
             ]
            ],
            "type": "histogram2d"
           }
          ],
          "histogram2dcontour": [
           {
            "colorbar": {
             "outlinewidth": 0,
             "ticks": ""
            },
            "colorscale": [
             [
              0,
              "#0d0887"
             ],
             [
              0.1111111111111111,
              "#46039f"
             ],
             [
              0.2222222222222222,
              "#7201a8"
             ],
             [
              0.3333333333333333,
              "#9c179e"
             ],
             [
              0.4444444444444444,
              "#bd3786"
             ],
             [
              0.5555555555555556,
              "#d8576b"
             ],
             [
              0.6666666666666666,
              "#ed7953"
             ],
             [
              0.7777777777777778,
              "#fb9f3a"
             ],
             [
              0.8888888888888888,
              "#fdca26"
             ],
             [
              1,
              "#f0f921"
             ]
            ],
            "type": "histogram2dcontour"
           }
          ],
          "mesh3d": [
           {
            "colorbar": {
             "outlinewidth": 0,
             "ticks": ""
            },
            "type": "mesh3d"
           }
          ],
          "parcoords": [
           {
            "line": {
             "colorbar": {
              "outlinewidth": 0,
              "ticks": ""
             }
            },
            "type": "parcoords"
           }
          ],
          "pie": [
           {
            "automargin": true,
            "type": "pie"
           }
          ],
          "scatter": [
           {
            "fillpattern": {
             "fillmode": "overlay",
             "size": 10,
             "solidity": 0.2
            },
            "type": "scatter"
           }
          ],
          "scatter3d": [
           {
            "line": {
             "colorbar": {
              "outlinewidth": 0,
              "ticks": ""
             }
            },
            "marker": {
             "colorbar": {
              "outlinewidth": 0,
              "ticks": ""
             }
            },
            "type": "scatter3d"
           }
          ],
          "scattercarpet": [
           {
            "marker": {
             "colorbar": {
              "outlinewidth": 0,
              "ticks": ""
             }
            },
            "type": "scattercarpet"
           }
          ],
          "scattergeo": [
           {
            "marker": {
             "colorbar": {
              "outlinewidth": 0,
              "ticks": ""
             }
            },
            "type": "scattergeo"
           }
          ],
          "scattergl": [
           {
            "marker": {
             "colorbar": {
              "outlinewidth": 0,
              "ticks": ""
             }
            },
            "type": "scattergl"
           }
          ],
          "scattermapbox": [
           {
            "marker": {
             "colorbar": {
              "outlinewidth": 0,
              "ticks": ""
             }
            },
            "type": "scattermapbox"
           }
          ],
          "scatterpolar": [
           {
            "marker": {
             "colorbar": {
              "outlinewidth": 0,
              "ticks": ""
             }
            },
            "type": "scatterpolar"
           }
          ],
          "scatterpolargl": [
           {
            "marker": {
             "colorbar": {
              "outlinewidth": 0,
              "ticks": ""
             }
            },
            "type": "scatterpolargl"
           }
          ],
          "scatterternary": [
           {
            "marker": {
             "colorbar": {
              "outlinewidth": 0,
              "ticks": ""
             }
            },
            "type": "scatterternary"
           }
          ],
          "surface": [
           {
            "colorbar": {
             "outlinewidth": 0,
             "ticks": ""
            },
            "colorscale": [
             [
              0,
              "#0d0887"
             ],
             [
              0.1111111111111111,
              "#46039f"
             ],
             [
              0.2222222222222222,
              "#7201a8"
             ],
             [
              0.3333333333333333,
              "#9c179e"
             ],
             [
              0.4444444444444444,
              "#bd3786"
             ],
             [
              0.5555555555555556,
              "#d8576b"
             ],
             [
              0.6666666666666666,
              "#ed7953"
             ],
             [
              0.7777777777777778,
              "#fb9f3a"
             ],
             [
              0.8888888888888888,
              "#fdca26"
             ],
             [
              1,
              "#f0f921"
             ]
            ],
            "type": "surface"
           }
          ],
          "table": [
           {
            "cells": {
             "fill": {
              "color": "#EBF0F8"
             },
             "line": {
              "color": "white"
             }
            },
            "header": {
             "fill": {
              "color": "#C8D4E3"
             },
             "line": {
              "color": "white"
             }
            },
            "type": "table"
           }
          ]
         },
         "layout": {
          "annotationdefaults": {
           "arrowcolor": "#2a3f5f",
           "arrowhead": 0,
           "arrowwidth": 1
          },
          "autotypenumbers": "strict",
          "coloraxis": {
           "colorbar": {
            "outlinewidth": 0,
            "ticks": ""
           }
          },
          "colorscale": {
           "diverging": [
            [
             0,
             "#8e0152"
            ],
            [
             0.1,
             "#c51b7d"
            ],
            [
             0.2,
             "#de77ae"
            ],
            [
             0.3,
             "#f1b6da"
            ],
            [
             0.4,
             "#fde0ef"
            ],
            [
             0.5,
             "#f7f7f7"
            ],
            [
             0.6,
             "#e6f5d0"
            ],
            [
             0.7,
             "#b8e186"
            ],
            [
             0.8,
             "#7fbc41"
            ],
            [
             0.9,
             "#4d9221"
            ],
            [
             1,
             "#276419"
            ]
           ],
           "sequential": [
            [
             0,
             "#0d0887"
            ],
            [
             0.1111111111111111,
             "#46039f"
            ],
            [
             0.2222222222222222,
             "#7201a8"
            ],
            [
             0.3333333333333333,
             "#9c179e"
            ],
            [
             0.4444444444444444,
             "#bd3786"
            ],
            [
             0.5555555555555556,
             "#d8576b"
            ],
            [
             0.6666666666666666,
             "#ed7953"
            ],
            [
             0.7777777777777778,
             "#fb9f3a"
            ],
            [
             0.8888888888888888,
             "#fdca26"
            ],
            [
             1,
             "#f0f921"
            ]
           ],
           "sequentialminus": [
            [
             0,
             "#0d0887"
            ],
            [
             0.1111111111111111,
             "#46039f"
            ],
            [
             0.2222222222222222,
             "#7201a8"
            ],
            [
             0.3333333333333333,
             "#9c179e"
            ],
            [
             0.4444444444444444,
             "#bd3786"
            ],
            [
             0.5555555555555556,
             "#d8576b"
            ],
            [
             0.6666666666666666,
             "#ed7953"
            ],
            [
             0.7777777777777778,
             "#fb9f3a"
            ],
            [
             0.8888888888888888,
             "#fdca26"
            ],
            [
             1,
             "#f0f921"
            ]
           ]
          },
          "colorway": [
           "#636efa",
           "#EF553B",
           "#00cc96",
           "#ab63fa",
           "#FFA15A",
           "#19d3f3",
           "#FF6692",
           "#B6E880",
           "#FF97FF",
           "#FECB52"
          ],
          "font": {
           "color": "#2a3f5f"
          },
          "geo": {
           "bgcolor": "white",
           "lakecolor": "white",
           "landcolor": "#E5ECF6",
           "showlakes": true,
           "showland": true,
           "subunitcolor": "white"
          },
          "hoverlabel": {
           "align": "left"
          },
          "hovermode": "closest",
          "mapbox": {
           "style": "light"
          },
          "paper_bgcolor": "white",
          "plot_bgcolor": "#E5ECF6",
          "polar": {
           "angularaxis": {
            "gridcolor": "white",
            "linecolor": "white",
            "ticks": ""
           },
           "bgcolor": "#E5ECF6",
           "radialaxis": {
            "gridcolor": "white",
            "linecolor": "white",
            "ticks": ""
           }
          },
          "scene": {
           "xaxis": {
            "backgroundcolor": "#E5ECF6",
            "gridcolor": "white",
            "gridwidth": 2,
            "linecolor": "white",
            "showbackground": true,
            "ticks": "",
            "zerolinecolor": "white"
           },
           "yaxis": {
            "backgroundcolor": "#E5ECF6",
            "gridcolor": "white",
            "gridwidth": 2,
            "linecolor": "white",
            "showbackground": true,
            "ticks": "",
            "zerolinecolor": "white"
           },
           "zaxis": {
            "backgroundcolor": "#E5ECF6",
            "gridcolor": "white",
            "gridwidth": 2,
            "linecolor": "white",
            "showbackground": true,
            "ticks": "",
            "zerolinecolor": "white"
           }
          },
          "shapedefaults": {
           "line": {
            "color": "#2a3f5f"
           }
          },
          "ternary": {
           "aaxis": {
            "gridcolor": "white",
            "linecolor": "white",
            "ticks": ""
           },
           "baxis": {
            "gridcolor": "white",
            "linecolor": "white",
            "ticks": ""
           },
           "bgcolor": "#E5ECF6",
           "caxis": {
            "gridcolor": "white",
            "linecolor": "white",
            "ticks": ""
           }
          },
          "title": {
           "x": 0.05
          },
          "xaxis": {
           "automargin": true,
           "gridcolor": "white",
           "linecolor": "white",
           "ticks": "",
           "title": {
            "standoff": 15
           },
           "zerolinecolor": "white",
           "zerolinewidth": 2
          },
          "yaxis": {
           "automargin": true,
           "gridcolor": "white",
           "linecolor": "white",
           "ticks": "",
           "title": {
            "standoff": 15
           },
           "zerolinecolor": "white",
           "zerolinewidth": 2
          }
         }
        },
        "title": {
         "text": "Global Distribution of GDP per Capita in 2024 Olympics Participating Nations"
        }
       }
      }
     },
     "metadata": {},
     "output_type": "display_data"
    }
   ],
   "source": [
    "gdp_pc_medals = olympics24[['country', 'gdp_per_capita', 'gdp_total', 'gold', 'total', 'population']]\n",
    "\n",
    "fig_gdp = px.choropleth(gdp_pc_medals,\n",
    "                        locations=\"country\",\n",
    "                        locationmode=\"country names\",  # Match the country names format in Plotly\n",
    "                        color=\"gdp_per_capita\",\n",
    "                        hover_name=\"country\",\n",
    "                        color_continuous_scale='RdYlGn',\n",
    "                        title=\"Global Distribution of GDP per Capita in 2024 Olympics Participating Nations\",\n",
    "                        labels={\"gdp_per_capita\": \"GDP per Capita (USD)\"})\n",
    "\n",
    "fig_gdp.update_geos(showcoastlines=True, coastlinecolor=\"Black\")\n",
    "fig_gdp.update_layout(\n",
    "    plot_bgcolor='black',  # Change background to black\n",
    "    paper_bgcolor='black',  # Change the outer background to black\n",
    "    font_color='white',  # Change font color to white for better visibility\n",
    "    geo=dict(showland=True, landcolor='gray', showcoastlines=True, coastlinecolor=\"white\", projection_type=\"natural earth\")\n",
    ")\n",
    "fig_gdp.show()"
   ]
  },
  {
   "cell_type": "markdown",
   "metadata": {},
   "source": [
    "**Description for above chart:**"
   ]
  },
  {
   "cell_type": "code",
   "execution_count": 77,
   "metadata": {},
   "outputs": [
    {
     "data": {
      "application/vnd.plotly.v1+json": {
       "config": {
        "plotlyServerURL": "https://plot.ly"
       },
       "data": [
        {
         "coloraxis": "coloraxis",
         "geo": "geo",
         "hovertemplate": "<b>%{hovertext}</b><br><br>country=%{location}<br>Total GDP (USD)=%{z}<extra></extra>",
         "hovertext": [
          "United States",
          "China",
          "Japan",
          "Australia",
          "France",
          "Netherlands",
          "Great Britain",
          "South Korea",
          "Italy",
          "Germany",
          "New Zealand",
          "Canada",
          "Uzbekistan",
          "Hungary",
          "Spain",
          "Sweden",
          "Kenya",
          "Norway",
          "Ireland",
          "Brazil",
          "Iran",
          "Ukraine",
          "Romania",
          "Georgia",
          "Belgium",
          "Bulgaria",
          "Serbia",
          "Czech Republic",
          "Denmark",
          "Azerbaijan",
          "Croatia",
          "Cuba",
          "Bahrain",
          "Slovenia",
          "Austria",
          "Hong Kong",
          "Philippines",
          "Algeria",
          "Indonesia",
          "Israel",
          "Poland",
          "Kazakhstan",
          "Jamaica",
          "South Africa",
          "Thailand",
          "Ethiopia",
          "Switzerland",
          "Ecuador",
          "Portugal",
          "Greece",
          "Argentina",
          "Egypt",
          "Tunisia",
          "Botswana",
          "Chile",
          "Uganda",
          "Dominican Republic",
          "Guatemala",
          "Morocco",
          "Turkey",
          "Mexico",
          "Armenia",
          "Colombia",
          "North Korea",
          "Kyrgyzstan",
          "Lithuania",
          "India",
          "Moldova",
          "Kosovo",
          "Cyprus",
          "Fiji",
          "Jordan",
          "Mongolia",
          "Panama",
          "Tajikistan",
          "Grenada",
          "Malaysia",
          "Puerto Rico",
          "Ivory Coast",
          "Qatar",
          "Singapore",
          "Slovakia"
         ],
         "locationmode": "country names",
         "locations": [
          "United States",
          "China",
          "Japan",
          "Australia",
          "France",
          "Netherlands",
          "Great Britain",
          "South Korea",
          "Italy",
          "Germany",
          "New Zealand",
          "Canada",
          "Uzbekistan",
          "Hungary",
          "Spain",
          "Sweden",
          "Kenya",
          "Norway",
          "Ireland",
          "Brazil",
          "Iran",
          "Ukraine",
          "Romania",
          "Georgia",
          "Belgium",
          "Bulgaria",
          "Serbia",
          "Czech Republic",
          "Denmark",
          "Azerbaijan",
          "Croatia",
          "Cuba",
          "Bahrain",
          "Slovenia",
          "Austria",
          "Hong Kong",
          "Philippines",
          "Algeria",
          "Indonesia",
          "Israel",
          "Poland",
          "Kazakhstan",
          "Jamaica",
          "South Africa",
          "Thailand",
          "Ethiopia",
          "Switzerland",
          "Ecuador",
          "Portugal",
          "Greece",
          "Argentina",
          "Egypt",
          "Tunisia",
          "Botswana",
          "Chile",
          "Uganda",
          "Dominican Republic",
          "Guatemala",
          "Morocco",
          "Turkey",
          "Mexico",
          "Armenia",
          "Colombia",
          "North Korea",
          "Kyrgyzstan",
          "Lithuania",
          "India",
          "Moldova",
          "Kosovo",
          "Cyprus",
          "Fiji",
          "Jordan",
          "Mongolia",
          "Panama",
          "Tajikistan",
          "Grenada",
          "Malaysia",
          "Puerto Rico",
          "Ivory Coast",
          "Qatar",
          "Singapore",
          "Slovakia"
         ],
         "name": "",
         "type": "choropleth",
         "z": [
          27359.72,
          17794.65,
          4212.38,
          1721.33,
          3032.23,
          1119.41,
          3337.59,
          1712.37,
          2256.34,
          4457.02,
          252.34,
          2140.21,
          90.86,
          212.61,
          1581.57,
          591.21,
          107.44,
          483.79,
          549.53,
          2173.44,
          401.63,
          191.71,
          351.81,
          30.86,
          631.01,
          101.1,
          74.98,
          331.66,
          401.01,
          72.27,
          83.69,
          632.75,
          43.63,
          67.54,
          514.2,
          380.22,
          437.01,
          239.87,
          1371,
          512.16,
          811.54,
          261.42,
          19.25,
          377.69,
          514.94,
          163.66,
          879.96,
          118.91,
          286.39,
          239.1,
          641.21,
          395.87,
          48.69,
          19.57,
          335.03,
          49.29,
          121.09,
          102.04,
          138.81,
          1107.68,
          1789.51,
          24.4,
          363.64,
          31.89,
          13.99,
          78.6,
          3549.86,
          16.63,
          10.7,
          45.11,
          5.28,
          50.65,
          19.6,
          83.98,
          12.01,
          1.05,
          399.55,
          117.69,
          78.86,
          236.2,
          499.93,
          132.14
         ]
        }
       ],
       "layout": {
        "coloraxis": {
         "colorbar": {
          "title": {
           "text": "Total GDP (USD)"
          }
         },
         "colorscale": [
          [
           0,
           "rgb(165,0,38)"
          ],
          [
           0.1,
           "rgb(215,48,39)"
          ],
          [
           0.2,
           "rgb(244,109,67)"
          ],
          [
           0.3,
           "rgb(253,174,97)"
          ],
          [
           0.4,
           "rgb(254,224,139)"
          ],
          [
           0.5,
           "rgb(255,255,191)"
          ],
          [
           0.6,
           "rgb(217,239,139)"
          ],
          [
           0.7,
           "rgb(166,217,106)"
          ],
          [
           0.8,
           "rgb(102,189,99)"
          ],
          [
           0.9,
           "rgb(26,152,80)"
          ],
          [
           1,
           "rgb(0,104,55)"
          ]
         ]
        },
        "font": {
         "color": "white"
        },
        "geo": {
         "center": {},
         "coastlinecolor": "white",
         "domain": {
          "x": [
           0,
           1
          ],
          "y": [
           0,
           1
          ]
         },
         "landcolor": "gray",
         "projection": {
          "type": "natural earth"
         },
         "showcoastlines": true,
         "showland": true
        },
        "legend": {
         "tracegroupgap": 0
        },
        "paper_bgcolor": "black",
        "plot_bgcolor": "black",
        "template": {
         "data": {
          "bar": [
           {
            "error_x": {
             "color": "#2a3f5f"
            },
            "error_y": {
             "color": "#2a3f5f"
            },
            "marker": {
             "line": {
              "color": "#E5ECF6",
              "width": 0.5
             },
             "pattern": {
              "fillmode": "overlay",
              "size": 10,
              "solidity": 0.2
             }
            },
            "type": "bar"
           }
          ],
          "barpolar": [
           {
            "marker": {
             "line": {
              "color": "#E5ECF6",
              "width": 0.5
             },
             "pattern": {
              "fillmode": "overlay",
              "size": 10,
              "solidity": 0.2
             }
            },
            "type": "barpolar"
           }
          ],
          "carpet": [
           {
            "aaxis": {
             "endlinecolor": "#2a3f5f",
             "gridcolor": "white",
             "linecolor": "white",
             "minorgridcolor": "white",
             "startlinecolor": "#2a3f5f"
            },
            "baxis": {
             "endlinecolor": "#2a3f5f",
             "gridcolor": "white",
             "linecolor": "white",
             "minorgridcolor": "white",
             "startlinecolor": "#2a3f5f"
            },
            "type": "carpet"
           }
          ],
          "choropleth": [
           {
            "colorbar": {
             "outlinewidth": 0,
             "ticks": ""
            },
            "type": "choropleth"
           }
          ],
          "contour": [
           {
            "colorbar": {
             "outlinewidth": 0,
             "ticks": ""
            },
            "colorscale": [
             [
              0,
              "#0d0887"
             ],
             [
              0.1111111111111111,
              "#46039f"
             ],
             [
              0.2222222222222222,
              "#7201a8"
             ],
             [
              0.3333333333333333,
              "#9c179e"
             ],
             [
              0.4444444444444444,
              "#bd3786"
             ],
             [
              0.5555555555555556,
              "#d8576b"
             ],
             [
              0.6666666666666666,
              "#ed7953"
             ],
             [
              0.7777777777777778,
              "#fb9f3a"
             ],
             [
              0.8888888888888888,
              "#fdca26"
             ],
             [
              1,
              "#f0f921"
             ]
            ],
            "type": "contour"
           }
          ],
          "contourcarpet": [
           {
            "colorbar": {
             "outlinewidth": 0,
             "ticks": ""
            },
            "type": "contourcarpet"
           }
          ],
          "heatmap": [
           {
            "colorbar": {
             "outlinewidth": 0,
             "ticks": ""
            },
            "colorscale": [
             [
              0,
              "#0d0887"
             ],
             [
              0.1111111111111111,
              "#46039f"
             ],
             [
              0.2222222222222222,
              "#7201a8"
             ],
             [
              0.3333333333333333,
              "#9c179e"
             ],
             [
              0.4444444444444444,
              "#bd3786"
             ],
             [
              0.5555555555555556,
              "#d8576b"
             ],
             [
              0.6666666666666666,
              "#ed7953"
             ],
             [
              0.7777777777777778,
              "#fb9f3a"
             ],
             [
              0.8888888888888888,
              "#fdca26"
             ],
             [
              1,
              "#f0f921"
             ]
            ],
            "type": "heatmap"
           }
          ],
          "heatmapgl": [
           {
            "colorbar": {
             "outlinewidth": 0,
             "ticks": ""
            },
            "colorscale": [
             [
              0,
              "#0d0887"
             ],
             [
              0.1111111111111111,
              "#46039f"
             ],
             [
              0.2222222222222222,
              "#7201a8"
             ],
             [
              0.3333333333333333,
              "#9c179e"
             ],
             [
              0.4444444444444444,
              "#bd3786"
             ],
             [
              0.5555555555555556,
              "#d8576b"
             ],
             [
              0.6666666666666666,
              "#ed7953"
             ],
             [
              0.7777777777777778,
              "#fb9f3a"
             ],
             [
              0.8888888888888888,
              "#fdca26"
             ],
             [
              1,
              "#f0f921"
             ]
            ],
            "type": "heatmapgl"
           }
          ],
          "histogram": [
           {
            "marker": {
             "pattern": {
              "fillmode": "overlay",
              "size": 10,
              "solidity": 0.2
             }
            },
            "type": "histogram"
           }
          ],
          "histogram2d": [
           {
            "colorbar": {
             "outlinewidth": 0,
             "ticks": ""
            },
            "colorscale": [
             [
              0,
              "#0d0887"
             ],
             [
              0.1111111111111111,
              "#46039f"
             ],
             [
              0.2222222222222222,
              "#7201a8"
             ],
             [
              0.3333333333333333,
              "#9c179e"
             ],
             [
              0.4444444444444444,
              "#bd3786"
             ],
             [
              0.5555555555555556,
              "#d8576b"
             ],
             [
              0.6666666666666666,
              "#ed7953"
             ],
             [
              0.7777777777777778,
              "#fb9f3a"
             ],
             [
              0.8888888888888888,
              "#fdca26"
             ],
             [
              1,
              "#f0f921"
             ]
            ],
            "type": "histogram2d"
           }
          ],
          "histogram2dcontour": [
           {
            "colorbar": {
             "outlinewidth": 0,
             "ticks": ""
            },
            "colorscale": [
             [
              0,
              "#0d0887"
             ],
             [
              0.1111111111111111,
              "#46039f"
             ],
             [
              0.2222222222222222,
              "#7201a8"
             ],
             [
              0.3333333333333333,
              "#9c179e"
             ],
             [
              0.4444444444444444,
              "#bd3786"
             ],
             [
              0.5555555555555556,
              "#d8576b"
             ],
             [
              0.6666666666666666,
              "#ed7953"
             ],
             [
              0.7777777777777778,
              "#fb9f3a"
             ],
             [
              0.8888888888888888,
              "#fdca26"
             ],
             [
              1,
              "#f0f921"
             ]
            ],
            "type": "histogram2dcontour"
           }
          ],
          "mesh3d": [
           {
            "colorbar": {
             "outlinewidth": 0,
             "ticks": ""
            },
            "type": "mesh3d"
           }
          ],
          "parcoords": [
           {
            "line": {
             "colorbar": {
              "outlinewidth": 0,
              "ticks": ""
             }
            },
            "type": "parcoords"
           }
          ],
          "pie": [
           {
            "automargin": true,
            "type": "pie"
           }
          ],
          "scatter": [
           {
            "fillpattern": {
             "fillmode": "overlay",
             "size": 10,
             "solidity": 0.2
            },
            "type": "scatter"
           }
          ],
          "scatter3d": [
           {
            "line": {
             "colorbar": {
              "outlinewidth": 0,
              "ticks": ""
             }
            },
            "marker": {
             "colorbar": {
              "outlinewidth": 0,
              "ticks": ""
             }
            },
            "type": "scatter3d"
           }
          ],
          "scattercarpet": [
           {
            "marker": {
             "colorbar": {
              "outlinewidth": 0,
              "ticks": ""
             }
            },
            "type": "scattercarpet"
           }
          ],
          "scattergeo": [
           {
            "marker": {
             "colorbar": {
              "outlinewidth": 0,
              "ticks": ""
             }
            },
            "type": "scattergeo"
           }
          ],
          "scattergl": [
           {
            "marker": {
             "colorbar": {
              "outlinewidth": 0,
              "ticks": ""
             }
            },
            "type": "scattergl"
           }
          ],
          "scattermapbox": [
           {
            "marker": {
             "colorbar": {
              "outlinewidth": 0,
              "ticks": ""
             }
            },
            "type": "scattermapbox"
           }
          ],
          "scatterpolar": [
           {
            "marker": {
             "colorbar": {
              "outlinewidth": 0,
              "ticks": ""
             }
            },
            "type": "scatterpolar"
           }
          ],
          "scatterpolargl": [
           {
            "marker": {
             "colorbar": {
              "outlinewidth": 0,
              "ticks": ""
             }
            },
            "type": "scatterpolargl"
           }
          ],
          "scatterternary": [
           {
            "marker": {
             "colorbar": {
              "outlinewidth": 0,
              "ticks": ""
             }
            },
            "type": "scatterternary"
           }
          ],
          "surface": [
           {
            "colorbar": {
             "outlinewidth": 0,
             "ticks": ""
            },
            "colorscale": [
             [
              0,
              "#0d0887"
             ],
             [
              0.1111111111111111,
              "#46039f"
             ],
             [
              0.2222222222222222,
              "#7201a8"
             ],
             [
              0.3333333333333333,
              "#9c179e"
             ],
             [
              0.4444444444444444,
              "#bd3786"
             ],
             [
              0.5555555555555556,
              "#d8576b"
             ],
             [
              0.6666666666666666,
              "#ed7953"
             ],
             [
              0.7777777777777778,
              "#fb9f3a"
             ],
             [
              0.8888888888888888,
              "#fdca26"
             ],
             [
              1,
              "#f0f921"
             ]
            ],
            "type": "surface"
           }
          ],
          "table": [
           {
            "cells": {
             "fill": {
              "color": "#EBF0F8"
             },
             "line": {
              "color": "white"
             }
            },
            "header": {
             "fill": {
              "color": "#C8D4E3"
             },
             "line": {
              "color": "white"
             }
            },
            "type": "table"
           }
          ]
         },
         "layout": {
          "annotationdefaults": {
           "arrowcolor": "#2a3f5f",
           "arrowhead": 0,
           "arrowwidth": 1
          },
          "autotypenumbers": "strict",
          "coloraxis": {
           "colorbar": {
            "outlinewidth": 0,
            "ticks": ""
           }
          },
          "colorscale": {
           "diverging": [
            [
             0,
             "#8e0152"
            ],
            [
             0.1,
             "#c51b7d"
            ],
            [
             0.2,
             "#de77ae"
            ],
            [
             0.3,
             "#f1b6da"
            ],
            [
             0.4,
             "#fde0ef"
            ],
            [
             0.5,
             "#f7f7f7"
            ],
            [
             0.6,
             "#e6f5d0"
            ],
            [
             0.7,
             "#b8e186"
            ],
            [
             0.8,
             "#7fbc41"
            ],
            [
             0.9,
             "#4d9221"
            ],
            [
             1,
             "#276419"
            ]
           ],
           "sequential": [
            [
             0,
             "#0d0887"
            ],
            [
             0.1111111111111111,
             "#46039f"
            ],
            [
             0.2222222222222222,
             "#7201a8"
            ],
            [
             0.3333333333333333,
             "#9c179e"
            ],
            [
             0.4444444444444444,
             "#bd3786"
            ],
            [
             0.5555555555555556,
             "#d8576b"
            ],
            [
             0.6666666666666666,
             "#ed7953"
            ],
            [
             0.7777777777777778,
             "#fb9f3a"
            ],
            [
             0.8888888888888888,
             "#fdca26"
            ],
            [
             1,
             "#f0f921"
            ]
           ],
           "sequentialminus": [
            [
             0,
             "#0d0887"
            ],
            [
             0.1111111111111111,
             "#46039f"
            ],
            [
             0.2222222222222222,
             "#7201a8"
            ],
            [
             0.3333333333333333,
             "#9c179e"
            ],
            [
             0.4444444444444444,
             "#bd3786"
            ],
            [
             0.5555555555555556,
             "#d8576b"
            ],
            [
             0.6666666666666666,
             "#ed7953"
            ],
            [
             0.7777777777777778,
             "#fb9f3a"
            ],
            [
             0.8888888888888888,
             "#fdca26"
            ],
            [
             1,
             "#f0f921"
            ]
           ]
          },
          "colorway": [
           "#636efa",
           "#EF553B",
           "#00cc96",
           "#ab63fa",
           "#FFA15A",
           "#19d3f3",
           "#FF6692",
           "#B6E880",
           "#FF97FF",
           "#FECB52"
          ],
          "font": {
           "color": "#2a3f5f"
          },
          "geo": {
           "bgcolor": "white",
           "lakecolor": "white",
           "landcolor": "#E5ECF6",
           "showlakes": true,
           "showland": true,
           "subunitcolor": "white"
          },
          "hoverlabel": {
           "align": "left"
          },
          "hovermode": "closest",
          "mapbox": {
           "style": "light"
          },
          "paper_bgcolor": "white",
          "plot_bgcolor": "#E5ECF6",
          "polar": {
           "angularaxis": {
            "gridcolor": "white",
            "linecolor": "white",
            "ticks": ""
           },
           "bgcolor": "#E5ECF6",
           "radialaxis": {
            "gridcolor": "white",
            "linecolor": "white",
            "ticks": ""
           }
          },
          "scene": {
           "xaxis": {
            "backgroundcolor": "#E5ECF6",
            "gridcolor": "white",
            "gridwidth": 2,
            "linecolor": "white",
            "showbackground": true,
            "ticks": "",
            "zerolinecolor": "white"
           },
           "yaxis": {
            "backgroundcolor": "#E5ECF6",
            "gridcolor": "white",
            "gridwidth": 2,
            "linecolor": "white",
            "showbackground": true,
            "ticks": "",
            "zerolinecolor": "white"
           },
           "zaxis": {
            "backgroundcolor": "#E5ECF6",
            "gridcolor": "white",
            "gridwidth": 2,
            "linecolor": "white",
            "showbackground": true,
            "ticks": "",
            "zerolinecolor": "white"
           }
          },
          "shapedefaults": {
           "line": {
            "color": "#2a3f5f"
           }
          },
          "ternary": {
           "aaxis": {
            "gridcolor": "white",
            "linecolor": "white",
            "ticks": ""
           },
           "baxis": {
            "gridcolor": "white",
            "linecolor": "white",
            "ticks": ""
           },
           "bgcolor": "#E5ECF6",
           "caxis": {
            "gridcolor": "white",
            "linecolor": "white",
            "ticks": ""
           }
          },
          "title": {
           "x": 0.05
          },
          "xaxis": {
           "automargin": true,
           "gridcolor": "white",
           "linecolor": "white",
           "ticks": "",
           "title": {
            "standoff": 15
           },
           "zerolinecolor": "white",
           "zerolinewidth": 2
          },
          "yaxis": {
           "automargin": true,
           "gridcolor": "white",
           "linecolor": "white",
           "ticks": "",
           "title": {
            "standoff": 15
           },
           "zerolinecolor": "white",
           "zerolinewidth": 2
          }
         }
        },
        "title": {
         "text": "Global Distribution of Total GDP in 2024 Olympics Participating Nations"
        }
       }
      }
     },
     "metadata": {},
     "output_type": "display_data"
    }
   ],
   "source": [
    "fig_totalgdp = px.choropleth(gdp_pc_medals,\n",
    "                        locations=\"country\",\n",
    "                        locationmode=\"country names\",  # Match the country names format in Plotly\n",
    "                        color=\"gdp_total\",\n",
    "                        hover_name=\"country\",\n",
    "                        color_continuous_scale='RdYlGn',\n",
    "                        title=\"Global Distribution of Total GDP in 2024 Olympics Participating Nations\",\n",
    "                        labels={\"gdp_total\": \"Total GDP (USD)\"})\n",
    "\n",
    "fig_totalgdp.update_geos(showcoastlines=True, coastlinecolor=\"Black\")\n",
    "fig_totalgdp.update_layout(\n",
    "    plot_bgcolor='black',  # Change background to black\n",
    "    paper_bgcolor='black',  # Change the outer background to black\n",
    "    font_color='white',  # Change font color to white for better visibility\n",
    "    geo=dict(showland=True, landcolor='gray', showcoastlines=True, coastlinecolor=\"white\", projection_type=\"natural earth\")\n",
    ")\n",
    "fig_totalgdp.show()"
   ]
  },
  {
   "cell_type": "markdown",
   "metadata": {},
   "source": [
    "**Description for above chart:**"
   ]
  },
  {
   "cell_type": "code",
   "execution_count": 78,
   "metadata": {},
   "outputs": [
    {
     "data": {
      "application/vnd.plotly.v1+json": {
       "config": {
        "plotlyServerURL": "https://plot.ly"
       },
       "data": [
        {
         "coloraxis": "coloraxis",
         "geo": "geo",
         "hovertemplate": "<b>%{hovertext}</b><br><br>country=%{location}<br>Population=%{z}<extra></extra>",
         "hovertext": [
          "United States",
          "China",
          "Japan",
          "Australia",
          "France",
          "Netherlands",
          "Great Britain",
          "South Korea",
          "Italy",
          "Germany",
          "New Zealand",
          "Canada",
          "Uzbekistan",
          "Hungary",
          "Spain",
          "Sweden",
          "Kenya",
          "Norway",
          "Ireland",
          "Brazil",
          "Iran",
          "Ukraine",
          "Romania",
          "Georgia",
          "Belgium",
          "Bulgaria",
          "Serbia",
          "Czech Republic",
          "Denmark",
          "Azerbaijan",
          "Croatia",
          "Cuba",
          "Bahrain",
          "Slovenia",
          "Austria",
          "Hong Kong",
          "Philippines",
          "Algeria",
          "Indonesia",
          "Israel",
          "Poland",
          "Kazakhstan",
          "Jamaica",
          "South Africa",
          "Thailand",
          "Ethiopia",
          "Switzerland",
          "Ecuador",
          "Portugal",
          "Greece",
          "Argentina",
          "Egypt",
          "Tunisia",
          "Botswana",
          "Chile",
          "Uganda",
          "Dominican Republic",
          "Guatemala",
          "Morocco",
          "Turkey",
          "Mexico",
          "Armenia",
          "Colombia",
          "North Korea",
          "Kyrgyzstan",
          "Lithuania",
          "India",
          "Moldova",
          "Kosovo",
          "Cyprus",
          "Fiji",
          "Jordan",
          "Mongolia",
          "Panama",
          "Tajikistan",
          "Grenada",
          "Malaysia",
          "Puerto Rico",
          "Ivory Coast",
          "Qatar",
          "Singapore",
          "Slovakia"
         ],
         "locationmode": "country names",
         "locations": [
          "United States",
          "China",
          "Japan",
          "Australia",
          "France",
          "Netherlands",
          "Great Britain",
          "South Korea",
          "Italy",
          "Germany",
          "New Zealand",
          "Canada",
          "Uzbekistan",
          "Hungary",
          "Spain",
          "Sweden",
          "Kenya",
          "Norway",
          "Ireland",
          "Brazil",
          "Iran",
          "Ukraine",
          "Romania",
          "Georgia",
          "Belgium",
          "Bulgaria",
          "Serbia",
          "Czech Republic",
          "Denmark",
          "Azerbaijan",
          "Croatia",
          "Cuba",
          "Bahrain",
          "Slovenia",
          "Austria",
          "Hong Kong",
          "Philippines",
          "Algeria",
          "Indonesia",
          "Israel",
          "Poland",
          "Kazakhstan",
          "Jamaica",
          "South Africa",
          "Thailand",
          "Ethiopia",
          "Switzerland",
          "Ecuador",
          "Portugal",
          "Greece",
          "Argentina",
          "Egypt",
          "Tunisia",
          "Botswana",
          "Chile",
          "Uganda",
          "Dominican Republic",
          "Guatemala",
          "Morocco",
          "Turkey",
          "Mexico",
          "Armenia",
          "Colombia",
          "North Korea",
          "Kyrgyzstan",
          "Lithuania",
          "India",
          "Moldova",
          "Kosovo",
          "Cyprus",
          "Fiji",
          "Jordan",
          "Mongolia",
          "Panama",
          "Tajikistan",
          "Grenada",
          "Malaysia",
          "Puerto Rico",
          "Ivory Coast",
          "Qatar",
          "Singapore",
          "Slovakia"
         ],
         "name": "",
         "type": "choropleth",
         "z": [
          334.9,
          1410.7,
          124.5,
          26.6,
          68.2,
          17.9,
          68.3,
          51.7,
          58.8,
          84.5,
          5.2,
          40.1,
          36.4,
          9.6,
          48.4,
          10.5,
          55.1,
          5.5,
          5.3,
          216.4,
          89.2,
          37,
          19.1,
          3.8,
          11.8,
          6.4,
          6.6,
          10.9,
          5.9,
          10.1,
          3.9,
          11.2,
          1.5,
          2.1,
          9.1,
          7.5,
          117.3,
          45.6,
          277.5,
          9.8,
          36.7,
          19.9,
          2.8,
          60.4,
          71.8,
          126.5,
          8.8,
          18.2,
          10.5,
          10.4,
          46.7,
          112.7,
          12.5,
          2.7,
          19.6,
          48.6,
          11.3,
          17.6,
          37.8,
          85.3,
          128.5,
          2.8,
          52.1,
          26.2,
          7.1,
          2.9,
          1428.6,
          2.5,
          1.8,
          1.3,
          0.9,
          11.3,
          3.4,
          4.5,
          10.1,
          0.1,
          34.3,
          3.2,
          28.9,
          2.7,
          5.9,
          5.4
         ]
        }
       ],
       "layout": {
        "coloraxis": {
         "colorbar": {
          "title": {
           "text": "Population"
          }
         },
         "colorscale": [
          [
           0,
           "rgb(165,0,38)"
          ],
          [
           0.1,
           "rgb(215,48,39)"
          ],
          [
           0.2,
           "rgb(244,109,67)"
          ],
          [
           0.3,
           "rgb(253,174,97)"
          ],
          [
           0.4,
           "rgb(254,224,139)"
          ],
          [
           0.5,
           "rgb(255,255,191)"
          ],
          [
           0.6,
           "rgb(217,239,139)"
          ],
          [
           0.7,
           "rgb(166,217,106)"
          ],
          [
           0.8,
           "rgb(102,189,99)"
          ],
          [
           0.9,
           "rgb(26,152,80)"
          ],
          [
           1,
           "rgb(0,104,55)"
          ]
         ]
        },
        "font": {
         "color": "white"
        },
        "geo": {
         "center": {},
         "coastlinecolor": "white",
         "domain": {
          "x": [
           0,
           1
          ],
          "y": [
           0,
           1
          ]
         },
         "landcolor": "gray",
         "projection": {
          "type": "natural earth"
         },
         "showcoastlines": true,
         "showland": true
        },
        "legend": {
         "tracegroupgap": 0
        },
        "paper_bgcolor": "black",
        "plot_bgcolor": "black",
        "template": {
         "data": {
          "bar": [
           {
            "error_x": {
             "color": "#2a3f5f"
            },
            "error_y": {
             "color": "#2a3f5f"
            },
            "marker": {
             "line": {
              "color": "#E5ECF6",
              "width": 0.5
             },
             "pattern": {
              "fillmode": "overlay",
              "size": 10,
              "solidity": 0.2
             }
            },
            "type": "bar"
           }
          ],
          "barpolar": [
           {
            "marker": {
             "line": {
              "color": "#E5ECF6",
              "width": 0.5
             },
             "pattern": {
              "fillmode": "overlay",
              "size": 10,
              "solidity": 0.2
             }
            },
            "type": "barpolar"
           }
          ],
          "carpet": [
           {
            "aaxis": {
             "endlinecolor": "#2a3f5f",
             "gridcolor": "white",
             "linecolor": "white",
             "minorgridcolor": "white",
             "startlinecolor": "#2a3f5f"
            },
            "baxis": {
             "endlinecolor": "#2a3f5f",
             "gridcolor": "white",
             "linecolor": "white",
             "minorgridcolor": "white",
             "startlinecolor": "#2a3f5f"
            },
            "type": "carpet"
           }
          ],
          "choropleth": [
           {
            "colorbar": {
             "outlinewidth": 0,
             "ticks": ""
            },
            "type": "choropleth"
           }
          ],
          "contour": [
           {
            "colorbar": {
             "outlinewidth": 0,
             "ticks": ""
            },
            "colorscale": [
             [
              0,
              "#0d0887"
             ],
             [
              0.1111111111111111,
              "#46039f"
             ],
             [
              0.2222222222222222,
              "#7201a8"
             ],
             [
              0.3333333333333333,
              "#9c179e"
             ],
             [
              0.4444444444444444,
              "#bd3786"
             ],
             [
              0.5555555555555556,
              "#d8576b"
             ],
             [
              0.6666666666666666,
              "#ed7953"
             ],
             [
              0.7777777777777778,
              "#fb9f3a"
             ],
             [
              0.8888888888888888,
              "#fdca26"
             ],
             [
              1,
              "#f0f921"
             ]
            ],
            "type": "contour"
           }
          ],
          "contourcarpet": [
           {
            "colorbar": {
             "outlinewidth": 0,
             "ticks": ""
            },
            "type": "contourcarpet"
           }
          ],
          "heatmap": [
           {
            "colorbar": {
             "outlinewidth": 0,
             "ticks": ""
            },
            "colorscale": [
             [
              0,
              "#0d0887"
             ],
             [
              0.1111111111111111,
              "#46039f"
             ],
             [
              0.2222222222222222,
              "#7201a8"
             ],
             [
              0.3333333333333333,
              "#9c179e"
             ],
             [
              0.4444444444444444,
              "#bd3786"
             ],
             [
              0.5555555555555556,
              "#d8576b"
             ],
             [
              0.6666666666666666,
              "#ed7953"
             ],
             [
              0.7777777777777778,
              "#fb9f3a"
             ],
             [
              0.8888888888888888,
              "#fdca26"
             ],
             [
              1,
              "#f0f921"
             ]
            ],
            "type": "heatmap"
           }
          ],
          "heatmapgl": [
           {
            "colorbar": {
             "outlinewidth": 0,
             "ticks": ""
            },
            "colorscale": [
             [
              0,
              "#0d0887"
             ],
             [
              0.1111111111111111,
              "#46039f"
             ],
             [
              0.2222222222222222,
              "#7201a8"
             ],
             [
              0.3333333333333333,
              "#9c179e"
             ],
             [
              0.4444444444444444,
              "#bd3786"
             ],
             [
              0.5555555555555556,
              "#d8576b"
             ],
             [
              0.6666666666666666,
              "#ed7953"
             ],
             [
              0.7777777777777778,
              "#fb9f3a"
             ],
             [
              0.8888888888888888,
              "#fdca26"
             ],
             [
              1,
              "#f0f921"
             ]
            ],
            "type": "heatmapgl"
           }
          ],
          "histogram": [
           {
            "marker": {
             "pattern": {
              "fillmode": "overlay",
              "size": 10,
              "solidity": 0.2
             }
            },
            "type": "histogram"
           }
          ],
          "histogram2d": [
           {
            "colorbar": {
             "outlinewidth": 0,
             "ticks": ""
            },
            "colorscale": [
             [
              0,
              "#0d0887"
             ],
             [
              0.1111111111111111,
              "#46039f"
             ],
             [
              0.2222222222222222,
              "#7201a8"
             ],
             [
              0.3333333333333333,
              "#9c179e"
             ],
             [
              0.4444444444444444,
              "#bd3786"
             ],
             [
              0.5555555555555556,
              "#d8576b"
             ],
             [
              0.6666666666666666,
              "#ed7953"
             ],
             [
              0.7777777777777778,
              "#fb9f3a"
             ],
             [
              0.8888888888888888,
              "#fdca26"
             ],
             [
              1,
              "#f0f921"
             ]
            ],
            "type": "histogram2d"
           }
          ],
          "histogram2dcontour": [
           {
            "colorbar": {
             "outlinewidth": 0,
             "ticks": ""
            },
            "colorscale": [
             [
              0,
              "#0d0887"
             ],
             [
              0.1111111111111111,
              "#46039f"
             ],
             [
              0.2222222222222222,
              "#7201a8"
             ],
             [
              0.3333333333333333,
              "#9c179e"
             ],
             [
              0.4444444444444444,
              "#bd3786"
             ],
             [
              0.5555555555555556,
              "#d8576b"
             ],
             [
              0.6666666666666666,
              "#ed7953"
             ],
             [
              0.7777777777777778,
              "#fb9f3a"
             ],
             [
              0.8888888888888888,
              "#fdca26"
             ],
             [
              1,
              "#f0f921"
             ]
            ],
            "type": "histogram2dcontour"
           }
          ],
          "mesh3d": [
           {
            "colorbar": {
             "outlinewidth": 0,
             "ticks": ""
            },
            "type": "mesh3d"
           }
          ],
          "parcoords": [
           {
            "line": {
             "colorbar": {
              "outlinewidth": 0,
              "ticks": ""
             }
            },
            "type": "parcoords"
           }
          ],
          "pie": [
           {
            "automargin": true,
            "type": "pie"
           }
          ],
          "scatter": [
           {
            "fillpattern": {
             "fillmode": "overlay",
             "size": 10,
             "solidity": 0.2
            },
            "type": "scatter"
           }
          ],
          "scatter3d": [
           {
            "line": {
             "colorbar": {
              "outlinewidth": 0,
              "ticks": ""
             }
            },
            "marker": {
             "colorbar": {
              "outlinewidth": 0,
              "ticks": ""
             }
            },
            "type": "scatter3d"
           }
          ],
          "scattercarpet": [
           {
            "marker": {
             "colorbar": {
              "outlinewidth": 0,
              "ticks": ""
             }
            },
            "type": "scattercarpet"
           }
          ],
          "scattergeo": [
           {
            "marker": {
             "colorbar": {
              "outlinewidth": 0,
              "ticks": ""
             }
            },
            "type": "scattergeo"
           }
          ],
          "scattergl": [
           {
            "marker": {
             "colorbar": {
              "outlinewidth": 0,
              "ticks": ""
             }
            },
            "type": "scattergl"
           }
          ],
          "scattermapbox": [
           {
            "marker": {
             "colorbar": {
              "outlinewidth": 0,
              "ticks": ""
             }
            },
            "type": "scattermapbox"
           }
          ],
          "scatterpolar": [
           {
            "marker": {
             "colorbar": {
              "outlinewidth": 0,
              "ticks": ""
             }
            },
            "type": "scatterpolar"
           }
          ],
          "scatterpolargl": [
           {
            "marker": {
             "colorbar": {
              "outlinewidth": 0,
              "ticks": ""
             }
            },
            "type": "scatterpolargl"
           }
          ],
          "scatterternary": [
           {
            "marker": {
             "colorbar": {
              "outlinewidth": 0,
              "ticks": ""
             }
            },
            "type": "scatterternary"
           }
          ],
          "surface": [
           {
            "colorbar": {
             "outlinewidth": 0,
             "ticks": ""
            },
            "colorscale": [
             [
              0,
              "#0d0887"
             ],
             [
              0.1111111111111111,
              "#46039f"
             ],
             [
              0.2222222222222222,
              "#7201a8"
             ],
             [
              0.3333333333333333,
              "#9c179e"
             ],
             [
              0.4444444444444444,
              "#bd3786"
             ],
             [
              0.5555555555555556,
              "#d8576b"
             ],
             [
              0.6666666666666666,
              "#ed7953"
             ],
             [
              0.7777777777777778,
              "#fb9f3a"
             ],
             [
              0.8888888888888888,
              "#fdca26"
             ],
             [
              1,
              "#f0f921"
             ]
            ],
            "type": "surface"
           }
          ],
          "table": [
           {
            "cells": {
             "fill": {
              "color": "#EBF0F8"
             },
             "line": {
              "color": "white"
             }
            },
            "header": {
             "fill": {
              "color": "#C8D4E3"
             },
             "line": {
              "color": "white"
             }
            },
            "type": "table"
           }
          ]
         },
         "layout": {
          "annotationdefaults": {
           "arrowcolor": "#2a3f5f",
           "arrowhead": 0,
           "arrowwidth": 1
          },
          "autotypenumbers": "strict",
          "coloraxis": {
           "colorbar": {
            "outlinewidth": 0,
            "ticks": ""
           }
          },
          "colorscale": {
           "diverging": [
            [
             0,
             "#8e0152"
            ],
            [
             0.1,
             "#c51b7d"
            ],
            [
             0.2,
             "#de77ae"
            ],
            [
             0.3,
             "#f1b6da"
            ],
            [
             0.4,
             "#fde0ef"
            ],
            [
             0.5,
             "#f7f7f7"
            ],
            [
             0.6,
             "#e6f5d0"
            ],
            [
             0.7,
             "#b8e186"
            ],
            [
             0.8,
             "#7fbc41"
            ],
            [
             0.9,
             "#4d9221"
            ],
            [
             1,
             "#276419"
            ]
           ],
           "sequential": [
            [
             0,
             "#0d0887"
            ],
            [
             0.1111111111111111,
             "#46039f"
            ],
            [
             0.2222222222222222,
             "#7201a8"
            ],
            [
             0.3333333333333333,
             "#9c179e"
            ],
            [
             0.4444444444444444,
             "#bd3786"
            ],
            [
             0.5555555555555556,
             "#d8576b"
            ],
            [
             0.6666666666666666,
             "#ed7953"
            ],
            [
             0.7777777777777778,
             "#fb9f3a"
            ],
            [
             0.8888888888888888,
             "#fdca26"
            ],
            [
             1,
             "#f0f921"
            ]
           ],
           "sequentialminus": [
            [
             0,
             "#0d0887"
            ],
            [
             0.1111111111111111,
             "#46039f"
            ],
            [
             0.2222222222222222,
             "#7201a8"
            ],
            [
             0.3333333333333333,
             "#9c179e"
            ],
            [
             0.4444444444444444,
             "#bd3786"
            ],
            [
             0.5555555555555556,
             "#d8576b"
            ],
            [
             0.6666666666666666,
             "#ed7953"
            ],
            [
             0.7777777777777778,
             "#fb9f3a"
            ],
            [
             0.8888888888888888,
             "#fdca26"
            ],
            [
             1,
             "#f0f921"
            ]
           ]
          },
          "colorway": [
           "#636efa",
           "#EF553B",
           "#00cc96",
           "#ab63fa",
           "#FFA15A",
           "#19d3f3",
           "#FF6692",
           "#B6E880",
           "#FF97FF",
           "#FECB52"
          ],
          "font": {
           "color": "#2a3f5f"
          },
          "geo": {
           "bgcolor": "white",
           "lakecolor": "white",
           "landcolor": "#E5ECF6",
           "showlakes": true,
           "showland": true,
           "subunitcolor": "white"
          },
          "hoverlabel": {
           "align": "left"
          },
          "hovermode": "closest",
          "mapbox": {
           "style": "light"
          },
          "paper_bgcolor": "white",
          "plot_bgcolor": "#E5ECF6",
          "polar": {
           "angularaxis": {
            "gridcolor": "white",
            "linecolor": "white",
            "ticks": ""
           },
           "bgcolor": "#E5ECF6",
           "radialaxis": {
            "gridcolor": "white",
            "linecolor": "white",
            "ticks": ""
           }
          },
          "scene": {
           "xaxis": {
            "backgroundcolor": "#E5ECF6",
            "gridcolor": "white",
            "gridwidth": 2,
            "linecolor": "white",
            "showbackground": true,
            "ticks": "",
            "zerolinecolor": "white"
           },
           "yaxis": {
            "backgroundcolor": "#E5ECF6",
            "gridcolor": "white",
            "gridwidth": 2,
            "linecolor": "white",
            "showbackground": true,
            "ticks": "",
            "zerolinecolor": "white"
           },
           "zaxis": {
            "backgroundcolor": "#E5ECF6",
            "gridcolor": "white",
            "gridwidth": 2,
            "linecolor": "white",
            "showbackground": true,
            "ticks": "",
            "zerolinecolor": "white"
           }
          },
          "shapedefaults": {
           "line": {
            "color": "#2a3f5f"
           }
          },
          "ternary": {
           "aaxis": {
            "gridcolor": "white",
            "linecolor": "white",
            "ticks": ""
           },
           "baxis": {
            "gridcolor": "white",
            "linecolor": "white",
            "ticks": ""
           },
           "bgcolor": "#E5ECF6",
           "caxis": {
            "gridcolor": "white",
            "linecolor": "white",
            "ticks": ""
           }
          },
          "title": {
           "x": 0.05
          },
          "xaxis": {
           "automargin": true,
           "gridcolor": "white",
           "linecolor": "white",
           "ticks": "",
           "title": {
            "standoff": 15
           },
           "zerolinecolor": "white",
           "zerolinewidth": 2
          },
          "yaxis": {
           "automargin": true,
           "gridcolor": "white",
           "linecolor": "white",
           "ticks": "",
           "title": {
            "standoff": 15
           },
           "zerolinecolor": "white",
           "zerolinewidth": 2
          }
         }
        },
        "title": {
         "text": "Global Distribution of Population in 2024 Olympics Participating Nations"
        }
       }
      }
     },
     "metadata": {},
     "output_type": "display_data"
    }
   ],
   "source": [
    "fig_pop = px.choropleth(gdp_pc_medals,\n",
    "                        locations=\"country\",\n",
    "                        locationmode=\"country names\",  # Match the country names format in Plotly\n",
    "                        color=\"population\",\n",
    "                        hover_name=\"country\",\n",
    "                        color_continuous_scale='RdYlGn',\n",
    "                        title=\"Global Distribution of Population in 2024 Olympics Participating Nations\",\n",
    "                        labels={\"population\": \"Population\"})\n",
    "\n",
    "fig_pop.update_geos(showcoastlines=True, coastlinecolor=\"Black\")\n",
    "fig_pop.update_layout(\n",
    "    plot_bgcolor='black',  # Change background to black\n",
    "    paper_bgcolor='black',  # Change the outer background to black\n",
    "    font_color='white',  # Change font color to white for better visibility\n",
    "    geo=dict(showland=True, landcolor='gray', showcoastlines=True, coastlinecolor=\"white\", projection_type=\"natural earth\")\n",
    ")\n",
    "fig_pop.show()"
   ]
  },
  {
   "cell_type": "markdown",
   "metadata": {},
   "source": [
    "**Description for above chart:**"
   ]
  },
  {
   "cell_type": "code",
   "execution_count": 79,
   "metadata": {},
   "outputs": [
    {
     "data": {
      "application/vnd.plotly.v1+json": {
       "config": {
        "plotlyServerURL": "https://plot.ly"
       },
       "data": [
        {
         "coloraxis": "coloraxis",
         "geo": "geo",
         "hovertemplate": "<b>%{hovertext}</b><br><br>country=%{location}<br>Total Medals=%{z}<extra></extra>",
         "hovertext": [
          "United States",
          "China",
          "Japan",
          "Australia",
          "France",
          "Netherlands",
          "Great Britain",
          "South Korea",
          "Italy",
          "Germany",
          "New Zealand",
          "Canada",
          "Uzbekistan",
          "Hungary",
          "Spain",
          "Sweden",
          "Kenya",
          "Norway",
          "Ireland",
          "Brazil",
          "Iran",
          "Ukraine",
          "Romania",
          "Georgia",
          "Belgium",
          "Bulgaria",
          "Serbia",
          "Czech Republic",
          "Denmark",
          "Azerbaijan",
          "Croatia",
          "Cuba",
          "Bahrain",
          "Slovenia",
          "Austria",
          "Hong Kong",
          "Philippines",
          "Algeria",
          "Indonesia",
          "Israel",
          "Poland",
          "Kazakhstan",
          "Jamaica",
          "South Africa",
          "Thailand",
          "Ethiopia",
          "Switzerland",
          "Ecuador",
          "Portugal",
          "Greece",
          "Argentina",
          "Egypt",
          "Tunisia",
          "Botswana",
          "Chile",
          "Uganda",
          "Dominican Republic",
          "Guatemala",
          "Morocco",
          "Turkey",
          "Mexico",
          "Armenia",
          "Colombia",
          "North Korea",
          "Kyrgyzstan",
          "Lithuania",
          "India",
          "Moldova",
          "Kosovo",
          "Cyprus",
          "Fiji",
          "Jordan",
          "Mongolia",
          "Panama",
          "Tajikistan",
          "Grenada",
          "Malaysia",
          "Puerto Rico",
          "Ivory Coast",
          "Qatar",
          "Singapore",
          "Slovakia"
         ],
         "locationmode": "country names",
         "locations": [
          "United States",
          "China",
          "Japan",
          "Australia",
          "France",
          "Netherlands",
          "Great Britain",
          "South Korea",
          "Italy",
          "Germany",
          "New Zealand",
          "Canada",
          "Uzbekistan",
          "Hungary",
          "Spain",
          "Sweden",
          "Kenya",
          "Norway",
          "Ireland",
          "Brazil",
          "Iran",
          "Ukraine",
          "Romania",
          "Georgia",
          "Belgium",
          "Bulgaria",
          "Serbia",
          "Czech Republic",
          "Denmark",
          "Azerbaijan",
          "Croatia",
          "Cuba",
          "Bahrain",
          "Slovenia",
          "Austria",
          "Hong Kong",
          "Philippines",
          "Algeria",
          "Indonesia",
          "Israel",
          "Poland",
          "Kazakhstan",
          "Jamaica",
          "South Africa",
          "Thailand",
          "Ethiopia",
          "Switzerland",
          "Ecuador",
          "Portugal",
          "Greece",
          "Argentina",
          "Egypt",
          "Tunisia",
          "Botswana",
          "Chile",
          "Uganda",
          "Dominican Republic",
          "Guatemala",
          "Morocco",
          "Turkey",
          "Mexico",
          "Armenia",
          "Colombia",
          "North Korea",
          "Kyrgyzstan",
          "Lithuania",
          "India",
          "Moldova",
          "Kosovo",
          "Cyprus",
          "Fiji",
          "Jordan",
          "Mongolia",
          "Panama",
          "Tajikistan",
          "Grenada",
          "Malaysia",
          "Puerto Rico",
          "Ivory Coast",
          "Qatar",
          "Singapore",
          "Slovakia"
         ],
         "name": "",
         "type": "choropleth",
         "z": [
          126,
          91,
          45,
          53,
          64,
          34,
          65,
          32,
          40,
          33,
          20,
          27,
          13,
          19,
          18,
          11,
          11,
          8,
          7,
          20,
          12,
          12,
          9,
          7,
          10,
          7,
          5,
          5,
          9,
          7,
          7,
          9,
          4,
          3,
          5,
          4,
          4,
          3,
          3,
          7,
          10,
          7,
          6,
          6,
          6,
          4,
          8,
          5,
          4,
          8,
          3,
          3,
          3,
          2,
          2,
          2,
          3,
          2,
          2,
          8,
          5,
          4,
          4,
          6,
          6,
          4,
          6,
          4,
          2,
          1,
          1,
          1,
          1,
          1,
          3,
          2,
          2,
          2,
          1,
          1,
          1,
          1
         ]
        }
       ],
       "layout": {
        "coloraxis": {
         "colorbar": {
          "title": {
           "text": "Total Medals"
          }
         },
         "colorscale": [
          [
           0,
           "rgb(165,0,38)"
          ],
          [
           0.1,
           "rgb(215,48,39)"
          ],
          [
           0.2,
           "rgb(244,109,67)"
          ],
          [
           0.3,
           "rgb(253,174,97)"
          ],
          [
           0.4,
           "rgb(254,224,139)"
          ],
          [
           0.5,
           "rgb(255,255,191)"
          ],
          [
           0.6,
           "rgb(217,239,139)"
          ],
          [
           0.7,
           "rgb(166,217,106)"
          ],
          [
           0.8,
           "rgb(102,189,99)"
          ],
          [
           0.9,
           "rgb(26,152,80)"
          ],
          [
           1,
           "rgb(0,104,55)"
          ]
         ]
        },
        "font": {
         "color": "white"
        },
        "geo": {
         "center": {},
         "coastlinecolor": "white",
         "domain": {
          "x": [
           0,
           1
          ],
          "y": [
           0,
           1
          ]
         },
         "landcolor": "gray",
         "projection": {
          "type": "natural earth"
         },
         "showcoastlines": true,
         "showland": true
        },
        "legend": {
         "tracegroupgap": 0
        },
        "paper_bgcolor": "black",
        "plot_bgcolor": "black",
        "template": {
         "data": {
          "bar": [
           {
            "error_x": {
             "color": "#2a3f5f"
            },
            "error_y": {
             "color": "#2a3f5f"
            },
            "marker": {
             "line": {
              "color": "#E5ECF6",
              "width": 0.5
             },
             "pattern": {
              "fillmode": "overlay",
              "size": 10,
              "solidity": 0.2
             }
            },
            "type": "bar"
           }
          ],
          "barpolar": [
           {
            "marker": {
             "line": {
              "color": "#E5ECF6",
              "width": 0.5
             },
             "pattern": {
              "fillmode": "overlay",
              "size": 10,
              "solidity": 0.2
             }
            },
            "type": "barpolar"
           }
          ],
          "carpet": [
           {
            "aaxis": {
             "endlinecolor": "#2a3f5f",
             "gridcolor": "white",
             "linecolor": "white",
             "minorgridcolor": "white",
             "startlinecolor": "#2a3f5f"
            },
            "baxis": {
             "endlinecolor": "#2a3f5f",
             "gridcolor": "white",
             "linecolor": "white",
             "minorgridcolor": "white",
             "startlinecolor": "#2a3f5f"
            },
            "type": "carpet"
           }
          ],
          "choropleth": [
           {
            "colorbar": {
             "outlinewidth": 0,
             "ticks": ""
            },
            "type": "choropleth"
           }
          ],
          "contour": [
           {
            "colorbar": {
             "outlinewidth": 0,
             "ticks": ""
            },
            "colorscale": [
             [
              0,
              "#0d0887"
             ],
             [
              0.1111111111111111,
              "#46039f"
             ],
             [
              0.2222222222222222,
              "#7201a8"
             ],
             [
              0.3333333333333333,
              "#9c179e"
             ],
             [
              0.4444444444444444,
              "#bd3786"
             ],
             [
              0.5555555555555556,
              "#d8576b"
             ],
             [
              0.6666666666666666,
              "#ed7953"
             ],
             [
              0.7777777777777778,
              "#fb9f3a"
             ],
             [
              0.8888888888888888,
              "#fdca26"
             ],
             [
              1,
              "#f0f921"
             ]
            ],
            "type": "contour"
           }
          ],
          "contourcarpet": [
           {
            "colorbar": {
             "outlinewidth": 0,
             "ticks": ""
            },
            "type": "contourcarpet"
           }
          ],
          "heatmap": [
           {
            "colorbar": {
             "outlinewidth": 0,
             "ticks": ""
            },
            "colorscale": [
             [
              0,
              "#0d0887"
             ],
             [
              0.1111111111111111,
              "#46039f"
             ],
             [
              0.2222222222222222,
              "#7201a8"
             ],
             [
              0.3333333333333333,
              "#9c179e"
             ],
             [
              0.4444444444444444,
              "#bd3786"
             ],
             [
              0.5555555555555556,
              "#d8576b"
             ],
             [
              0.6666666666666666,
              "#ed7953"
             ],
             [
              0.7777777777777778,
              "#fb9f3a"
             ],
             [
              0.8888888888888888,
              "#fdca26"
             ],
             [
              1,
              "#f0f921"
             ]
            ],
            "type": "heatmap"
           }
          ],
          "heatmapgl": [
           {
            "colorbar": {
             "outlinewidth": 0,
             "ticks": ""
            },
            "colorscale": [
             [
              0,
              "#0d0887"
             ],
             [
              0.1111111111111111,
              "#46039f"
             ],
             [
              0.2222222222222222,
              "#7201a8"
             ],
             [
              0.3333333333333333,
              "#9c179e"
             ],
             [
              0.4444444444444444,
              "#bd3786"
             ],
             [
              0.5555555555555556,
              "#d8576b"
             ],
             [
              0.6666666666666666,
              "#ed7953"
             ],
             [
              0.7777777777777778,
              "#fb9f3a"
             ],
             [
              0.8888888888888888,
              "#fdca26"
             ],
             [
              1,
              "#f0f921"
             ]
            ],
            "type": "heatmapgl"
           }
          ],
          "histogram": [
           {
            "marker": {
             "pattern": {
              "fillmode": "overlay",
              "size": 10,
              "solidity": 0.2
             }
            },
            "type": "histogram"
           }
          ],
          "histogram2d": [
           {
            "colorbar": {
             "outlinewidth": 0,
             "ticks": ""
            },
            "colorscale": [
             [
              0,
              "#0d0887"
             ],
             [
              0.1111111111111111,
              "#46039f"
             ],
             [
              0.2222222222222222,
              "#7201a8"
             ],
             [
              0.3333333333333333,
              "#9c179e"
             ],
             [
              0.4444444444444444,
              "#bd3786"
             ],
             [
              0.5555555555555556,
              "#d8576b"
             ],
             [
              0.6666666666666666,
              "#ed7953"
             ],
             [
              0.7777777777777778,
              "#fb9f3a"
             ],
             [
              0.8888888888888888,
              "#fdca26"
             ],
             [
              1,
              "#f0f921"
             ]
            ],
            "type": "histogram2d"
           }
          ],
          "histogram2dcontour": [
           {
            "colorbar": {
             "outlinewidth": 0,
             "ticks": ""
            },
            "colorscale": [
             [
              0,
              "#0d0887"
             ],
             [
              0.1111111111111111,
              "#46039f"
             ],
             [
              0.2222222222222222,
              "#7201a8"
             ],
             [
              0.3333333333333333,
              "#9c179e"
             ],
             [
              0.4444444444444444,
              "#bd3786"
             ],
             [
              0.5555555555555556,
              "#d8576b"
             ],
             [
              0.6666666666666666,
              "#ed7953"
             ],
             [
              0.7777777777777778,
              "#fb9f3a"
             ],
             [
              0.8888888888888888,
              "#fdca26"
             ],
             [
              1,
              "#f0f921"
             ]
            ],
            "type": "histogram2dcontour"
           }
          ],
          "mesh3d": [
           {
            "colorbar": {
             "outlinewidth": 0,
             "ticks": ""
            },
            "type": "mesh3d"
           }
          ],
          "parcoords": [
           {
            "line": {
             "colorbar": {
              "outlinewidth": 0,
              "ticks": ""
             }
            },
            "type": "parcoords"
           }
          ],
          "pie": [
           {
            "automargin": true,
            "type": "pie"
           }
          ],
          "scatter": [
           {
            "fillpattern": {
             "fillmode": "overlay",
             "size": 10,
             "solidity": 0.2
            },
            "type": "scatter"
           }
          ],
          "scatter3d": [
           {
            "line": {
             "colorbar": {
              "outlinewidth": 0,
              "ticks": ""
             }
            },
            "marker": {
             "colorbar": {
              "outlinewidth": 0,
              "ticks": ""
             }
            },
            "type": "scatter3d"
           }
          ],
          "scattercarpet": [
           {
            "marker": {
             "colorbar": {
              "outlinewidth": 0,
              "ticks": ""
             }
            },
            "type": "scattercarpet"
           }
          ],
          "scattergeo": [
           {
            "marker": {
             "colorbar": {
              "outlinewidth": 0,
              "ticks": ""
             }
            },
            "type": "scattergeo"
           }
          ],
          "scattergl": [
           {
            "marker": {
             "colorbar": {
              "outlinewidth": 0,
              "ticks": ""
             }
            },
            "type": "scattergl"
           }
          ],
          "scattermapbox": [
           {
            "marker": {
             "colorbar": {
              "outlinewidth": 0,
              "ticks": ""
             }
            },
            "type": "scattermapbox"
           }
          ],
          "scatterpolar": [
           {
            "marker": {
             "colorbar": {
              "outlinewidth": 0,
              "ticks": ""
             }
            },
            "type": "scatterpolar"
           }
          ],
          "scatterpolargl": [
           {
            "marker": {
             "colorbar": {
              "outlinewidth": 0,
              "ticks": ""
             }
            },
            "type": "scatterpolargl"
           }
          ],
          "scatterternary": [
           {
            "marker": {
             "colorbar": {
              "outlinewidth": 0,
              "ticks": ""
             }
            },
            "type": "scatterternary"
           }
          ],
          "surface": [
           {
            "colorbar": {
             "outlinewidth": 0,
             "ticks": ""
            },
            "colorscale": [
             [
              0,
              "#0d0887"
             ],
             [
              0.1111111111111111,
              "#46039f"
             ],
             [
              0.2222222222222222,
              "#7201a8"
             ],
             [
              0.3333333333333333,
              "#9c179e"
             ],
             [
              0.4444444444444444,
              "#bd3786"
             ],
             [
              0.5555555555555556,
              "#d8576b"
             ],
             [
              0.6666666666666666,
              "#ed7953"
             ],
             [
              0.7777777777777778,
              "#fb9f3a"
             ],
             [
              0.8888888888888888,
              "#fdca26"
             ],
             [
              1,
              "#f0f921"
             ]
            ],
            "type": "surface"
           }
          ],
          "table": [
           {
            "cells": {
             "fill": {
              "color": "#EBF0F8"
             },
             "line": {
              "color": "white"
             }
            },
            "header": {
             "fill": {
              "color": "#C8D4E3"
             },
             "line": {
              "color": "white"
             }
            },
            "type": "table"
           }
          ]
         },
         "layout": {
          "annotationdefaults": {
           "arrowcolor": "#2a3f5f",
           "arrowhead": 0,
           "arrowwidth": 1
          },
          "autotypenumbers": "strict",
          "coloraxis": {
           "colorbar": {
            "outlinewidth": 0,
            "ticks": ""
           }
          },
          "colorscale": {
           "diverging": [
            [
             0,
             "#8e0152"
            ],
            [
             0.1,
             "#c51b7d"
            ],
            [
             0.2,
             "#de77ae"
            ],
            [
             0.3,
             "#f1b6da"
            ],
            [
             0.4,
             "#fde0ef"
            ],
            [
             0.5,
             "#f7f7f7"
            ],
            [
             0.6,
             "#e6f5d0"
            ],
            [
             0.7,
             "#b8e186"
            ],
            [
             0.8,
             "#7fbc41"
            ],
            [
             0.9,
             "#4d9221"
            ],
            [
             1,
             "#276419"
            ]
           ],
           "sequential": [
            [
             0,
             "#0d0887"
            ],
            [
             0.1111111111111111,
             "#46039f"
            ],
            [
             0.2222222222222222,
             "#7201a8"
            ],
            [
             0.3333333333333333,
             "#9c179e"
            ],
            [
             0.4444444444444444,
             "#bd3786"
            ],
            [
             0.5555555555555556,
             "#d8576b"
            ],
            [
             0.6666666666666666,
             "#ed7953"
            ],
            [
             0.7777777777777778,
             "#fb9f3a"
            ],
            [
             0.8888888888888888,
             "#fdca26"
            ],
            [
             1,
             "#f0f921"
            ]
           ],
           "sequentialminus": [
            [
             0,
             "#0d0887"
            ],
            [
             0.1111111111111111,
             "#46039f"
            ],
            [
             0.2222222222222222,
             "#7201a8"
            ],
            [
             0.3333333333333333,
             "#9c179e"
            ],
            [
             0.4444444444444444,
             "#bd3786"
            ],
            [
             0.5555555555555556,
             "#d8576b"
            ],
            [
             0.6666666666666666,
             "#ed7953"
            ],
            [
             0.7777777777777778,
             "#fb9f3a"
            ],
            [
             0.8888888888888888,
             "#fdca26"
            ],
            [
             1,
             "#f0f921"
            ]
           ]
          },
          "colorway": [
           "#636efa",
           "#EF553B",
           "#00cc96",
           "#ab63fa",
           "#FFA15A",
           "#19d3f3",
           "#FF6692",
           "#B6E880",
           "#FF97FF",
           "#FECB52"
          ],
          "font": {
           "color": "#2a3f5f"
          },
          "geo": {
           "bgcolor": "white",
           "lakecolor": "white",
           "landcolor": "#E5ECF6",
           "showlakes": true,
           "showland": true,
           "subunitcolor": "white"
          },
          "hoverlabel": {
           "align": "left"
          },
          "hovermode": "closest",
          "mapbox": {
           "style": "light"
          },
          "paper_bgcolor": "white",
          "plot_bgcolor": "#E5ECF6",
          "polar": {
           "angularaxis": {
            "gridcolor": "white",
            "linecolor": "white",
            "ticks": ""
           },
           "bgcolor": "#E5ECF6",
           "radialaxis": {
            "gridcolor": "white",
            "linecolor": "white",
            "ticks": ""
           }
          },
          "scene": {
           "xaxis": {
            "backgroundcolor": "#E5ECF6",
            "gridcolor": "white",
            "gridwidth": 2,
            "linecolor": "white",
            "showbackground": true,
            "ticks": "",
            "zerolinecolor": "white"
           },
           "yaxis": {
            "backgroundcolor": "#E5ECF6",
            "gridcolor": "white",
            "gridwidth": 2,
            "linecolor": "white",
            "showbackground": true,
            "ticks": "",
            "zerolinecolor": "white"
           },
           "zaxis": {
            "backgroundcolor": "#E5ECF6",
            "gridcolor": "white",
            "gridwidth": 2,
            "linecolor": "white",
            "showbackground": true,
            "ticks": "",
            "zerolinecolor": "white"
           }
          },
          "shapedefaults": {
           "line": {
            "color": "#2a3f5f"
           }
          },
          "ternary": {
           "aaxis": {
            "gridcolor": "white",
            "linecolor": "white",
            "ticks": ""
           },
           "baxis": {
            "gridcolor": "white",
            "linecolor": "white",
            "ticks": ""
           },
           "bgcolor": "#E5ECF6",
           "caxis": {
            "gridcolor": "white",
            "linecolor": "white",
            "ticks": ""
           }
          },
          "title": {
           "x": 0.05
          },
          "xaxis": {
           "automargin": true,
           "gridcolor": "white",
           "linecolor": "white",
           "ticks": "",
           "title": {
            "standoff": 15
           },
           "zerolinecolor": "white",
           "zerolinewidth": 2
          },
          "yaxis": {
           "automargin": true,
           "gridcolor": "white",
           "linecolor": "white",
           "ticks": "",
           "title": {
            "standoff": 15
           },
           "zerolinecolor": "white",
           "zerolinewidth": 2
          }
         }
        },
        "title": {
         "text": "Total Medal Count (2024 Olympics)"
        }
       }
      }
     },
     "metadata": {},
     "output_type": "display_data"
    }
   ],
   "source": [
    "fig_medals = px.choropleth(gdp_pc_medals,\n",
    "                           locations=\"country\",\n",
    "                           locationmode=\"country names\",\n",
    "                           color=\"total\",\n",
    "                           hover_name=\"country\",\n",
    "                           color_continuous_scale=\"RdYlGn\",\n",
    "                           title=\"Total Medal Count (2024 Olympics)\",\n",
    "                           labels={\"total\": \"Total Medals\"})\n",
    "\n",
    "fig_medals.update_geos(showcoastlines=True, coastlinecolor=\"Black\")\n",
    "fig_medals.update_layout(\n",
    "    plot_bgcolor='black',  # Change background to black\n",
    "    paper_bgcolor='black',  # Change the outer background to black\n",
    "    font_color='white',  # Change font color to white for better visibility\n",
    "    geo=dict(showland=True, landcolor='gray', showcoastlines=True, coastlinecolor=\"white\", projection_type=\"natural earth\")\n",
    ")\n",
    "fig_medals.show()"
   ]
  },
  {
   "cell_type": "markdown",
   "metadata": {},
   "source": [
    "**Description for above chart:**"
   ]
  },
  {
   "cell_type": "code",
   "execution_count": 80,
   "metadata": {},
   "outputs": [
    {
     "data": {
      "image/png": "[encoded data removed]",
      "text/plain": [
       "<Figure size 800x600 with 2 Axes>"
      ]
     },
     "metadata": {},
     "output_type": "display_data"
    }
   ],
   "source": [
    "corr_df = gdp_pc_medals.set_index('country')\n",
    "correlation_matrix = corr_df.corr()\n",
    "\n",
    "plt.figure(figsize=(8, 6))\n",
    "sns.heatmap(correlation_matrix, annot=True, cmap='coolwarm', fmt='.2f', linewidths=0.5)\n",
    "plt.title('Correlation Matrix')\n",
    "plt.show()\n"
   ]
  },
  {
   "cell_type": "markdown",
   "metadata": {},
   "source": [
    "**Description for chart above:**\n",
    "- We observe a **0.86** correlative strength between `gdp_total`  and `gold`/`total` medal counts\n",
    "- This matrix compares features in the `Olympics24` dataset against each other to identify correlative strengths \n",
    "- Used to observe relationships between GDP variant metrics and medal counts \n"
   ]
  },
  {
   "cell_type": "markdown",
   "metadata": {},
   "source": [
    "**Description for above chart:**"
   ]
  },
  {
   "cell_type": "code",
   "execution_count": 81,
   "metadata": {},
   "outputs": [],
   "source": [
    "\n",
    "# gdp_pc_medals = olympics24[['country', 'gdp_per_capita', 'gdp_total', 'total', 'population']]\n",
    "\n",
    "# # Scatter plot for GDP Total vs Total Medals\n",
    "# plt.figure(figsize=(8, 6))\n",
    "# sns.scatterplot(data=gdp_pc_medals, x='gdp_total', y='total', hue='country', s=100)\n",
    "# plt.title('GDP Total vs Total Medals')\n",
    "# plt.xlabel('GDP Total (USD)')\n",
    "# plt.ylabel('Total Medals')\n",
    "# plt.show()\n",
    "\n",
    "# # Scatter plot for GDP Per Capita vs Total Medals\n",
    "# plt.figure(figsize=(8, 6))\n",
    "# sns.scatterplot(data=gdp_pc_medals, x='gdp_per_capita', y='total', hue='country', s=100)\n",
    "# plt.title('GDP Per Capita vs Total Medals')\n",
    "# plt.xlabel('GDP Per Capita (USD)')\n",
    "# plt.ylabel('Total Medals')\n",
    "# plt.show()\n",
    "\n",
    "# Linear Regression: GDP and Population vs Total Medals\n",
    "# X = gdp_pc_medals[['gdp_total', 'population']]\n",
    "# y = gdp_pc_medals['total']\n",
    "\n",
    "# # Add constant for statsmodels\n",
    "# X_const = sm.add_constant(X)\n",
    "# model = sm.OLS(y, X_const).fit()\n",
    "\n",
    "# # Plot the regression results\n",
    "# plt.figure(figsize=(8, 6))\n",
    "# sns.scatterplot(data=gdp_pc_medals, x='gdp_total', y='total', s=100, label='GDP vs Medals')\n",
    "# sns.scatterplot(data=gdp_pc_medals, x='population', y='total', s=100, label='Population vs Medals')\n",
    "# plt.title('Linear Regression: GDP and Population vs Total Medals')\n",
    "# plt.xlabel('Explanatory Variables (GDP/Population)')\n",
    "# plt.ylabel('Total Medals')\n",
    "# plt.legend()\n",
    "# plt.show()"
   ]
  },
  {
   "cell_type": "code",
   "execution_count": 82,
   "metadata": {},
   "outputs": [
    {
     "name": "stderr",
     "output_type": "stream",
     "text": [
      "/var/folders/t5/1y7x3kc535bctp93r0gt23rm0000gn/T/ipykernel_55898/366769916.py:1: SettingWithCopyWarning:\n",
      "\n",
      "\n",
      "A value is trying to be set on a copy of a slice from a DataFrame.\n",
      "Try using .loc[row_indexer,col_indexer] = value instead\n",
      "\n",
      "See the caveats in the documentation: https://pandas.pydata.org/pandas-docs/stable/user_guide/indexing.html#returning-a-view-versus-a-copy\n",
      "\n"
     ]
    },
    {
     "data": {
      "text/html": [
       "<div>\n",
       "<style scoped>\n",
       "    .dataframe tbody tr th:only-of-type {\n",
       "        vertical-align: middle;\n",
       "    }\n",
       "\n",
       "    .dataframe tbody tr th {\n",
       "        vertical-align: top;\n",
       "    }\n",
       "\n",
       "    .dataframe thead th {\n",
       "        text-align: right;\n",
       "    }\n",
       "</style>\n",
       "<table border=\"1\" class=\"dataframe\">\n",
       "  <thead>\n",
       "    <tr style=\"text-align: right;\">\n",
       "      <th></th>\n",
       "      <th>region</th>\n",
       "      <th>total</th>\n",
       "      <th>gdp_per_capita</th>\n",
       "      <th>gdp_total</th>\n",
       "      <th>population</th>\n",
       "    </tr>\n",
       "  </thead>\n",
       "  <tbody>\n",
       "    <tr>\n",
       "      <th>0</th>\n",
       "      <td>Africa</td>\n",
       "      <td>3.700000</td>\n",
       "      <td>3682.994000</td>\n",
       "      <td>161.975000</td>\n",
       "      <td>53.080000</td>\n",
       "    </tr>\n",
       "    <tr>\n",
       "      <th>1</th>\n",
       "      <td>Asia</td>\n",
       "      <td>11.416667</td>\n",
       "      <td>19892.214167</td>\n",
       "      <td>1406.262500</td>\n",
       "      <td>160.233333</td>\n",
       "    </tr>\n",
       "    <tr>\n",
       "      <th>2</th>\n",
       "      <td>Caribbean</td>\n",
       "      <td>2.000000</td>\n",
       "      <td>23621.355000</td>\n",
       "      <td>59.370000</td>\n",
       "      <td>1.650000</td>\n",
       "    </tr>\n",
       "    <tr>\n",
       "      <th>3</th>\n",
       "      <td>Europe</td>\n",
       "      <td>14.000000</td>\n",
       "      <td>38062.646333</td>\n",
       "      <td>763.368000</td>\n",
       "      <td>19.130000</td>\n",
       "    </tr>\n",
       "    <tr>\n",
       "      <th>4</th>\n",
       "      <td>North America</td>\n",
       "      <td>25.428571</td>\n",
       "      <td>32696.654286</td>\n",
       "      <td>4594.938571</td>\n",
       "      <td>78.057143</td>\n",
       "    </tr>\n",
       "    <tr>\n",
       "      <th>5</th>\n",
       "      <td>Oceania</td>\n",
       "      <td>24.666667</td>\n",
       "      <td>39702.586667</td>\n",
       "      <td>659.650000</td>\n",
       "      <td>10.900000</td>\n",
       "    </tr>\n",
       "    <tr>\n",
       "      <th>6</th>\n",
       "      <td>South America</td>\n",
       "      <td>5.833333</td>\n",
       "      <td>12173.703333</td>\n",
       "      <td>619.368333</td>\n",
       "      <td>59.583333</td>\n",
       "    </tr>\n",
       "  </tbody>\n",
       "</table>\n",
       "</div>"
      ],
      "text/plain": [
       "          region      total  gdp_per_capita    gdp_total  population\n",
       "0         Africa   3.700000     3682.994000   161.975000   53.080000\n",
       "1           Asia  11.416667    19892.214167  1406.262500  160.233333\n",
       "2      Caribbean   2.000000    23621.355000    59.370000    1.650000\n",
       "3         Europe  14.000000    38062.646333   763.368000   19.130000\n",
       "4  North America  25.428571    32696.654286  4594.938571   78.057143\n",
       "5        Oceania  24.666667    39702.586667   659.650000   10.900000\n",
       "6  South America   5.833333    12173.703333   619.368333   59.583333"
      ]
     },
     "execution_count": 82,
     "metadata": {},
     "output_type": "execute_result"
    }
   ],
   "source": [
    "gdp_pc_medals['region'] = olympics24['region']\n",
    "gdp_pc_medals_region = gdp_pc_medals\n",
    "gdp_pc_medals_region = gdp_pc_medals[['region', 'total', 'gdp_per_capita', 'gdp_total', 'population']]\n",
    "gdp_scatterplot_region = gdp_pc_medals_region.groupby('region', as_index=False).mean()\n",
    "gdp_scatterplot_region"
   ]
  },
  {
   "cell_type": "code",
   "execution_count": 83,
   "metadata": {},
   "outputs": [
    {
     "data": {
      "image/png": "[encoded data removed]",
      "text/plain": [
       "<Figure size 800x600 with 1 Axes>"
      ]
     },
     "metadata": {},
     "output_type": "display_data"
    }
   ],
   "source": [
    "plt.figure(figsize=(8, 6))\n",
    "sns.scatterplot(data=gdp_scatterplot_region, x='gdp_total', y='total', hue='region', s=200, palette='coolwarm')\n",
    "plt.title('Total GDP vs Total Medals (Grouped by Region)')\n",
    "plt.xlabel('Average Total GDP (USD)')\n",
    "plt.ylabel('Average Total Medals')\n",
    "plt.legend(title='Region')\n",
    "plt.show()"
   ]
  },
  {
   "cell_type": "markdown",
   "metadata": {},
   "source": [
    "**Description for chart above:**\n",
    "- Compares `regions` average `gdp_total` and their average `total` medal counts \n",
    "- the thought process was to observe potential linear trends (which there exists)"
   ]
  },
  {
   "cell_type": "markdown",
   "metadata": {},
   "source": [
    "**Description for above chart:**"
   ]
  },
  {
   "cell_type": "code",
   "execution_count": 84,
   "metadata": {},
   "outputs": [
    {
     "data": {
      "image/png": "[encoded data removed]",
      "text/plain": [
       "<Figure size 800x600 with 1 Axes>"
      ]
     },
     "metadata": {},
     "output_type": "display_data"
    }
   ],
   "source": [
    "plt.figure(figsize=(8, 6))\n",
    "sns.scatterplot(data=gdp_scatterplot_region, x='gdp_per_capita', y='total', hue='region', s=200, palette='coolwarm')\n",
    "plt.title('GDP Per Capita vs Total Medals (Grouped by Region)')\n",
    "plt.xlabel('Average GDP Per Capita (USD)')\n",
    "plt.ylabel('Average Total Medals')\n",
    "plt.legend(title='Region')\n",
    "plt.show()"
   ]
  },
  {
   "cell_type": "markdown",
   "metadata": {},
   "source": [
    "**Description for chart above:**\n",
    "- Compares `regions` average `gdp_per_capita` and their average `total` medal counts \n",
    "- the thought process was to observe potential linear trends (which there exists)"
   ]
  },
  {
   "cell_type": "markdown",
   "metadata": {},
   "source": [
    "**Description for above chart:**\n",
    "\n"
   ]
  },
  {
   "cell_type": "code",
   "execution_count": 104,
   "metadata": {},
   "outputs": [
    {
     "data": {
      "application/vnd.plotly.v1+json": {
       "config": {
        "plotlyServerURL": "https://plot.ly"
       },
       "data": [
        {
         "branchvalues": "total",
         "customdata": [
          [
           2,
           0,
           1,
           3
          ],
          [
           1,
           1,
           1,
           3
          ],
          [
           0,
           3,
           1,
           4
          ],
          [
           18,
           19,
           16,
           53
          ],
          [
           2,
           0,
           3,
           5
          ],
          [
           2,
           2,
           3,
           7
          ],
          [
           2,
           1,
           1,
           4
          ],
          [
           3,
           1,
           6,
           10
          ],
          [
           1,
           1,
           0,
           2
          ],
          [
           3,
           7,
           10,
           20
          ],
          [
           3,
           1,
           3,
           7
          ],
          [
           9,
           7,
           11,
           27
          ],
          [
           1,
           1,
           0,
           2
          ],
          [
           40,
           27,
           24,
           91
          ],
          [
           0,
           3,
           1,
           4
          ],
          [
           2,
           2,
           3,
           7
          ],
          [
           2,
           1,
           6,
           9
          ],
          [
           0,
           1,
           0,
           1
          ],
          [
           3,
           0,
           2,
           5
          ],
          [
           2,
           2,
           5,
           9
          ],
          [
           1,
           0,
           2,
           3
          ],
          [
           1,
           2,
           2,
           5
          ],
          [
           1,
           1,
           1,
           3
          ],
          [
           1,
           3,
           0,
           4
          ],
          [
           0,
           1,
           0,
           1
          ],
          [
           16,
           26,
           22,
           64
          ],
          [
           3,
           3,
           1,
           7
          ],
          [
           12,
           13,
           8,
           33
          ],
          [
           14,
           22,
           29,
           65
          ],
          [
           1,
           1,
           6,
           8
          ],
          [
           0,
           0,
           2,
           2
          ],
          [
           1,
           0,
           1,
           2
          ],
          [
           2,
           0,
           2,
           4
          ],
          [
           6,
           7,
           6,
           19
          ],
          [
           0,
           1,
           5,
           6
          ],
          [
           2,
           0,
           1,
           3
          ],
          [
           3,
           6,
           3,
           12
          ],
          [
           4,
           0,
           3,
           7
          ],
          [
           1,
           5,
           1,
           7
          ],
          [
           12,
           13,
           15,
           40
          ],
          [
           0,
           0,
           1,
           1
          ],
          [
           1,
           3,
           2,
           6
          ],
          [
           20,
           12,
           13,
           45
          ],
          [
           0,
           1,
           0,
           1
          ],
          [
           1,
           3,
           3,
           7
          ],
          [
           4,
           2,
           5,
           11
          ],
          [
           0,
           1,
           1,
           2
          ],
          [
           0,
           2,
           4,
           6
          ],
          [
           0,
           2,
           2,
           4
          ],
          [
           0,
           0,
           2,
           2
          ],
          [
           0,
           3,
           2,
           5
          ],
          [
           0,
           1,
           3,
           4
          ],
          [
           0,
           1,
           0,
           1
          ],
          [
           1,
           0,
           1,
           2
          ],
          [
           15,
           7,
           12,
           34
          ],
          [
           10,
           7,
           3,
           20
          ],
          [
           0,
           2,
           4,
           6
          ],
          [
           4,
           1,
           3,
           8
          ],
          [
           0,
           1,
           0,
           1
          ],
          [
           2,
           0,
           2,
           4
          ],
          [
           1,
           4,
           5,
           10
          ],
          [
           1,
           2,
           1,
           4
          ],
          [
           0,
           0,
           2,
           2
          ],
          [
           0,
           0,
           1,
           1
          ],
          [
           3,
           4,
           2,
           9
          ],
          [
           3,
           1,
           1,
           5
          ],
          [
           0,
           0,
           1,
           1
          ],
          [
           0,
           0,
           1,
           1
          ],
          [
           2,
           1,
           0,
           3
          ],
          [
           1,
           3,
           2,
           6
          ],
          [
           13,
           9,
           10,
           32
          ],
          [
           5,
           4,
           9,
           18
          ],
          [
           4,
           4,
           3,
           11
          ],
          [
           1,
           2,
           5,
           8
          ],
          [
           0,
           0,
           3,
           3
          ],
          [
           1,
           3,
           2,
           6
          ],
          [
           1,
           1,
           1,
           3
          ],
          [
           0,
           3,
           5,
           8
          ],
          [
           1,
           1,
           0,
           2
          ],
          [
           3,
           5,
           4,
           12
          ],
          [
           40,
           44,
           42,
           126
          ],
          [
           8,
           2,
           3,
           13
          ],
          [
           "(?)",
           "(?)",
           "(?)",
           5.756756756756757
          ],
          [
           "(?)",
           "(?)",
           "(?)",
           44.11678832116788
          ],
          [
           0,
           0,
           2,
           2
          ],
          [
           "(?)",
           "(?)",
           "(?)",
           33.34285714285714
          ],
          [
           "(?)",
           "(?)",
           "(?)",
           94.15730337078652
          ],
          [
           "(?)",
           "(?)",
           "(?)",
           43.37837837837838
          ],
          [
           "(?)",
           "(?)",
           "(?)",
           13
          ]
         ],
         "domain": {
          "x": [
           0,
           1
          ],
          "y": [
           0,
           1
          ]
         },
         "hovertemplate": "labels=%{label}<br>total_sum=%{value}<br>parent=%{parent}<br>id=%{id}<br>gold=%{customdata[0]}<br>silver=%{customdata[1]}<br>bronze=%{customdata[2]}<br>Total Medals=%{color}<extra></extra>",
         "ids": [
          "Africa/Algeria",
          "South America/Argentina",
          "Asia/Armenia",
          "Oceania/Australia",
          "Europe/Austria",
          "Asia/Azerbaijan",
          "Asia/Bahrain",
          "Europe/Belgium",
          "Africa/Botswana",
          "South America/Brazil",
          "Europe/Bulgaria",
          "North America/Canada",
          "South America/Chile",
          "Asia/China",
          "South America/Colombia",
          "Europe/Croatia",
          "North America/Cuba",
          "Europe/Cyprus",
          "Europe/Czech Republic",
          "Europe/Denmark",
          "North America/Dominican Republic",
          "South America/Ecuador",
          "Africa/Egypt",
          "Africa/Ethiopia",
          "Oceania/Fiji",
          "Europe/France",
          "Europe/Georgia",
          "Europe/Germany",
          "Europe/Great Britain",
          "Europe/Greece",
          "Caribbean/Grenada",
          "North America/Guatemala",
          "Asia/Hong Kong",
          "Europe/Hungary",
          "Asia/India",
          "Asia/Indonesia",
          "Asia/Iran",
          "Europe/Ireland",
          "Asia/Israel",
          "Europe/Italy",
          "Africa/Ivory Coast",
          "North America/Jamaica",
          "Asia/Japan",
          "Asia/Jordan",
          "Asia/Kazakhstan",
          "Africa/Kenya",
          "Europe/Kosovo",
          "Asia/Kyrgyzstan",
          "Europe/Lithuania",
          "Asia/Malaysia",
          "North America/Mexico",
          "Europe/Moldova",
          "Asia/Mongolia",
          "Africa/Morocco",
          "Europe/Netherlands",
          "Oceania/New Zealand",
          "Asia/North Korea",
          "Europe/Norway",
          "South America/Panama",
          "Asia/Philippines",
          "Europe/Poland",
          "Europe/Portugal",
          "Caribbean/Puerto Rico",
          "Asia/Qatar",
          "Europe/Romania",
          "Europe/Serbia",
          "Asia/Singapore",
          "Europe/Slovakia",
          "Europe/Slovenia",
          "Africa/South Africa",
          "Asia/South Korea",
          "Europe/Spain",
          "Europe/Sweden",
          "Europe/Switzerland",
          "Asia/Tajikistan",
          "Asia/Thailand",
          "Africa/Tunisia",
          "Asia/Turkey",
          "Africa/Uganda",
          "Europe/Ukraine",
          "North America/United States",
          "Asia/Uzbekistan",
          "Africa",
          "Asia",
          "Caribbean",
          "Europe",
          "North America",
          "Oceania",
          "South America"
         ],
         "labels": [
          "Algeria",
          "Argentina",
          "Armenia",
          "Australia",
          "Austria",
          "Azerbaijan",
          "Bahrain",
          "Belgium",
          "Botswana",
          "Brazil",
          "Bulgaria",
          "Canada",
          "Chile",
          "China",
          "Colombia",
          "Croatia",
          "Cuba",
          "Cyprus",
          "Czech Republic",
          "Denmark",
          "Dominican Republic",
          "Ecuador",
          "Egypt",
          "Ethiopia",
          "Fiji",
          "France",
          "Georgia",
          "Germany",
          "Great Britain",
          "Greece",
          "Grenada",
          "Guatemala",
          "Hong Kong",
          "Hungary",
          "India",
          "Indonesia",
          "Iran",
          "Ireland",
          "Israel",
          "Italy",
          "Ivory Coast",
          "Jamaica",
          "Japan",
          "Jordan",
          "Kazakhstan",
          "Kenya",
          "Kosovo",
          "Kyrgyzstan",
          "Lithuania",
          "Malaysia",
          "Mexico",
          "Moldova",
          "Mongolia",
          "Morocco",
          "Netherlands",
          "New Zealand",
          "North Korea",
          "Norway",
          "Panama",
          "Philippines",
          "Poland",
          "Portugal",
          "Puerto Rico",
          "Qatar",
          "Romania",
          "Serbia",
          "Singapore",
          "Slovakia",
          "Slovenia",
          "South Africa",
          "South Korea",
          "Spain",
          "Sweden",
          "Switzerland",
          "Tajikistan",
          "Thailand",
          "Tunisia",
          "Turkey",
          "Uganda",
          "Ukraine",
          "United States",
          "Uzbekistan",
          "Africa",
          "Asia",
          "Caribbean",
          "Europe",
          "North America",
          "Oceania",
          "South America"
         ],
         "marker": {
          "coloraxis": "coloraxis",
          "colors": [
           3,
           3,
           4,
           53,
           5,
           7,
           4,
           10,
           2,
           20,
           7,
           27,
           2,
           91,
           4,
           7,
           9,
           1,
           5,
           9,
           3,
           5,
           3,
           4,
           1,
           64,
           7,
           33,
           65,
           8,
           2,
           2,
           4,
           19,
           6,
           3,
           12,
           7,
           7,
           40,
           1,
           6,
           45,
           1,
           7,
           11,
           2,
           6,
           4,
           2,
           5,
           4,
           1,
           2,
           34,
           20,
           6,
           8,
           1,
           4,
           10,
           4,
           2,
           1,
           9,
           5,
           1,
           1,
           3,
           6,
           32,
           18,
           11,
           8,
           3,
           6,
           3,
           8,
           2,
           12,
           126,
           13,
           5.756756756756757,
           44.11678832116788,
           2,
           33.34285714285714,
           94.15730337078652,
           43.37837837837838,
           13
          ]
         },
         "name": "",
         "parents": [
          "Africa",
          "South America",
          "Asia",
          "Oceania",
          "Europe",
          "Asia",
          "Asia",
          "Europe",
          "Africa",
          "South America",
          "Europe",
          "North America",
          "South America",
          "Asia",
          "South America",
          "Europe",
          "North America",
          "Europe",
          "Europe",
          "Europe",
          "North America",
          "South America",
          "Africa",
          "Africa",
          "Oceania",
          "Europe",
          "Europe",
          "Europe",
          "Europe",
          "Europe",
          "Caribbean",
          "North America",
          "Asia",
          "Europe",
          "Asia",
          "Asia",
          "Asia",
          "Europe",
          "Asia",
          "Europe",
          "Africa",
          "North America",
          "Asia",
          "Asia",
          "Asia",
          "Africa",
          "Europe",
          "Asia",
          "Europe",
          "Asia",
          "North America",
          "Europe",
          "Asia",
          "Africa",
          "Europe",
          "Oceania",
          "Asia",
          "Europe",
          "South America",
          "Asia",
          "Europe",
          "Europe",
          "Caribbean",
          "Asia",
          "Europe",
          "Europe",
          "Asia",
          "Europe",
          "Europe",
          "Africa",
          "Asia",
          "Europe",
          "Europe",
          "Europe",
          "Asia",
          "Asia",
          "Africa",
          "Asia",
          "Africa",
          "Europe",
          "North America",
          "Asia",
          "",
          "",
          "",
          "",
          "",
          "",
          ""
         ],
         "type": "treemap",
         "values": [
          3,
          3,
          4,
          53,
          5,
          7,
          4,
          10,
          2,
          20,
          7,
          27,
          2,
          91,
          4,
          7,
          9,
          1,
          5,
          9,
          3,
          5,
          3,
          4,
          1,
          64,
          7,
          33,
          65,
          8,
          2,
          2,
          4,
          19,
          6,
          3,
          12,
          7,
          7,
          40,
          1,
          6,
          45,
          1,
          7,
          11,
          2,
          6,
          4,
          2,
          5,
          4,
          1,
          2,
          34,
          20,
          6,
          8,
          1,
          4,
          10,
          4,
          2,
          1,
          9,
          5,
          1,
          1,
          3,
          6,
          32,
          18,
          11,
          8,
          3,
          6,
          3,
          8,
          2,
          12,
          126,
          13,
          37,
          274,
          4,
          420,
          178,
          74,
          35
         ]
        }
       ],
       "layout": {
        "coloraxis": {
         "colorbar": {
          "title": {
           "text": "Total Medals"
          }
         },
         "colorscale": [
          [
           0,
           "rgb(165,0,38)"
          ],
          [
           0.1,
           "rgb(215,48,39)"
          ],
          [
           0.2,
           "rgb(244,109,67)"
          ],
          [
           0.3,
           "rgb(253,174,97)"
          ],
          [
           0.4,
           "rgb(254,224,139)"
          ],
          [
           0.5,
           "rgb(255,255,191)"
          ],
          [
           0.6,
           "rgb(217,239,139)"
          ],
          [
           0.7,
           "rgb(166,217,106)"
          ],
          [
           0.8,
           "rgb(102,189,99)"
          ],
          [
           0.9,
           "rgb(26,152,80)"
          ],
          [
           1,
           "rgb(0,104,55)"
          ]
         ]
        },
        "legend": {
         "tracegroupgap": 0
        },
        "margin": {
         "t": 60
        },
        "template": {
         "data": {
          "bar": [
           {
            "error_x": {
             "color": "#2a3f5f"
            },
            "error_y": {
             "color": "#2a3f5f"
            },
            "marker": {
             "line": {
              "color": "#E5ECF6",
              "width": 0.5
             },
             "pattern": {
              "fillmode": "overlay",
              "size": 10,
              "solidity": 0.2
             }
            },
            "type": "bar"
           }
          ],
          "barpolar": [
           {
            "marker": {
             "line": {
              "color": "#E5ECF6",
              "width": 0.5
             },
             "pattern": {
              "fillmode": "overlay",
              "size": 10,
              "solidity": 0.2
             }
            },
            "type": "barpolar"
           }
          ],
          "carpet": [
           {
            "aaxis": {
             "endlinecolor": "#2a3f5f",
             "gridcolor": "white",
             "linecolor": "white",
             "minorgridcolor": "white",
             "startlinecolor": "#2a3f5f"
            },
            "baxis": {
             "endlinecolor": "#2a3f5f",
             "gridcolor": "white",
             "linecolor": "white",
             "minorgridcolor": "white",
             "startlinecolor": "#2a3f5f"
            },
            "type": "carpet"
           }
          ],
          "choropleth": [
           {
            "colorbar": {
             "outlinewidth": 0,
             "ticks": ""
            },
            "type": "choropleth"
           }
          ],
          "contour": [
           {
            "colorbar": {
             "outlinewidth": 0,
             "ticks": ""
            },
            "colorscale": [
             [
              0,
              "#0d0887"
             ],
             [
              0.1111111111111111,
              "#46039f"
             ],
             [
              0.2222222222222222,
              "#7201a8"
             ],
             [
              0.3333333333333333,
              "#9c179e"
             ],
             [
              0.4444444444444444,
              "#bd3786"
             ],
             [
              0.5555555555555556,
              "#d8576b"
             ],
             [
              0.6666666666666666,
              "#ed7953"
             ],
             [
              0.7777777777777778,
              "#fb9f3a"
             ],
             [
              0.8888888888888888,
              "#fdca26"
             ],
             [
              1,
              "#f0f921"
             ]
            ],
            "type": "contour"
           }
          ],
          "contourcarpet": [
           {
            "colorbar": {
             "outlinewidth": 0,
             "ticks": ""
            },
            "type": "contourcarpet"
           }
          ],
          "heatmap": [
           {
            "colorbar": {
             "outlinewidth": 0,
             "ticks": ""
            },
            "colorscale": [
             [
              0,
              "#0d0887"
             ],
             [
              0.1111111111111111,
              "#46039f"
             ],
             [
              0.2222222222222222,
              "#7201a8"
             ],
             [
              0.3333333333333333,
              "#9c179e"
             ],
             [
              0.4444444444444444,
              "#bd3786"
             ],
             [
              0.5555555555555556,
              "#d8576b"
             ],
             [
              0.6666666666666666,
              "#ed7953"
             ],
             [
              0.7777777777777778,
              "#fb9f3a"
             ],
             [
              0.8888888888888888,
              "#fdca26"
             ],
             [
              1,
              "#f0f921"
             ]
            ],
            "type": "heatmap"
           }
          ],
          "heatmapgl": [
           {
            "colorbar": {
             "outlinewidth": 0,
             "ticks": ""
            },
            "colorscale": [
             [
              0,
              "#0d0887"
             ],
             [
              0.1111111111111111,
              "#46039f"
             ],
             [
              0.2222222222222222,
              "#7201a8"
             ],
             [
              0.3333333333333333,
              "#9c179e"
             ],
             [
              0.4444444444444444,
              "#bd3786"
             ],
             [
              0.5555555555555556,
              "#d8576b"
             ],
             [
              0.6666666666666666,
              "#ed7953"
             ],
             [
              0.7777777777777778,
              "#fb9f3a"
             ],
             [
              0.8888888888888888,
              "#fdca26"
             ],
             [
              1,
              "#f0f921"
             ]
            ],
            "type": "heatmapgl"
           }
          ],
          "histogram": [
           {
            "marker": {
             "pattern": {
              "fillmode": "overlay",
              "size": 10,
              "solidity": 0.2
             }
            },
            "type": "histogram"
           }
          ],
          "histogram2d": [
           {
            "colorbar": {
             "outlinewidth": 0,
             "ticks": ""
            },
            "colorscale": [
             [
              0,
              "#0d0887"
             ],
             [
              0.1111111111111111,
              "#46039f"
             ],
             [
              0.2222222222222222,
              "#7201a8"
             ],
             [
              0.3333333333333333,
              "#9c179e"
             ],
             [
              0.4444444444444444,
              "#bd3786"
             ],
             [
              0.5555555555555556,
              "#d8576b"
             ],
             [
              0.6666666666666666,
              "#ed7953"
             ],
             [
              0.7777777777777778,
              "#fb9f3a"
             ],
             [
              0.8888888888888888,
              "#fdca26"
             ],
             [
              1,
              "#f0f921"
             ]
            ],
            "type": "histogram2d"
           }
          ],
          "histogram2dcontour": [
           {
            "colorbar": {
             "outlinewidth": 0,
             "ticks": ""
            },
            "colorscale": [
             [
              0,
              "#0d0887"
             ],
             [
              0.1111111111111111,
              "#46039f"
             ],
             [
              0.2222222222222222,
              "#7201a8"
             ],
             [
              0.3333333333333333,
              "#9c179e"
             ],
             [
              0.4444444444444444,
              "#bd3786"
             ],
             [
              0.5555555555555556,
              "#d8576b"
             ],
             [
              0.6666666666666666,
              "#ed7953"
             ],
             [
              0.7777777777777778,
              "#fb9f3a"
             ],
             [
              0.8888888888888888,
              "#fdca26"
             ],
             [
              1,
              "#f0f921"
             ]
            ],
            "type": "histogram2dcontour"
           }
          ],
          "mesh3d": [
           {
            "colorbar": {
             "outlinewidth": 0,
             "ticks": ""
            },
            "type": "mesh3d"
           }
          ],
          "parcoords": [
           {
            "line": {
             "colorbar": {
              "outlinewidth": 0,
              "ticks": ""
             }
            },
            "type": "parcoords"
           }
          ],
          "pie": [
           {
            "automargin": true,
            "type": "pie"
           }
          ],
          "scatter": [
           {
            "fillpattern": {
             "fillmode": "overlay",
             "size": 10,
             "solidity": 0.2
            },
            "type": "scatter"
           }
          ],
          "scatter3d": [
           {
            "line": {
             "colorbar": {
              "outlinewidth": 0,
              "ticks": ""
             }
            },
            "marker": {
             "colorbar": {
              "outlinewidth": 0,
              "ticks": ""
             }
            },
            "type": "scatter3d"
           }
          ],
          "scattercarpet": [
           {
            "marker": {
             "colorbar": {
              "outlinewidth": 0,
              "ticks": ""
             }
            },
            "type": "scattercarpet"
           }
          ],
          "scattergeo": [
           {
            "marker": {
             "colorbar": {
              "outlinewidth": 0,
              "ticks": ""
             }
            },
            "type": "scattergeo"
           }
          ],
          "scattergl": [
           {
            "marker": {
             "colorbar": {
              "outlinewidth": 0,
              "ticks": ""
             }
            },
            "type": "scattergl"
           }
          ],
          "scattermapbox": [
           {
            "marker": {
             "colorbar": {
              "outlinewidth": 0,
              "ticks": ""
             }
            },
            "type": "scattermapbox"
           }
          ],
          "scatterpolar": [
           {
            "marker": {
             "colorbar": {
              "outlinewidth": 0,
              "ticks": ""
             }
            },
            "type": "scatterpolar"
           }
          ],
          "scatterpolargl": [
           {
            "marker": {
             "colorbar": {
              "outlinewidth": 0,
              "ticks": ""
             }
            },
            "type": "scatterpolargl"
           }
          ],
          "scatterternary": [
           {
            "marker": {
             "colorbar": {
              "outlinewidth": 0,
              "ticks": ""
             }
            },
            "type": "scatterternary"
           }
          ],
          "surface": [
           {
            "colorbar": {
             "outlinewidth": 0,
             "ticks": ""
            },
            "colorscale": [
             [
              0,
              "#0d0887"
             ],
             [
              0.1111111111111111,
              "#46039f"
             ],
             [
              0.2222222222222222,
              "#7201a8"
             ],
             [
              0.3333333333333333,
              "#9c179e"
             ],
             [
              0.4444444444444444,
              "#bd3786"
             ],
             [
              0.5555555555555556,
              "#d8576b"
             ],
             [
              0.6666666666666666,
              "#ed7953"
             ],
             [
              0.7777777777777778,
              "#fb9f3a"
             ],
             [
              0.8888888888888888,
              "#fdca26"
             ],
             [
              1,
              "#f0f921"
             ]
            ],
            "type": "surface"
           }
          ],
          "table": [
           {
            "cells": {
             "fill": {
              "color": "#EBF0F8"
             },
             "line": {
              "color": "white"
             }
            },
            "header": {
             "fill": {
              "color": "#C8D4E3"
             },
             "line": {
              "color": "white"
             }
            },
            "type": "table"
           }
          ]
         },
         "layout": {
          "annotationdefaults": {
           "arrowcolor": "#2a3f5f",
           "arrowhead": 0,
           "arrowwidth": 1
          },
          "autotypenumbers": "strict",
          "coloraxis": {
           "colorbar": {
            "outlinewidth": 0,
            "ticks": ""
           }
          },
          "colorscale": {
           "diverging": [
            [
             0,
             "#8e0152"
            ],
            [
             0.1,
             "#c51b7d"
            ],
            [
             0.2,
             "#de77ae"
            ],
            [
             0.3,
             "#f1b6da"
            ],
            [
             0.4,
             "#fde0ef"
            ],
            [
             0.5,
             "#f7f7f7"
            ],
            [
             0.6,
             "#e6f5d0"
            ],
            [
             0.7,
             "#b8e186"
            ],
            [
             0.8,
             "#7fbc41"
            ],
            [
             0.9,
             "#4d9221"
            ],
            [
             1,
             "#276419"
            ]
           ],
           "sequential": [
            [
             0,
             "#0d0887"
            ],
            [
             0.1111111111111111,
             "#46039f"
            ],
            [
             0.2222222222222222,
             "#7201a8"
            ],
            [
             0.3333333333333333,
             "#9c179e"
            ],
            [
             0.4444444444444444,
             "#bd3786"
            ],
            [
             0.5555555555555556,
             "#d8576b"
            ],
            [
             0.6666666666666666,
             "#ed7953"
            ],
            [
             0.7777777777777778,
             "#fb9f3a"
            ],
            [
             0.8888888888888888,
             "#fdca26"
            ],
            [
             1,
             "#f0f921"
            ]
           ],
           "sequentialminus": [
            [
             0,
             "#0d0887"
            ],
            [
             0.1111111111111111,
             "#46039f"
            ],
            [
             0.2222222222222222,
             "#7201a8"
            ],
            [
             0.3333333333333333,
             "#9c179e"
            ],
            [
             0.4444444444444444,
             "#bd3786"
            ],
            [
             0.5555555555555556,
             "#d8576b"
            ],
            [
             0.6666666666666666,
             "#ed7953"
            ],
            [
             0.7777777777777778,
             "#fb9f3a"
            ],
            [
             0.8888888888888888,
             "#fdca26"
            ],
            [
             1,
             "#f0f921"
            ]
           ]
          },
          "colorway": [
           "#636efa",
           "#EF553B",
           "#00cc96",
           "#ab63fa",
           "#FFA15A",
           "#19d3f3",
           "#FF6692",
           "#B6E880",
           "#FF97FF",
           "#FECB52"
          ],
          "font": {
           "color": "#2a3f5f"
          },
          "geo": {
           "bgcolor": "white",
           "lakecolor": "white",
           "landcolor": "#E5ECF6",
           "showlakes": true,
           "showland": true,
           "subunitcolor": "white"
          },
          "hoverlabel": {
           "align": "left"
          },
          "hovermode": "closest",
          "mapbox": {
           "style": "light"
          },
          "paper_bgcolor": "white",
          "plot_bgcolor": "#E5ECF6",
          "polar": {
           "angularaxis": {
            "gridcolor": "white",
            "linecolor": "white",
            "ticks": ""
           },
           "bgcolor": "#E5ECF6",
           "radialaxis": {
            "gridcolor": "white",
            "linecolor": "white",
            "ticks": ""
           }
          },
          "scene": {
           "xaxis": {
            "backgroundcolor": "#E5ECF6",
            "gridcolor": "white",
            "gridwidth": 2,
            "linecolor": "white",
            "showbackground": true,
            "ticks": "",
            "zerolinecolor": "white"
           },
           "yaxis": {
            "backgroundcolor": "#E5ECF6",
            "gridcolor": "white",
            "gridwidth": 2,
            "linecolor": "white",
            "showbackground": true,
            "ticks": "",
            "zerolinecolor": "white"
           },
           "zaxis": {
            "backgroundcolor": "#E5ECF6",
            "gridcolor": "white",
            "gridwidth": 2,
            "linecolor": "white",
            "showbackground": true,
            "ticks": "",
            "zerolinecolor": "white"
           }
          },
          "shapedefaults": {
           "line": {
            "color": "#2a3f5f"
           }
          },
          "ternary": {
           "aaxis": {
            "gridcolor": "white",
            "linecolor": "white",
            "ticks": ""
           },
           "baxis": {
            "gridcolor": "white",
            "linecolor": "white",
            "ticks": ""
           },
           "bgcolor": "#E5ECF6",
           "caxis": {
            "gridcolor": "white",
            "linecolor": "white",
            "ticks": ""
           }
          },
          "title": {
           "x": 0.05
          },
          "xaxis": {
           "automargin": true,
           "gridcolor": "white",
           "linecolor": "white",
           "ticks": "",
           "title": {
            "standoff": 15
           },
           "zerolinecolor": "white",
           "zerolinewidth": 2
          },
          "yaxis": {
           "automargin": true,
           "gridcolor": "white",
           "linecolor": "white",
           "ticks": "",
           "title": {
            "standoff": 15
           },
           "zerolinecolor": "white",
           "zerolinewidth": 2
          }
         }
        },
        "title": {
         "font": {
          "size": 20
         },
         "text": "Treemap of Total Olympic Medals by Country"
        },
        "uniformtext": {
         "minsize": 10,
         "mode": "hide"
        }
       }
      }
     },
     "metadata": {},
     "output_type": "display_data"
    }
   ],
   "source": [
    "figtree = px.treemap(\n",
    "    olympics24,\n",
    "    path=['region', 'country'],  \n",
    "    values='total',             \n",
    "    color='total',              \n",
    "    hover_data=['gold', 'silver', 'bronze'],  \n",
    "    color_continuous_scale='RdYlGn',\n",
    "    labels={\"total\": \"Total Medals\"}  \n",
    ")\n",
    "\n",
    "# Update layout to adjust appearance\n",
    "figtree.update_layout(\n",
    "    title=\"Treemap of Total Olympic Medals by Country\",\n",
    "    title_font_size=20,\n",
    "    uniformtext=dict(minsize=10, mode='hide'),  \n",
    ")\n",
    "\n",
    "# Show the chart\n",
    "figtree.show()"
   ]
  },
  {
   "cell_type": "markdown",
   "metadata": {},
   "source": [
    "**Description for chart above:**\n",
    "- Compares `region`s (continents) and their `total` medal counts \n",
    "- gives us insight to the countries that are performing best by looking at the size of squares.\n",
    "- suggests what nations to notice and be aware of for strong GDP trends in both `gdp_total` and `gdp_per_capita`"
   ]
  },
  {
   "cell_type": "code",
   "execution_count": 93,
   "metadata": {},
   "outputs": [
    {
     "data": {
      "image/png": "[encoded data removed]",
      "text/plain": [
       "<Figure size 1200x800 with 1 Axes>"
      ]
     },
     "metadata": {},
     "output_type": "display_data"
    }
   ],
   "source": [
    "medal_comparison = olympics24[['country', 'total', 'gold']].sort_values(by='total', ascending=False).head(20)\n",
    "\n",
    "# Plot\n",
    "plt.figure(figsize=(12, 8))\n",
    "bar_width = 0.35\n",
    "index = np.arange(len(medal_comparison))\n",
    "\n",
    "# Bars for Total and Gold Medals\n",
    "plt.bar(index, medal_comparison['total'], bar_width, label='Total Medals', color='skyblue')\n",
    "plt.bar(index + bar_width, medal_comparison['gold'], bar_width, label='Gold Medals', color='gold')\n",
    "\n",
    "# Formatting\n",
    "plt.xlabel('Country', fontsize=12)\n",
    "plt.ylabel('Number of Medals', fontsize=12)\n",
    "plt.title('Comparison of Total and Gold Medals @2024 Olympics by Top 20 Countries', fontsize=14)\n",
    "plt.xticks(index + bar_width / 2, medal_comparison['country'], rotation=45, ha='right')\n",
    "plt.legend()\n",
    "plt.tight_layout()\n",
    "\n",
    "plt.show()"
   ]
  },
  {
   "cell_type": "markdown",
   "metadata": {},
   "source": [
    "**Description for chart above:**\n",
    "- Compares countries and their `total` medal counts alongside their `gold` medal counts \n",
    "- the thought process was to visually compare the trends between `medal` counts alongside GDP variants below\n"
   ]
  },
  {
   "cell_type": "code",
   "execution_count": 101,
   "metadata": {},
   "outputs": [
    {
     "data": {
      "text/html": [
       "<div>\n",
       "<style scoped>\n",
       "    .dataframe tbody tr th:only-of-type {\n",
       "        vertical-align: middle;\n",
       "    }\n",
       "\n",
       "    .dataframe tbody tr th {\n",
       "        vertical-align: top;\n",
       "    }\n",
       "\n",
       "    .dataframe thead th {\n",
       "        text-align: right;\n",
       "    }\n",
       "</style>\n",
       "<table border=\"1\" class=\"dataframe\">\n",
       "  <thead>\n",
       "    <tr style=\"text-align: right;\">\n",
       "      <th></th>\n",
       "      <th>country</th>\n",
       "      <th>gdp_total</th>\n",
       "      <th>gdp_per_capita</th>\n",
       "    </tr>\n",
       "  </thead>\n",
       "  <tbody>\n",
       "    <tr>\n",
       "      <th>0</th>\n",
       "      <td>United States</td>\n",
       "      <td>27359.72</td>\n",
       "      <td>81695.19</td>\n",
       "    </tr>\n",
       "    <tr>\n",
       "      <th>1</th>\n",
       "      <td>China</td>\n",
       "      <td>17794.65</td>\n",
       "      <td>12614.06</td>\n",
       "    </tr>\n",
       "    <tr>\n",
       "      <th>9</th>\n",
       "      <td>Germany</td>\n",
       "      <td>4457.02</td>\n",
       "      <td>52745.76</td>\n",
       "    </tr>\n",
       "    <tr>\n",
       "      <th>2</th>\n",
       "      <td>Japan</td>\n",
       "      <td>4212.38</td>\n",
       "      <td>33834.39</td>\n",
       "    </tr>\n",
       "    <tr>\n",
       "      <th>70</th>\n",
       "      <td>India</td>\n",
       "      <td>3549.86</td>\n",
       "      <td>2484.85</td>\n",
       "    </tr>\n",
       "    <tr>\n",
       "      <th>6</th>\n",
       "      <td>Great Britain</td>\n",
       "      <td>3337.59</td>\n",
       "      <td>48866.60</td>\n",
       "    </tr>\n",
       "    <tr>\n",
       "      <th>4</th>\n",
       "      <td>France</td>\n",
       "      <td>3032.23</td>\n",
       "      <td>44460.82</td>\n",
       "    </tr>\n",
       "    <tr>\n",
       "      <th>8</th>\n",
       "      <td>Italy</td>\n",
       "      <td>2256.34</td>\n",
       "      <td>38373.17</td>\n",
       "    </tr>\n",
       "    <tr>\n",
       "      <th>19</th>\n",
       "      <td>Brazil</td>\n",
       "      <td>2173.44</td>\n",
       "      <td>10043.62</td>\n",
       "    </tr>\n",
       "    <tr>\n",
       "      <th>11</th>\n",
       "      <td>Canada</td>\n",
       "      <td>2140.21</td>\n",
       "      <td>53371.70</td>\n",
       "    </tr>\n",
       "    <tr>\n",
       "      <th>64</th>\n",
       "      <td>Mexico</td>\n",
       "      <td>1789.51</td>\n",
       "      <td>13926.11</td>\n",
       "    </tr>\n",
       "    <tr>\n",
       "      <th>3</th>\n",
       "      <td>Australia</td>\n",
       "      <td>1721.33</td>\n",
       "      <td>64711.77</td>\n",
       "    </tr>\n",
       "    <tr>\n",
       "      <th>7</th>\n",
       "      <td>South Korea</td>\n",
       "      <td>1712.37</td>\n",
       "      <td>33121.37</td>\n",
       "    </tr>\n",
       "    <tr>\n",
       "      <th>14</th>\n",
       "      <td>Spain</td>\n",
       "      <td>1581.57</td>\n",
       "      <td>32676.98</td>\n",
       "    </tr>\n",
       "    <tr>\n",
       "      <th>39</th>\n",
       "      <td>Indonesia</td>\n",
       "      <td>1371.00</td>\n",
       "      <td>4940.55</td>\n",
       "    </tr>\n",
       "    <tr>\n",
       "      <th>5</th>\n",
       "      <td>Netherlands</td>\n",
       "      <td>1119.41</td>\n",
       "      <td>62536.73</td>\n",
       "    </tr>\n",
       "    <tr>\n",
       "      <th>63</th>\n",
       "      <td>Turkey</td>\n",
       "      <td>1107.68</td>\n",
       "      <td>12985.75</td>\n",
       "    </tr>\n",
       "    <tr>\n",
       "      <th>47</th>\n",
       "      <td>Switzerland</td>\n",
       "      <td>879.96</td>\n",
       "      <td>99994.94</td>\n",
       "    </tr>\n",
       "    <tr>\n",
       "      <th>41</th>\n",
       "      <td>Poland</td>\n",
       "      <td>811.54</td>\n",
       "      <td>22112.86</td>\n",
       "    </tr>\n",
       "    <tr>\n",
       "      <th>51</th>\n",
       "      <td>Argentina</td>\n",
       "      <td>641.21</td>\n",
       "      <td>13730.51</td>\n",
       "    </tr>\n",
       "  </tbody>\n",
       "</table>\n",
       "</div>"
      ],
      "text/plain": [
       "          country  gdp_total  gdp_per_capita\n",
       "0   United States   27359.72        81695.19\n",
       "1           China   17794.65        12614.06\n",
       "9         Germany    4457.02        52745.76\n",
       "2           Japan    4212.38        33834.39\n",
       "70          India    3549.86         2484.85\n",
       "6   Great Britain    3337.59        48866.60\n",
       "4          France    3032.23        44460.82\n",
       "8           Italy    2256.34        38373.17\n",
       "19         Brazil    2173.44        10043.62\n",
       "11         Canada    2140.21        53371.70\n",
       "64         Mexico    1789.51        13926.11\n",
       "3       Australia    1721.33        64711.77\n",
       "7     South Korea    1712.37        33121.37\n",
       "14          Spain    1581.57        32676.98\n",
       "39      Indonesia    1371.00         4940.55\n",
       "5     Netherlands    1119.41        62536.73\n",
       "63         Turkey    1107.68        12985.75\n",
       "47    Switzerland     879.96        99994.94\n",
       "41         Poland     811.54        22112.86\n",
       "51      Argentina     641.21        13730.51"
      ]
     },
     "execution_count": 101,
     "metadata": {},
     "output_type": "execute_result"
    }
   ],
   "source": [
    "gdp_comparison = olympics24[['country', 'gdp_total', 'gdp_per_capita']].sort_values(by='gdp_total', ascending=False).head(20)\n",
    "gdp_comparison"
   ]
  },
  {
   "cell_type": "code",
   "execution_count": 102,
   "metadata": {},
   "outputs": [
    {
     "data": {
      "image/png": "[encoded data removed]",
      "text/plain": [
       "<Figure size 1200x800 with 1 Axes>"
      ]
     },
     "metadata": {},
     "output_type": "display_data"
    }
   ],
   "source": [
    "gdp_comparison = olympics24[['country', 'gdp_total', 'gdp_per_capita']].sort_values(by='gdp_total', ascending=False).head(20)\n",
    "\n",
    "\n",
    "# Plot\n",
    "plt.figure(figsize=(12, 8))\n",
    "bar_width = 0.35\n",
    "index = np.arange(len(gdp_comparison))\n",
    "\n",
    "# Bars for GDP Total and GDP Per Capita\n",
    "plt.bar(index, gdp_comparison['gdp_total'], bar_width, label='GDP Total', color='lightgreen')\n",
    "plt.bar(index + bar_width, gdp_comparison['gdp_per_capita'], bar_width, label='GDP Per Capita', color='lightcoral')\n",
    "\n",
    "# Formatting\n",
    "plt.xlabel('Country', fontsize=12)\n",
    "plt.ylabel('GDP (in USD)', fontsize=12)\n",
    "plt.title('Comparison of GDP Total and GDP Per Capita by Top 20 Countries', fontsize=14)\n",
    "plt.xticks(index + bar_width / 2, gdp_comparison['country'], rotation=45, ha='right')\n",
    "plt.legend()\n",
    "plt.tight_layout()\n",
    "\n",
    "plt.show()"
   ]
  },
  {
   "cell_type": "markdown",
   "metadata": {},
   "source": [
    "**Description for chart above:**\n",
    "- Compares countries and their GDP per Capita (Thousands USD) alongside Total GDP (Billions measured in Thousands USD)\n",
    "- the thought process was to visually compare the trends between GDP variants alongside medal performance above\n",
    "\n"
   ]
  },
  {
   "cell_type": "markdown",
   "metadata": {},
   "source": [
    "### HISTORICAL OLYMPIC TREND ANALYSIS\n",
    "\n",
    "Some more words and stuff.  Remember notebooks work best if you interleave the code that generates a result with properly annotate figures and text that puts these results into context."
   ]
  },
  {
   "cell_type": "code",
   "execution_count": 46,
   "metadata": {},
   "outputs": [],
   "source": [
    "## YOUR CODE HERE\n",
    "## FEEL FREE TO ADD MULTIPLE CELLS PER SECTION"
   ]
  },
  {
   "cell_type": "markdown",
   "metadata": {},
   "source": [
    "# Ethics & Privacy"
   ]
  },
  {
   "cell_type": "markdown",
   "metadata": {},
   "source": [
    "With regards to privacy, terms of use and security, the dataset being used is publicly available on Kaggle, and there are no direct privacy issues involving individuals. However, it is important to note that the data is used in accordance with Kaggle's terms of service, and that any findings are not misrepresented or used to make harmful generalizations about certain countries or groups.\n",
    "\n",
    "There exist potential biases and limitations in the data set present through the exclusion of certain nations from the set. Countries that have not participated in the 2024 Olympics or those that have missing GDPs are excluded from this set; which in turn creates a bias by limiting the analysis to only those countries for which their data is available. As such, this leads to a possibility that the data may be disproportionate or skewed to negatively affect less economically developed nations, as their absence could lead to underestimating their performance potential of nations with fewer economic resources. Moreover, analyzing whether GDP correlates with Olympic medal count implicitly assumes that economic power should or does lead to success in sports. This assumption can marginalize less wealthy nations as GDP alone is not an adequate representation of a country's ability to win medals. There are many other cultural and social factors that play significant roles in this case; which is why it is essential to acknowledge that athletic talent is universal, but opportunities to develop that talent are not. The framing of our findings must be approached with caution, emphasizing that the purpose is to identify patterns rather than to justify disparities between nations. \n",
    "\n",
    "Our group will acknowledge the potential biases and limitations in the dataset through the discussion of our results, which ensures that these potential biases are clear to readers. When communicating this analysis, we will be transparent about the notion that correlations observed do not imply causation, and we will emphasize that our analysis is intended to explore patterns rather than make normative claims about countries’ athletic and economic capabilities. Additionally, in order to mitigate these biases we plan to include other factors that influence GDP such as government spending on sports, total investment, etc. so as to gather a more nuanced conclusion with regards to the determinants of Olympic success. Furthermore, throughout the data cleaning and model representation process, we will assess the distribution of countries based on GDP and medals to identify any biases in representation; by evaluating model performance for potential overfitting to high-GDP countries. This is significant to the reporting phase, as we consider how our results create a general conclusion, which will be framed in order to avoid the implication that economic power alone determines success. For instance, while we may observe a correlation between GDP and medal count, it is critical to stress that this does not mean only wealthy countries can succeed in the Olympics. Which in turn dives into the ethical implications of this research question, more specifically how these findings may potentially reflect global inequalities in sports development; by raising awareness of the socioeconomic factors that contribute to Olympic success."
   ]
  },
  {
   "cell_type": "markdown",
   "metadata": {},
   "source": [
    "# Team Expectations "
   ]
  },
  {
   "cell_type": "markdown",
   "metadata": {},
   "source": [
    "\n",
    "- We all agree to meet virtually via Google Meets, Wednesdays at 4pm to check in with one another and work together.\n",
    "- We will make decisions through a unanimous vote. If a decision needs to be made in a short time frame and the other members are unresponsive, the individual is free to make a decision. \n",
    "- Everyone will be equally doing a bit of leading, communicating, programming and research. Tasks will be assigned during our weekly meetings through discussion. We will track our progress on a timesheet via Google Docs/Sheets.\n",
    "- We are committed to equally contributing to our project through discussing our roles, ideas and dividing up the work.\n",
    "- When we are unsure, or have questions or thoughts we will remain in communication with one another via our group chat or individually. "
   ]
  },
  {
   "cell_type": "markdown",
   "metadata": {},
   "source": [
    "# Project Timeline Proposal"
   ]
  },
  {
   "cell_type": "markdown",
   "metadata": {},
   "source": [
    "Specify your team's specific project timeline. An example timeline has been provided. Changes the dates, times, names, and details to fit your group's plan.\n",
    "\n",
    "If you think you will need any special resources or training outside what we have covered in COGS 108 to solve your problem, then your proposal should state these clearly. For example, if you have selected a problem that involves implementing multiple neural networks, please state this so we can make sure you know what you’re doing and so we can point you to resources you will need to implement your project. Note that you are not required to use outside methods.\n",
    "\n",
    "\n",
    "\n",
    "| Meeting Date  | Meeting Time| Completed Before Meeting  | Discuss at Meeting |\n",
    "|---|---|---|---|\n",
    "| 1/20  |  1 PM | Read & Think about COGS 108 expectations; brainstorm topics/questions  | Determine best form of communication; Discuss and decide on final project topic; discuss hypothesis; begin background research | \n",
    "| 1/26  |  10 AM |  Do background research on topic | Discuss ideal dataset(s) and ethics; draft project proposal | \n",
    "| 2/1  | 10 AM  | Edit, finalize, and submit proposal; Search for datasets  | Discuss Wrangling and possible analytical approaches; Assign group members to lead each specific part   |\n",
    "| 2/14  | 6 PM  | Import & Wrangle Data (Ant Man); EDA (Hulk) | Review/Edit wrangling/EDA; Discuss Analysis Plan   |\n",
    "| 2/23  | 12 PM  | Finalize wrangling/EDA; Begin Analysis (Iron Man; Thor) | Discuss/edit Analysis; Complete project check-in |\n",
    "| 3/13  | 12 PM  | Complete analysis; Draft results/conclusion/discussion (Wasp)| Discuss/edit full project |\n",
    "| 3/20  | Before 11:59 PM  | NA | Turn in Final Project & Group Project Surveys |"
   ]
  }
 ],
 "metadata": {
  "kernelspec": {
   "display_name": "dsc",
   "language": "python",
   "name": "python3"
  },
  "language_info": {
   "codemirror_mode": {
    "name": "ipython",
    "version": 3
   },
   "file_extension": ".py",
   "mimetype": "text/x-python",
   "name": "python",
   "nbconvert_exporter": "python",
   "pygments_lexer": "ipython3",
   "version": "3.12.2"
  }
 },
 "nbformat": 4,
 "nbformat_minor": 2
}
