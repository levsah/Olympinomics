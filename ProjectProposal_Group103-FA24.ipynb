{
 "cells": [
  {
   "cell_type": "markdown",
   "metadata": {},
   "source": [
    "# COGS 108 - Project Proposal"
   ]
  },
  {
   "cell_type": "markdown",
   "metadata": {},
   "source": [
    "# Names\n",
    "\n",
    "- Levy Sahoo\n",
    "- Keenan Serrao\n",
    "- Maya Ammar\n",
    "- Leela Stuepfert"
   ]
  },
  {
   "cell_type": "markdown",
   "metadata": {},
   "source": [
    "# Research Question"
   ]
  },
  {
   "cell_type": "markdown",
   "metadata": {},
   "source": [
    "Do socioeconomic factors such as GDP and population count correlate to a nation’s successive medal performance at the Olympic games?\n",
    "\n",
    "\n",
    "- Does a country’s GDP solely correlate with total medal count in the 2024 Olympics?\n",
    "    - Are there any other significant factors that influence a nation’s medal success in the Olympics?\n",
    "    - Do features such as country population influence the size of the Olympic team further influencing the likelihood of the nation's ability to perform better? \n"
   ]
  },
  {
   "cell_type": "markdown",
   "metadata": {},
   "source": [
    "## Background and Prior Work"
   ]
  },
  {
   "cell_type": "markdown",
   "metadata": {},
   "source": [
    "The Olympic games have been deemed as notably the most prestigious sporting event in human history, it’s a collective movement where all the best athletes in the world assemble together for one thing in mind: Glory for their nation. The way to achieve this is to attain a medal. Although it’s fair to say that the Olympic games are a stage that gathers the best of the best on the same platform to evaluate their performances in their respective events, we need to reconsider if there’s actually more to what meets the eye test. Instead of simply asking who will find a spot on the podium, seeing the journeys of the athletes with various backgrounds shifts the focus of the question to how did they arrive to the opportunity to compete for a shot at the podium, and are there quantitative features that we can use to assess regarding their country of origin and socioeconomic backgrounds to help us answer the begging question: \n",
    "\n",
    "**Do economic factors such as GDP and population count correlate to a nation’s successive medal performance at the Olympic games?** \n",
    "\n",
    "**“What do other research studies and deem about factors correlated to a nation’s Olympic Success?”**\n",
    "\n",
    "A 2000 study<a name=\"cite_ref-1\"></a>[<sup>1</sup>](#cite_ref-1) conducted by economists Andrew Bernard and Meghan Busse, explored how economic factors such as GDP and population size impact a nation’s Olympic success. The resport<a name=\"cite_ref-2\"></a>[<sup>2</sup>](#cite_ref-2) summarized by Michael Klien, Professor of International Economic Affairs at Tufts University, identified real GDP as the most significant predictor of a country's medal count, estimating that a 10% increase in income per capita yields a 6.9% increase in medals, assuming population remains constant. Similarly, a 10% population increase, while holding income steady, leads to a 3.6% rise in medals. These findings suggest a clear correlation between economic scale and Olympic performance, providing a foundation for the relevance of these variables in predicting success. On the contrary, some researchers dispute the validity of these regressors upon a nation’s successive medal performance, a more recent 2022 study<a name=\"cite_ref-3\"></a>[<sup>3</sup>](#cite_ref-3) questions the significance of GDP and population on Olympic outcomes, finding that variables such as GDP size, corruption ranking, athlete count, and topography don’t significantly impact medal standings. Instead, factors like inflation rates, economic activity, and income classification seem to offer alternative perspectives on predicting Olympic success. This work introduces a broader range of variables, which can contribute to refining model regressors and understanding potential limitations of traditional economic measures. Since some of these features aren’t open to public availability, such metrics can deliver insights towards the interpretation of the error terms of the linear regression models used to analyze our objective. A separate Georgia Tech analysis<a name=\"cite_ref-4\"></a>[<sup>4</sup>](#cite_ref-4) identifies other influential factors, such as country size and healthcare expenditure per capita, in determining Olympic performance. By highlighting healthcare investment as a predictor, it expands beyond purely economic indicators, suggesting that a nation’s healthcare infrastructure may play a vital role in supporting elite athletic development.\n",
    "\n",
    "While each study offers valuable insights, they present varying perspectives on the significance of GDP and population as predictors of Olympic success, it’s not definitive. Researchers may emphasize GDP and population as core predictors, while others cast doubt on their significance, proposing additional variables such as inflation and economic activity. Georgia Tech’s emphasis on healthcare investment introduces yet another dimension. This divergence highlights the complexity of determining Olympic success factors and suggests that GDP and population, though potentially impactful, may not be exhaustive predictors. By integrating these varied viewpoints, our project can better assess the significance of socioeconomic regressors with common data available as well as analyze the combined effect of these and other regressors, using econometric modeling to explore their potential in predicting Olympic medal ranking success while considering possible model limitations and interpreting the error sources.\n",
    "\n",
    "1. <a name=\"cite_note-1\"></a> [^](#cite_ref-1) Bernard, A. (1 Dec 2002) Who Wins the Olympic Games: Economic Resources and Medal Totals *Review of Economics and Statistics*. https://faculty.tuck.dartmouth.edu/images/uploads/faculty/andrew-bernard/olymp60restat_finaljournalversion.pdf \n",
    "2. <a name=\"cite_note-2\"></a> [^](#cite_ref-2) Klein, M. (17 Jul 2024) What Determines Countries’ Olympic Success? *ECONOFACT* https://econofact.org/what-determines-countries-olympic-success\n",
    "3. <a name=\"cite_note-3\"></a> [^](#cite_ref-3) Sasha, W. (28 May 2022) Assessment of Olympic performance in relation to economic, demographic, geographic, and social factors: quantile and Tobit approaches *Taylor & Francis Online*. https://www.tandfonline.com/doi/full/10.1080/1331677X.2022.2080735#abstract\n",
    "3. <a name=\"cite_note-4\"></a> [^](#cite_ref-4) Boudreau, J. The Miracle on Thin Ice: How A Nation's GDP Affects its Olympic Performance *Georgia Tech University*. https://repository.gatech.edu/server/api/core/bitstreams/1aa2b537-c3de-4177-8295-3fcd3a03a965/content#:~:text=We%20estimate%20that%20GDP%20per,bronze%20medals%20a%20country%20receives"
   ]
  },
  {
   "cell_type": "markdown",
   "metadata": {},
   "source": [
    "# Hypothesis\n"
   ]
  },
  {
   "cell_type": "markdown",
   "metadata": {},
   "source": [
    "Null hypothesis (H<sub>0</sub>): There is no significant correlation between a country’s GDP per capita or population size and its Olympic medal count. This suggests that countries with a higher GDP per capita and larger population size do not affect the number of medals a country earns.\n",
    "\n",
    "\n",
    "Alternative hypothesis (H<sub>a</sub>): There is a positive correlation between a country’s GDP per capita or population size and its Olympic medal count. This means that countries with a higher GDP per capita and larger population size are likely to win more medals, as increased population and resources may improve athlete development and access to training facilities. \n",
    "\n",
    "\n",
    "Reasoning: We aim to test the assumption that wealthier countries allocate more resources to athletic development, training and facilities potentially leading to more Olympic success. Additionally, countries with a larger population have a greater pool of potential athletes, increasing the likelihood of finding more talent. Our hypothesis will allow us to determine whether these economic and demographic advantages contribute to Olympic success or if other factors might be just as influential.  \n"
   ]
  },
  {
   "cell_type": "markdown",
   "metadata": {},
   "source": [
    "# Data"
   ]
  },
  {
   "cell_type": "markdown",
   "metadata": {},
   "source": [
    "The ideal variables we need to address this question would be the following. \n",
    "\n",
    "**Available variables in the datasets of our choice:**\n",
    "\n",
    "- Country competing in the Olympics\n",
    "    - Accounts for the number of observations (records)\n",
    "- GDP of Country\n",
    "- GDP Year \n",
    "- Country’s Total Medal Count pertaining to Olympic Year\n",
    "- Medal Distribution of Gold, Silver, and Bronze medals\n",
    "\t\n",
    "**Additional variables to potentially consider (if Data is publicly available):**\n",
    "\n",
    "- Inflation Rates\n",
    "- % of active economic population\n",
    "- Income classification of Nation on GDP Hierarchy (First World, Third World Nation)\n",
    "\n",
    "\n",
    "\n",
    "\n",
    "Primarily, we would need data on the medals won by each country, preferably across multiple years of the Olympics to help understand the significance of the relationship between progression in GDP and a nation’s medal performance (assessing medal counts and distribution of medal weights). This data could come from simply tracking the medals won by each country across all olympic games throughout the years available publicly, the distribution of each type of medal attained per country, as well as data that comes from censuses and economic reports for countries. If we discover a correlation between GDP and Olympic medal count for each country, we may need to account for additional factors that influence the GDP, such as consumer and government spending, and total investment towards athletics (if the data is publicly available). Additionally, it would also help to have the additional variables that are mentioned above to serve as economic indicators for the country to provide more context for the analysis and interpreting significance of the error term encompassing bias.\n",
    "\n",
    "**Real** datasets that could provide us with valuable information / insights:\n",
    "\n",
    "- https://www.kaggle.com/datasets/ernestitus/2024-olympics-medals-vs-gdp\n",
    "    - Contains data for each country about olympic medals won as well as GDP\n",
    "    - Only contains data for 2024\n",
    "    - Does not include other economic data besides GDP\n",
    "- https://www.kaggle.com/datasets/ramontanoeiro/summer-olympic-medals-1986-2020\n",
    "    - Contains data from 1896-2020 on summer olympic medals won by each country\n",
    "    - Does not contain economic data for countries\n",
    "- https://www.kaggle.com/datasets/alejopaullier/-gdp-by-country-1999-2022\n",
    "    - Contains data from 1999-2022 on GDP for each country\n",
    "    - Does not contain olympic data\n",
    "    - Could potentially be merged with previous dataset to create more conclusive data for analysis\n",
    "\n"
   ]
  },
  {
   "cell_type": "markdown",
   "metadata": {},
   "source": [
    "# Ethics & Privacy"
   ]
  },
  {
   "cell_type": "markdown",
   "metadata": {},
   "source": [
    "With regards to privacy, terms of use and security, the dataset being used is publicly available on Kaggle, and there are no direct privacy issues involving individuals. However, it is important to note that the data is used in accordance with Kaggle's terms of service, and that any findings are not misrepresented or used to make harmful generalizations about certain countries or groups.\n",
    "\n",
    "There exist potential biases and limitations in the data set present through the exclusion of certain nations from the set. Countries that have not participated in the 2024 Olympics or those that have missing GDPs are excluded from this set; which in turn creates a bias by limiting the analysis to only those countries for which their data is available. As such, this leads to a possibility that the data may be disproportionate or skewed to negatively affect less economically developed nations, as their absence could lead to underestimating their performance potential of nations with fewer economic resources. Moreover, analyzing whether GDP correlates with Olympic medal count implicitly assumes that economic power should or does lead to success in sports. This assumption can marginalize less wealthy nations as GDP alone is not an adequate representation of a country's ability to win medals. There are many other cultural and social factors that play significant roles in this case; which is why it is essential to acknowledge that athletic talent is universal, but opportunities to develop that talent are not. The framing of our findings must be approached with caution, emphasizing that the purpose is to identify patterns rather than to justify disparities between nations. \n",
    "\n",
    "Our group will acknowledge the potential biases and limitations in the dataset through the discussion of our results, which ensures that these potential biases are clear to readers. When communicating this analysis, we will be transparent about the notion that correlations observed do not imply causation, and we will emphasize that our analysis is intended to explore patterns rather than make normative claims about countries’ athletic and economic capabilities. Additionally, in order to mitigate these biases we plan to include other factors that influence GDP such as government spending on sports, total investment, etc. so as to gather a more nuanced conclusion with regards to the determinants of Olympic success. Furthermore, throughout the data cleaning and model representation process, we will assess the distribution of countries based on GDP and medals to identify any biases in representation; by evaluating model performance for potential overfitting to high-GDP countries. This is significant to the reporting phase, as we consider how our results create a general conclusion, which will be framed in order to avoid the implication that economic power alone determines success. For instance, while we may observe a correlation between GDP and medal count, it is critical to stress that this does not mean only wealthy countries can succeed in the Olympics. Which in turn dives into the ethical implications of this research question, more specifically how these findings may potentially reflect global inequalities in sports development; by raising awareness of the socioeconomic factors that contribute to Olympic success. \n"
   ]
  },
  {
   "cell_type": "markdown",
   "metadata": {},
   "source": [
    "# Team Expectations "
   ]
  },
  {
   "cell_type": "markdown",
   "metadata": {},
   "source": [
    "- We all agree to meet virtually via Google Meets, Wednesdays at 4pm to check in with one another and work together.\n",
    "- We will make decisions through a unanimous vote. If a decision needs to be made in a short time frame and the other members are unresponsive, the individual is free to make a decision. \n",
    "- Everyone will be equally doing a bit of leading, communicating, programming and research. Tasks will be assigned during our weekly meetings through discussion. We will track our progress on a timesheet via Google Docs/Sheets.\n",
    "- We are committed to equally contributing to our project through discussing our roles, ideas and dividing up the work.\n",
    "- When we are unsure, or have questions or thoughts we will remain in communication with one another via our group chat or individually. "
   ]
  },
  {
   "cell_type": "markdown",
   "metadata": {},
   "source": [
    "# Project Timeline Proposal"
   ]
  },
  {
   "cell_type": "markdown",
   "metadata": {},
   "source": [
    "| Meeting Date | Meeting Time | Completed Before Meeting                                                               | Discuss at Meeting                                                                                      |\n",
    "|--------------|--------------|----------------------------------------------------------------------------------------|---------------------------------------------------------------------------------------------------------|\n",
    "| 10/30        | 5 PM         | Project Proposal Sections Complete                                                     | Determine best form of communication; Discuss and decide on final project topic; discuss hypothesis; begin background research |\n",
    "| 11/6         | 5 PM         | Select Dataset(s), perform Exploratory Data Analysis. Have a solid grasp of Datasets. Commit initial deliverables to Github repository | Upload Datasets to a notebook, discuss methods to clean Datasets and discuss an analysis approach. Learn how to manage the group’s Github repository. |\n",
    "| 11/13        | 5 PM         | Discuss at least 3 visualizations, and be able to explain the steps to making the charts with the data | Gather feedback from other group members, criticize relevance of charts pertaining to objective questions and the Null Hypothesis. |\n",
    "| 11/20        | 5 PM         | Build Models (if need) to explain EDA. Finalize Analysis (EDA complete). (Rough Draft done at this point) | Understand what the entire analysis approach means and finalize EDA explanations. Plan for video recording. |\n",
    "| 11/27        | 5 PM         | Finish up Privacy Conclusion. If possible, have the video done as well.                | Final review of Project Notebook, from Start to Finish. Ensure thoroughness and quality of the project with the group. |\n",
    "| 11/30        | 5 PM         | Complete analysis; Final Draft results/conclusion/discussion (Wasp)                    | Discuss/edit full project. Review Video. Submit final project if desired.                               |\n",
    "| 12/4         | Before 11:59 PM | Ensure everything is submitted and available (on github) and deliverable is finalized. (if necessary) | None. Relax.                                                                                             |"
   ]
  }
 ],
 "metadata": {
  "kernelspec": {
   "display_name": "Python 3 (ipykernel)",
   "language": "python",
   "name": "python3"
  },
  "language_info": {
   "codemirror_mode": {
    "name": "ipython",
    "version": 3
   },
   "file_extension": ".py",
   "mimetype": "text/x-python",
   "name": "python",
   "nbconvert_exporter": "python",
   "pygments_lexer": "ipython3",
   "version": "3.9.7"
  }
 },
 "nbformat": 4,
 "nbformat_minor": 2
}
